{
 "cells": [
  {
   "cell_type": "markdown",
   "metadata": {},
   "source": [
    "# Docker homework"
   ]
  },
  {
   "cell_type": "markdown",
   "metadata": {},
   "source": [
    "In the demo you were shown how a Containerfile/Dockerfile looks like. You were also shown how to run containers and networks.\n",
    "\n",
    "You were also provided with an example server of NodeJS.\n",
    "\n",
    "Please provide the answers in this notebook"
   ]
  },
  {
   "cell_type": "markdown",
   "metadata": {},
   "source": [
    "## Warning\n",
    "Be sure to run it from the root so all files are avaiable to the notebook"
   ]
  },
  {
   "cell_type": "markdown",
   "metadata": {},
   "source": [
    "## Task 1\n",
    "Create a Dockerfile for the NodeJS server found in [basic-server](../basic-server).\n",
    "\n",
    "You must edit the [Dockerfile](../basic-server/Dockerfile) found in the basic-server folder.\n",
    "\n",
    "Remember to also bundle the dependecies listed in the package.json in the resulting image."
   ]
  },
  {
   "cell_type": "code",
   "execution_count": 28,
   "metadata": {
    "scrolled": false
   },
   "outputs": [
    {
     "name": "stdout",
     "output_type": "stream",
     "text": [
      "# start from a base image\n",
      "FROM node:latest\n",
      "\n",
      "# run various command, ussualy installs\n",
      "RUN apt-get update\n",
      "RUN apt-get install -y python3 python3-notebook jupyter jupyter-core\n",
      "\n",
      "RUN pip3 install pyzmq bash_kernel\n",
      "RUN npm i -g ijavascript\n",
      "RUN ijsinstall\n",
      "RUN python3 -m bash_kernel.install\n",
      "\n",
      "RUN apt-get update\n",
      "\n",
      "RUN apt-get install -y \\\n",
      "    apt-transport-https \\\n",
      "    ca-certificates \\\n",
      "    curl \\\n",
      "    gnupg \\\n",
      "    lsb-release\n",
      "\n",
      "RUN curl -fsSL https://get.docker.com -o /get-docker.sh\n",
      "\n",
      "RUN sh /get-docker.sh\n",
      "\n",
      "# final comand to run\n",
      "CMD jupyter notebook /usr/project --ip=0.0.0.0 --allow-root --NotebookApp.token='' --NotebookApp.password=''\n",
      "\n",
      "\n"
     ]
    }
   ],
   "source": [
    "# as an example check this out\n",
    "cat ../badass-jupyter/Dockerfile"
   ]
  },
  {
   "cell_type": "code",
   "execution_count": 29,
   "metadata": {},
   "outputs": [
    {
     "name": "stdout",
     "output_type": "stream",
     "text": [
      "# start from a base image\n",
      "FROM node:latest\n",
      "\n",
      "WORKDIR basic-server\n",
      "\n",
      "RUN npm install\n",
      "\n",
      "COPY . .\n",
      "\n",
      "CMD node index.js\n",
      "\n"
     ]
    }
   ],
   "source": [
    "# Do not alter\n",
    "cat ../basic-server/Dockerfile"
   ]
  },
  {
   "cell_type": "code",
   "execution_count": 3,
   "metadata": {},
   "outputs": [],
   "source": [
    "# Add the bash commands for task 1 here\n",
    "npm install"
   ]
  },
  {
   "cell_type": "markdown",
   "metadata": {},
   "source": [
    "## Task 2\n",
    "You must now run the server with the database and prove it works.\n",
    "\n",
    "Open the 2 containers(server+db) in the same network. Remember that you are also running this Jupiter server in a container, so you must also add this one to the network.\n",
    "\n",
    "Remember that you must also setup the database with the [sql script](../basic-server/setup.sql). Check the [docker image documentation](https://hub.docker.com/_/mariadb) for the best way to do this.\n"
   ]
  },
  {
   "cell_type": "code",
   "execution_count": null,
   "metadata": {},
   "outputs": [],
   "source": [
    "# Add the bash commands for task 2 here\n",
    "\n",
    "docker network create teo-network"
   ]
  },
  {
   "cell_type": "code",
   "execution_count": 52,
   "metadata": {},
   "outputs": [
    {
     "name": "stdout",
     "output_type": "stream",
     "text": [
      "f13d920035163ecba035d83e5d6e75ebc42e93ef49568a6890515a639d09fd5b\n"
     ]
    }
   ],
   "source": [
    "docker run -p 127.0.0.1:3306:3306 --network teo-network  --rm --name mariadb -v /usr/project/lib/basic-server/setup.sql -e MARIADB_ROOT_PASSWORD=pass -d mariadb:latest"
   ]
  },
  {
   "cell_type": "code",
   "execution_count": 16,
   "metadata": {},
   "outputs": [],
   "source": [
    "docker network connect teo-network badass-jupyter"
   ]
  },
  {
   "cell_type": "code",
   "execution_count": 53,
   "metadata": {
    "scrolled": true
   },
   "outputs": [
    {
     "name": "stdout",
     "output_type": "stream",
     "text": [
      "[\n",
      "    {\n",
      "        \"Name\": \"teo-network\",\n",
      "        \"Id\": \"d96b6ae8e8e94f07add0fb271bfd8bffe3c84ad2295b110f3d75ca2b91193f46\",\n",
      "        \"Created\": \"2021-05-28T12:09:02.798082751+03:00\",\n",
      "        \"Scope\": \"local\",\n",
      "        \"Driver\": \"bridge\",\n",
      "        \"EnableIPv6\": false,\n",
      "        \"IPAM\": {\n",
      "            \"Driver\": \"default\",\n",
      "            \"Options\": {},\n",
      "            \"Config\": [\n",
      "                {\n",
      "                    \"Subnet\": \"172.18.0.0/16\",\n",
      "                    \"Gateway\": \"172.18.0.1\"\n",
      "                }\n",
      "            ]\n",
      "        },\n",
      "        \"Internal\": false,\n",
      "        \"Attachable\": false,\n",
      "        \"Ingress\": false,\n",
      "        \"ConfigFrom\": {\n",
      "            \"Network\": \"\"\n",
      "        },\n",
      "        \"ConfigOnly\": false,\n",
      "        \"Containers\": {\n",
      "            \"c82fbe271e6f6b022b7b9d654d570f7e261134f3892dc4c8a81403caeada58e7\": {\n",
      "                \"Name\": \"badass-jupyter\",\n",
      "                \"EndpointID\": \"496f89c944ab756a2ecba446ca0277b2b844a911d1210719fcf3974ab2cca386\",\n",
      "                \"MacAddress\": \"02:42:ac:12:00:03\",\n",
      "                \"IPv4Address\": \"172.18.0.3/16\",\n",
      "                \"IPv6Address\": \"\"\n",
      "            },\n",
      "            \"f13d920035163ecba035d83e5d6e75ebc42e93ef49568a6890515a639d09fd5b\": {\n",
      "                \"Name\": \"mariadb\",\n",
      "                \"EndpointID\": \"e848cb4ea8510beaaf2faa1ee1dd7ec209fa9dabac28a381ccd1c43c274c4b05\",\n",
      "                \"MacAddress\": \"02:42:ac:12:00:02\",\n",
      "                \"IPv4Address\": \"172.18.0.2/16\",\n",
      "                \"IPv6Address\": \"\"\n",
      "            }\n",
      "        },\n",
      "        \"Options\": {},\n",
      "        \"Labels\": {}\n",
      "    }\n",
      "]\n"
     ]
    }
   ],
   "source": [
    "docker network inspect teo-network"
   ]
  },
  {
   "cell_type": "code",
   "execution_count": 56,
   "metadata": {},
   "outputs": [
    {
     "name": "stdout",
     "output_type": "stream",
     "text": [
      "Sending build context to Docker daemon  6.656kB\n",
      "Step 1/4 : FROM node:latest\n",
      " ---> 7493e35c7ffa\n",
      "Step 2/4 : COPY . .\n",
      " ---> 414b2ed73147\n",
      "Step 3/4 : RUN npm install -g npm@7.15.0\n",
      " ---> Running in a7fbe783b4a1\n",
      "\n",
      "changed 14 packages, and audited 255 packages in 29s\n",
      "\n",
      "11 packages are looking for funding\n",
      "  run `npm fund` for details\n",
      "\n",
      "found 0 vulnerabilities\n",
      "\u001b[91mnpm notice \n",
      "npm \u001b[0m\u001b[91mnotice\u001b[0m\u001b[91m New minor version of npm available! 7.13.0 -> 7.15.0\n",
      "npm \u001b[0m\u001b[91mnotice Changelog: <https://github.com/npm/cli/releases/tag/v7.15.0>\n",
      "npm \u001b[0m\u001b[91mnotice Run `npm install -g npm@7.15.0` to update!\n",
      "npm notice \n",
      "\u001b[0mRemoving intermediate container a7fbe783b4a1\n",
      " ---> 63bfcf56dbf3\n",
      "Step 4/4 : CMD node index.js\n",
      " ---> Running in 2c3425b3a493\n",
      "Removing intermediate container 2c3425b3a493\n",
      " ---> 489852d04e37\n",
      "Successfully built 489852d04e37\n",
      "Successfully tagged basic-server:latest\n"
     ]
    }
   ],
   "source": [
    "cd ../basic-server\n",
    "docker build -t basic-server ."
   ]
  },
  {
   "cell_type": "code",
   "execution_count": 57,
   "metadata": {},
   "outputs": [
    {
     "name": "stdout",
     "output_type": "stream",
     "text": [
      "node:internal/process/esm_loader:74\n",
      "    internalBinding('errors').triggerUncaughtException(\n",
      "                              ^\n",
      "\n",
      "Error [ERR_MODULE_NOT_FOUND]: Cannot find package 'fastify' imported from /index.js\n",
      "    at new NodeError (node:internal/errors:363:5)\n",
      "    at packageResolve (node:internal/modules/esm/resolve:698:9)\n",
      "    at moduleResolve (node:internal/modules/esm/resolve:739:18)\n",
      "    at Loader.defaultResolve [as _resolve] (node:internal/modules/esm/resolve:853:11)\n",
      "    at Loader.resolve (node:internal/modules/esm/loader:89:40)\n",
      "    at Loader.getModuleJob (node:internal/modules/esm/loader:242:28)\n",
      "    at ModuleWrap.<anonymous> (node:internal/modules/esm/module_job:73:40)\n",
      "    at link (node:internal/modules/esm/module_job:72:36) {\n",
      "  code: 'ERR_MODULE_NOT_FOUND'\n",
      "}\n"
     ]
    },
    {
     "ename": "",
     "evalue": "1",
     "output_type": "error",
     "traceback": []
    }
   ],
   "source": [
    "docker run -p 127.0.0.1:3001:3001 --network teo-network --rm --name basic-server basic-server:latest"
   ]
  },
  {
   "cell_type": "code",
   "execution_count": 50,
   "metadata": {},
   "outputs": [
    {
     "name": "stdout",
     "output_type": "stream",
     "text": [
      "mariadb\n"
     ]
    }
   ],
   "source": [
    "docker stop mariadb"
   ]
  },
  {
   "cell_type": "code",
   "execution_count": 51,
   "metadata": {},
   "outputs": [
    {
     "name": "stdout",
     "output_type": "stream",
     "text": [
      "CONTAINER ID   IMAGE                           COMMAND                  CREATED       STATUS       PORTS                                       NAMES\n",
      "c82fbe271e6f   mihai1voicescu/badass-jupyter   \"docker-entrypoint.s…\"   2 hours ago   Up 2 hours   0.0.0.0:8888->8888/tcp, :::8888->8888/tcp   badass-jupyter\n"
     ]
    }
   ],
   "source": [
    "docker container ls"
   ]
  },
  {
   "cell_type": "code",
   "execution_count": 37,
   "metadata": {},
   "outputs": [
    {
     "name": "stdout",
     "output_type": "stream",
     "text": [
      "CONTAINER ID   IMAGE                           COMMAND                  CREATED             STATUS             PORTS                                       NAMES\n",
      "b75651c1cce4   mariadb:latest                  \"docker-entrypoint.s…\"   About an hour ago   Up About an hour   127.0.0.1:3306->3306/tcp                    mariadb\n",
      "c82fbe271e6f   mihai1voicescu/badass-jupyter   \"docker-entrypoint.s…\"   2 hours ago         Up 2 hours         0.0.0.0:8888->8888/tcp, :::8888->8888/tcp   badass-jupyter\n"
     ]
    }
   ],
   "source": [
    "docker ps"
   ]
  },
  {
   "cell_type": "code",
   "execution_count": 33,
   "metadata": {},
   "outputs": [
    {
     "name": "stdout",
     "output_type": "stream",
     "text": [
      "curl: (6) Could not resolve host: basic-server\n"
     ]
    },
    {
     "ename": "",
     "evalue": "6",
     "output_type": "error",
     "traceback": []
    }
   ],
   "source": [
    "# Do not alter, should return our admin gogu\n",
    "curl basic-server:3001"
   ]
  }
 ],
 "metadata": {
  "kernelspec": {
   "display_name": "Bash",
   "language": "bash",
   "name": "bash"
  },
  "language_info": {
   "codemirror_mode": "shell",
   "file_extension": ".sh",
   "mimetype": "text/x-sh",
   "name": "bash"
  }
 },
 "nbformat": 4,
 "nbformat_minor": 2
}
