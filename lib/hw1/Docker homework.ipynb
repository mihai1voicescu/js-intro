{
 "cells": [
  {
   "cell_type": "markdown",
   "metadata": {},
   "source": [
    "# Docker homework"
   ]
  },
  {
   "cell_type": "markdown",
   "metadata": {},
   "source": [
    "In the demo you were shown how a Containerfile/Dockerfile looks like. You were also shown how to run containers and networks.\n",
    "\n",
    "You were also provided with an example server of NodeJS.\n",
    "\n",
    "Please provide the answers in this notebook"
   ]
  },
  {
   "cell_type": "markdown",
   "metadata": {},
   "source": [
    "## Warning\n",
    "Be sure to run it from the root so all files are avaiable to the notebook"
   ]
  },
  {
   "cell_type": "markdown",
   "metadata": {},
   "source": [
    "## Task 1\n",
    "Create a Dockerfile for the NodeJS server found in [basic-server](../basic-server).\n",
    "\n",
    "You must edit the [Dockerfile](../basic-server/Dockerfile) found in the basic-server folder.\n",
    "\n",
    "Remember to also bundle the dependecies listed in the package.json in the resulting image."
   ]
  },
  {
   "cell_type": "code",
   "execution_count": 1,
   "metadata": {},
   "outputs": [
    {
     "name": "stdout",
     "output_type": "stream",
     "text": [
      "# start from a base image\n",
      "FROM node:latest\n",
      "\n",
      "# run various command, ussualy installs\n",
      "RUN apt-get update\n",
      "RUN apt-get install -y python3 python3-notebook jupyter jupyter-core\n",
      "\n",
      "RUN pip3 install pyzmq bash_kernel\n",
      "RUN npm i -g ijavascript\n",
      "RUN ijsinstall\n",
      "RUN python3 -m bash_kernel.install\n",
      "\n",
      "RUN apt-get update\n",
      "\n",
      "RUN apt-get install -y \\\n",
      "    apt-transport-https \\\n",
      "    ca-certificates \\\n",
      "    curl \\\n",
      "    gnupg \\\n",
      "    lsb-release\n",
      "\n",
      "RUN curl -fsSL https://get.docker.com -o /get-docker.sh\n",
      "\n",
      "RUN sh /get-docker.sh\n",
      "\n",
      "# final comand to run\n",
      "CMD jupyter notebook /usr/project --ip=0.0.0.0 --allow-root --NotebookApp.token='' --NotebookApp.password=''\n",
      "\n",
      "\n"
     ]
    }
   ],
   "source": [
    "# as an example check this out\n",
    "cat ../badass-jupyter/Dockerfile"
   ]
  },
  {
   "cell_type": "code",
   "execution_count": 2,
   "metadata": {},
   "outputs": [
    {
     "name": "stdout",
     "output_type": "stream",
     "text": [
      "FROM node:latest\n",
      "\n",
      "EXPOSE 3001\n",
      "\n",
      "WORKDIR /usr/basic_server\n",
      "\n",
      "COPY * /usr/basic_server/\n",
      "\n",
      "RUN npm install\n",
      "\n",
      "CMD [\"cd\", \"/usr/basic_server\"]\n",
      "CMD [\"node\", \"index.js\"]Error response from daemon: network with name basic-server already exists\n"
     ]
    },
    {
     "ename": "",
     "evalue": "1",
     "output_type": "error",
     "traceback": []
    }
   ],
   "source": [
    "# Do not alter\n",
    "cat ../basic-server/Dockerfile\n",
    "docker network create basic-server"
   ]
  },
  {
   "cell_type": "code",
   "execution_count": 3,
   "metadata": {},
   "outputs": [
    {
     "name": "stdout",
     "output_type": "stream",
     "text": [
      "Sending build context to Docker daemon   7.68kB\n",
      "Step 1/7 : FROM node:latest\n",
      "latest: Pulling from library/node\n",
      "\n",
      "\u001b[1B726af2be: Already exists \n",
      "\u001b[1B2473a22d: Already exists \n",
      "\u001b[1Bbc0fad55: Already exists \n",
      "\u001b[1B43ee54c1: Already exists \n",
      "\u001b[1B6f723709: Already exists \n",
      "\u001b[1B3f32765b: Already exists \n",
      "\u001b[1Bcd906e85: Already exists \n",
      "\u001b[1B015c57b4: Already exists \n",
      "\u001b[1BDigest: sha256:025d33d7797aaad52c0e3c96699814946093d4b50f792ec35cbd2f57278b94f2\n",
      "Status: Downloaded newer image for node:latest\n",
      " ---> 7493e35c7ffa\n",
      "Step 2/7 : EXPOSE 3001\n",
      " ---> Running in 68759672429a\n",
      "Removing intermediate container 68759672429a\n",
      " ---> 7c04c7e76116\n",
      "Step 3/7 : WORKDIR /usr/basic_server\n",
      " ---> Running in 34f15619b6b2\n",
      "Removing intermediate container 34f15619b6b2\n",
      " ---> 44bb29d6fe69\n",
      "Step 4/7 : COPY * /usr/basic_server/\n",
      " ---> b5fe76438ac9\n",
      "Step 5/7 : RUN npm install\n",
      " ---> Running in e27ad36880ad\n",
      "\n",
      "added 63 packages, and audited 64 packages in 28s\n",
      "\n",
      "3 packages are looking for funding\n",
      "  run `npm fund` for details\n",
      "\n",
      "found 0 vulnerabilities\n",
      "\u001b[91mnpm\u001b[0m\u001b[91m \u001b[0m\u001b[91mnotice\u001b[0m\u001b[91m \n",
      "\u001b[0m\u001b[91mnpm\u001b[0m\u001b[91m \u001b[0m\u001b[91mnotice\u001b[0m\u001b[91m New minor version of npm available! 7.13.0 -> 7.14.0\n",
      "\u001b[0m\u001b[91mnpm\u001b[0m\u001b[91m \u001b[0m\u001b[91mnotice\u001b[0m\u001b[91m Changelog: <https://github.com/npm/cli/releases/tag/v7.14.0>\n",
      "\u001b[0m\u001b[91mnpm\u001b[0m\u001b[91m \u001b[0m\u001b[91mnotice\u001b[0m\u001b[91m Run `npm install -g npm@7.14.0` to update!\n",
      "\u001b[0m\u001b[91mnpm\u001b[0m\u001b[91m \u001b[0m\u001b[91mnotice\u001b[0m\u001b[91m \n",
      "\u001b[0mRemoving intermediate container e27ad36880ad\n",
      " ---> f06ec0bcbfd9\n",
      "Step 6/7 : CMD [\"cd\", \"/usr/basic_server\"]\n",
      " ---> Running in ebffb3f5c4a2\n",
      "Removing intermediate container ebffb3f5c4a2\n",
      " ---> 625daa9ac78a\n",
      "Step 7/7 : CMD [\"node\", \"index.js\"]\n",
      " ---> Running in 525005de9a6e\n",
      "Removing intermediate container 525005de9a6e\n",
      " ---> 1528971503eb\n",
      "Successfully built 1528971503eb\n",
      "Successfully tagged basic-server:latest\n"
     ]
    }
   ],
   "source": [
    "# Add the bash commands for task 1 here\n",
    "cd /usr/project/basic-server\n",
    "docker build -t basic-server ."
   ]
  },
  {
   "cell_type": "code",
   "execution_count": 4,
   "metadata": {},
   "outputs": [
    {
     "name": "stdout",
     "output_type": "stream",
     "text": [
      "Sending build context to Docker daemon  3.584kB\n",
      "Step 1/2 : FROM mariadb:latest\n",
      "latest: Pulling from library/mariadb\n",
      "\n",
      "\u001b[1B3491a907: Pulling fs layer \n",
      "\u001b[1B1312ef6f: Pulling fs layer \n",
      "\u001b[1B50ddb7d0: Pulling fs layer \n",
      "\u001b[1B2e2ff778: Pulling fs layer \n",
      "\u001b[1Ba7dc2af9: Pulling fs layer \n",
      "\u001b[1Bf4f4774a: Pulling fs layer \n",
      "\u001b[1B9f940bd2: Pulling fs layer \n",
      "\u001b[1B6ea8f4b9: Pulling fs layer \n",
      "\u001b[1Bc4d334a0: Pulling fs layer \n",
      "\u001b[1Bf65594e2: Pulling fs layer \n",
      "\u001b[1Bd5c12f84: Pulling fs layer \n",
      "\u001b[1BDigest: sha256:018ee5055ef34fd95dae490266da232cd527625704c6badf84006b36f49ad265\n",
      "Status: Downloaded newer image for mariadb:latest\n",
      " ---> 2a2c18b8e036\n",
      "Step 2/2 : COPY setup.sql /docker-entrypoint-initdb.d/setup.sql\n",
      " ---> 650192f03be4\n",
      "Successfully built 650192f03be4\n",
      "Successfully tagged mymariadb:latest\n"
     ]
    }
   ],
   "source": [
    "# Add the bash commands for task 1 here\n",
    "cd /usr/project/mariadb\n",
    "docker build -t mymariadb ."
   ]
  },
  {
   "cell_type": "code",
   "execution_count": 5,
   "metadata": {},
   "outputs": [
    {
     "name": "stdout",
     "output_type": "stream",
     "text": [
      "Error response from daemon: Cannot kill container: basic-server: No such container: basic-server\n",
      "Error: No such container: basic-server\n"
     ]
    },
    {
     "ename": "",
     "evalue": "1",
     "output_type": "error",
     "traceback": []
    }
   ],
   "source": [
    "docker kill basic-server\n",
    "docker rm basic-server"
   ]
  },
  {
   "cell_type": "code",
   "execution_count": 6,
   "metadata": {},
   "outputs": [
    {
     "name": "stdout",
     "output_type": "stream",
     "text": [
      "f2f3a016219e8f882e7f762d5a9601e6b52f6145bc3b1713aa2d47d38179fad8\n"
     ]
    }
   ],
   "source": [
    "docker run -d -p 3001:3001 --network basic-server --name=basic-server basic-server"
   ]
  },
  {
   "cell_type": "code",
   "execution_count": 7,
   "metadata": {},
   "outputs": [
    {
     "name": "stdout",
     "output_type": "stream",
     "text": [
      "Error response from daemon: Cannot kill container: mariadb: No such container: mariadb\n",
      "Error: No such container: mariadb\n"
     ]
    },
    {
     "ename": "",
     "evalue": "1",
     "output_type": "error",
     "traceback": []
    }
   ],
   "source": [
    "docker kill mariadb\n",
    "docker rm mariadb"
   ]
  },
  {
   "cell_type": "code",
   "execution_count": 8,
   "metadata": {},
   "outputs": [
    {
     "name": "stdout",
     "output_type": "stream",
     "text": [
      "27a8755894f8542be1b1510557dcc2a8ac4d5f9a0be3bfad9ee3b00840ab1289\n"
     ]
    }
   ],
   "source": [
    "cd /usr/project/basic-server\n",
    "docker run -d -p 3306:3306 --network basic-server --name=mariadb -eMARIADB_ROOT_PASSWORD=pass mymariadb\n",
    "#docker run -d -p 3306:3306 --network basic-server --name=mariadb -eMARIADB_ROOT_PASSWORD=pass -v \"$(pwd)/init_folder/\":/docker-entrypoint-initdb.d/ mariadb:latest"
   ]
  },
  {
   "cell_type": "markdown",
   "metadata": {},
   "source": [
    "## Task 2\n",
    "You must now run the server with the database and prove it works.\n",
    "\n",
    "Open the 2 containers(server+db) in the same network. Remember that you are also running this Jupiter server in a container, so you must also add this one to the network.\n",
    "\n",
    "Remember that you must also setup the database with the [sql script](../basic-server/setup.sql). Check the [docker image documentation](https://hub.docker.com/_/mariadb) for the best way to do this.\n"
   ]
  },
  {
   "cell_type": "code",
   "execution_count": 4,
   "metadata": {},
   "outputs": [],
   "source": [
    "# Add the bash commands for task 2 here"
   ]
  },
  {
   "cell_type": "code",
   "execution_count": 12,
   "metadata": {},
   "outputs": [
    {
     "name": "stdout",
     "output_type": "stream",
     "text": [
      "[{\"id\":1,\"name\":\"gogu\",\"type\":\"ADMIN\"}]"
     ]
    }
   ],
   "source": [
    "# Do not alter, should return our admin gogu\n",
    "curl basic-server:3001"
   ]
  },
  {
   "cell_type": "code",
   "execution_count": 13,
   "metadata": {},
   "outputs": [
    {
     "name": "stdout",
     "output_type": "stream",
     "text": [
      "2021-05-23 14:50:39+00:00 [Note] [Entrypoint]: Entrypoint script for MariaDB Server 1:10.5.10+maria~focal started.\n",
      "2021-05-23 14:50:39+00:00 [Note] [Entrypoint]: Switching to dedicated user 'mysql'\n",
      "2021-05-23 14:50:39+00:00 [Note] [Entrypoint]: Entrypoint script for MariaDB Server 1:10.5.10+maria~focal started.\n",
      "2021-05-23 14:50:40+00:00 [Note] [Entrypoint]: Initializing database files\n",
      "\n",
      "\n",
      "PLEASE REMEMBER TO SET A PASSWORD FOR THE MariaDB root USER !\n",
      "To do so, start the server, then issue the following command:\n",
      "\n",
      "'/usr/bin/mysql_secure_installation'\n",
      "\n",
      "which will also give you the option of removing the test\n",
      "databases and anonymous user created by default.  This is\n",
      "strongly recommended for production servers.\n",
      "\n",
      "See the MariaDB Knowledgebase at https://mariadb.com/kb or the\n",
      "MySQL manual for more instructions.\n",
      "\n",
      "Please report any problems at https://mariadb.org/jira\n",
      "\n",
      "The latest information about MariaDB is available at https://mariadb.org/.\n",
      "You can find additional information about the MySQL part at:\n",
      "https://dev.mysql.com\n",
      "Consider joining MariaDB's strong and vibrant community:\n",
      "https://mariadb.org/get-involved/\n",
      "\n",
      "2021-05-23 14:50:41+00:00 [Note] [Entrypoint]: Database files initialized\n",
      "2021-05-23 14:50:41+00:00 [Note] [Entrypoint]: Starting temporary server\n",
      "2021-05-23 14:50:41+00:00 [Note] [Entrypoint]: Waiting for server startup\n",
      "2021-05-23 14:50:41 0 [Note] mysqld (mysqld 10.5.10-MariaDB-1:10.5.10+maria~focal) starting as process 98 ...\n",
      "2021-05-23 14:50:41 0 [Note] InnoDB: Uses event mutexes\n",
      "2021-05-23 14:50:41 0 [Note] InnoDB: Compressed tables use zlib 1.2.11\n",
      "2021-05-23 14:50:41 0 [Note] InnoDB: Number of pools: 1\n",
      "2021-05-23 14:50:41 0 [Note] InnoDB: Using crc32 + pclmulqdq instructions\n",
      "2021-05-23 14:50:41 0 [Note] mysqld: O_TMPFILE is not supported on /tmp (disabling future attempts)\n",
      "2021-05-23 14:50:41 0 [Note] InnoDB: Using Linux native AIO\n",
      "2021-05-23 14:50:41 0 [Note] InnoDB: Initializing buffer pool, total size = 134217728, chunk size = 134217728\n",
      "2021-05-23 14:50:41 0 [Note] InnoDB: Completed initialization of buffer pool\n",
      "2021-05-23 14:50:41 0 [Note] InnoDB: 128 rollback segments are active.\n",
      "2021-05-23 14:50:41 0 [Note] InnoDB: Creating shared tablespace for temporary tables\n",
      "2021-05-23 14:50:41 0 [Note] InnoDB: Setting file './ibtmp1' size to 12 MB. Physically writing the file full; Please wait ...\n",
      "2021-05-23 14:50:41 0 [Note] InnoDB: File './ibtmp1' size is now 12 MB.\n",
      "2021-05-23 14:50:41 0 [Note] InnoDB: 10.5.10 started; log sequence number 45118; transaction id 20\n",
      "2021-05-23 14:50:41 0 [Note] Plugin 'FEEDBACK' is disabled.\n",
      "2021-05-23 14:50:41 0 [Note] InnoDB: Loading buffer pool(s) from /var/lib/mysql/ib_buffer_pool\n",
      "2021-05-23 14:50:41 0 [Note] InnoDB: Buffer pool(s) load completed at 210523 14:50:41\n",
      "2021-05-23 14:50:41 0 [Warning] 'user' entry 'root@27a8755894f8' ignored in --skip-name-resolve mode.\n",
      "2021-05-23 14:50:41 0 [Warning] 'proxies_priv' entry '@% root@27a8755894f8' ignored in --skip-name-resolve mode.\n",
      "2021-05-23 14:50:41 0 [Note] Reading of all Master_info entries succeeded\n",
      "2021-05-23 14:50:41 0 [Note] Added new Master_info '' to hash table\n",
      "2021-05-23 14:50:41 0 [Note] mysqld: ready for connections.\n",
      "Version: '10.5.10-MariaDB-1:10.5.10+maria~focal'  socket: '/run/mysqld/mysqld.sock'  port: 0  mariadb.org binary distribution\n",
      "2021-05-23 14:50:42+00:00 [Note] [Entrypoint]: Temporary server started.\n",
      "Warning: Unable to load '/usr/share/zoneinfo/leap-seconds.list' as time zone. Skipping it.\n",
      "Warning: Unable to load '/usr/share/zoneinfo/leapseconds' as time zone. Skipping it.\n",
      "Warning: Unable to load '/usr/share/zoneinfo/tzdata.zi' as time zone. Skipping it.\n",
      "2021-05-23 14:50:48 5 [Warning] 'proxies_priv' entry '@% root@27a8755894f8' ignored in --skip-name-resolve mode.\n",
      "\n",
      "2021-05-23 14:50:48+00:00 [Note] [Entrypoint]: /usr/local/bin/docker-entrypoint.sh: running /docker-entrypoint-initdb.d/setup.sql\n",
      "\n",
      "\n",
      "2021-05-23 14:50:48+00:00 [Note] [Entrypoint]: Stopping temporary server\n",
      "2021-05-23 14:50:48 0 [Note] mysqld (initiated by: root[root] @ localhost []): Normal shutdown\n",
      "2021-05-23 14:50:48 0 [Note] Event Scheduler: Purging the queue. 0 events\n",
      "2021-05-23 14:50:48 0 [Note] InnoDB: FTS optimize thread exiting.\n",
      "2021-05-23 14:50:48 0 [Note] InnoDB: Starting shutdown...\n",
      "2021-05-23 14:50:48 0 [Note] InnoDB: Dumping buffer pool(s) to /var/lib/mysql/ib_buffer_pool\n",
      "2021-05-23 14:50:48 0 [Note] InnoDB: Buffer pool(s) dump completed at 210523 14:50:48\n",
      "2021-05-23 14:50:48 0 [Note] InnoDB: Removed temporary tablespace data file: \"ibtmp1\"\n",
      "2021-05-23 14:50:48 0 [Note] InnoDB: Shutdown completed; log sequence number 47455; transaction id 30\n",
      "2021-05-23 14:50:48 0 [Note] mysqld: Shutdown complete\n",
      "\n",
      "2021-05-23 14:50:49+00:00 [Note] [Entrypoint]: Temporary server stopped\n",
      "\n",
      "2021-05-23 14:50:49+00:00 [Note] [Entrypoint]: MariaDB init process done. Ready for start up.\n",
      "\n",
      "2021-05-23 14:50:49 0 [Note] mysqld (mysqld 10.5.10-MariaDB-1:10.5.10+maria~focal) starting as process 1 ...\n",
      "2021-05-23 14:50:49 0 [Note] InnoDB: Uses event mutexes\n",
      "2021-05-23 14:50:49 0 [Note] InnoDB: Compressed tables use zlib 1.2.11\n",
      "2021-05-23 14:50:49 0 [Note] InnoDB: Number of pools: 1\n",
      "2021-05-23 14:50:49 0 [Note] InnoDB: Using crc32 + pclmulqdq instructions\n",
      "2021-05-23 14:50:49 0 [Note] mysqld: O_TMPFILE is not supported on /tmp (disabling future attempts)\n",
      "2021-05-23 14:50:49 0 [Note] InnoDB: Using Linux native AIO\n",
      "2021-05-23 14:50:49 0 [Note] InnoDB: Initializing buffer pool, total size = 134217728, chunk size = 134217728\n",
      "2021-05-23 14:50:49 0 [Note] InnoDB: Completed initialization of buffer pool\n",
      "2021-05-23 14:50:49 0 [Note] InnoDB: 128 rollback segments are active.\n",
      "2021-05-23 14:50:49 0 [Note] InnoDB: Creating shared tablespace for temporary tables\n",
      "2021-05-23 14:50:49 0 [Note] InnoDB: Setting file './ibtmp1' size to 12 MB. Physically writing the file full; Please wait ...\n",
      "2021-05-23 14:50:49 0 [Note] InnoDB: File './ibtmp1' size is now 12 MB.\n",
      "2021-05-23 14:50:49 0 [Note] InnoDB: 10.5.10 started; log sequence number 47455; transaction id 31\n",
      "2021-05-23 14:50:49 0 [Note] Plugin 'FEEDBACK' is disabled.\n",
      "2021-05-23 14:50:49 0 [Note] InnoDB: Loading buffer pool(s) from /var/lib/mysql/ib_buffer_pool\n",
      "2021-05-23 14:50:49 0 [Note] InnoDB: Buffer pool(s) load completed at 210523 14:50:49\n",
      "2021-05-23 14:50:49 0 [Note] Server socket created on IP: '::'.\n",
      "2021-05-23 14:50:49 0 [Warning] 'proxies_priv' entry '@% root@27a8755894f8' ignored in --skip-name-resolve mode.\n",
      "2021-05-23 14:50:49 0 [Note] Reading of all Master_info entries succeeded\n",
      "2021-05-23 14:50:49 0 [Note] Added new Master_info '' to hash table\n",
      "2021-05-23 14:50:49 0 [Note] mysqld: ready for connections.\n",
      "Version: '10.5.10-MariaDB-1:10.5.10+maria~focal'  socket: '/run/mysqld/mysqld.sock'  port: 3306  mariadb.org binary distribution\n"
     ]
    }
   ],
   "source": [
    "docker logs mariadb"
   ]
  },
  {
   "cell_type": "code",
   "execution_count": 14,
   "metadata": {},
   "outputs": [
    {
     "name": "stdout",
     "output_type": "stream",
     "text": [
      "{\"level\":30,\"time\":1621781435614,\"pid\":1,\"hostname\":\"f2f3a016219e\",\"msg\":\"Server listening at http://0.0.0.0:3001\"}\n",
      "{\"level\":30,\"time\":1621781435620,\"pid\":1,\"hostname\":\"f2f3a016219e\",\"msg\":\"Listening http://0.0.0.0:3001\"}\n",
      "{\"level\":30,\"time\":1621781442331,\"pid\":1,\"hostname\":\"f2f3a016219e\",\"reqId\":\"req-1\",\"req\":{\"method\":\"GET\",\"url\":\"/\",\"hostname\":\"basic-server:3001\",\"remoteAddress\":\"172.19.0.2\",\"remotePort\":49178},\"msg\":\"incoming request\"}\n",
      "{\"level\":50,\"time\":1621781442378,\"pid\":1,\"hostname\":\"f2f3a016219e\",\"reqId\":\"req-1\",\"req\":{\"method\":\"GET\",\"url\":\"/\",\"hostname\":\"basic-server:3001\",\"remoteAddress\":\"172.19.0.2\",\"remotePort\":49178},\"res\":{\"statusCode\":500},\"err\":{\"type\":\"Error\",\"message\":\"connect ECONNREFUSED 172.19.0.4:3306\",\"stack\":\"Error: connect ECONNREFUSED 172.19.0.4:3306\\n    at createConnection (/usr/basic_server/node_modules/mysql2/promise.js:241:31)\\n    at Object.<anonymous> (file:///usr/basic_server/index.js:19:27)\\n    at preHandlerCallback (/usr/basic_server/node_modules/fastify/lib/handleRequest.js:124:28)\\n    at preValidationCallback (/usr/basic_server/node_modules/fastify/lib/handleRequest.js:107:5)\\n    at handler (/usr/basic_server/node_modules/fastify/lib/handleRequest.js:70:7)\\n    at handleRequest (/usr/basic_server/node_modules/fastify/lib/handleRequest.js:18:5)\\n    at runPreParsing (/usr/basic_server/node_modules/fastify/lib/route.js:422:5)\\n    at Object.routeHandler [as handler] (/usr/basic_server/node_modules/fastify/lib/route.js:380:7)\\n    at Router.lookup (/usr/basic_server/node_modules/find-my-way/index.js:339:14)\\n    at Server.emit (node:events:365:28)\",\"code\":\"ECONNREFUSED\",\"errno\":-111},\"msg\":\"connect ECONNREFUSED 172.19.0.4:3306\"}\n",
      "{\"level\":30,\"time\":1621781442421,\"pid\":1,\"hostname\":\"f2f3a016219e\",\"reqId\":\"req-1\",\"res\":{\"statusCode\":500},\"responseTime\":86.57479800283909,\"msg\":\"request completed\"}\n",
      "{\"level\":30,\"time\":1621781446400,\"pid\":1,\"hostname\":\"f2f3a016219e\",\"reqId\":\"req-2\",\"req\":{\"method\":\"GET\",\"url\":\"/\",\"hostname\":\"basic-server:3001\",\"remoteAddress\":\"172.19.0.2\",\"remotePort\":49182},\"msg\":\"incoming request\"}\n",
      "{\"level\":50,\"time\":1621781446408,\"pid\":1,\"hostname\":\"f2f3a016219e\",\"reqId\":\"req-2\",\"req\":{\"method\":\"GET\",\"url\":\"/\",\"hostname\":\"basic-server:3001\",\"remoteAddress\":\"172.19.0.2\",\"remotePort\":49182},\"res\":{\"statusCode\":500},\"err\":{\"type\":\"Error\",\"message\":\"connect ECONNREFUSED 172.19.0.4:3306\",\"stack\":\"Error: connect ECONNREFUSED 172.19.0.4:3306\\n    at createConnection (/usr/basic_server/node_modules/mysql2/promise.js:241:31)\\n    at Object.<anonymous> (file:///usr/basic_server/index.js:19:27)\\n    at preHandlerCallback (/usr/basic_server/node_modules/fastify/lib/handleRequest.js:124:28)\\n    at preValidationCallback (/usr/basic_server/node_modules/fastify/lib/handleRequest.js:107:5)\\n    at handler (/usr/basic_server/node_modules/fastify/lib/handleRequest.js:70:7)\\n    at handleRequest (/usr/basic_server/node_modules/fastify/lib/handleRequest.js:18:5)\\n    at runPreParsing (/usr/basic_server/node_modules/fastify/lib/route.js:422:5)\\n    at Object.routeHandler [as handler] (/usr/basic_server/node_modules/fastify/lib/route.js:380:7)\\n    at Router.lookup (/usr/basic_server/node_modules/find-my-way/index.js:339:14)\\n    at Server.emit (node:events:365:28)\",\"code\":\"ECONNREFUSED\",\"errno\":-111},\"msg\":\"connect ECONNREFUSED 172.19.0.4:3306\"}\n",
      "{\"level\":30,\"time\":1621781446429,\"pid\":1,\"hostname\":\"f2f3a016219e\",\"reqId\":\"req-2\",\"res\":{\"statusCode\":500},\"responseTime\":27.31888099759817,\"msg\":\"request completed\"}\n",
      "{\"level\":30,\"time\":1621781448107,\"pid\":1,\"hostname\":\"f2f3a016219e\",\"reqId\":\"req-3\",\"req\":{\"method\":\"GET\",\"url\":\"/\",\"hostname\":\"basic-server:3001\",\"remoteAddress\":\"172.19.0.2\",\"remotePort\":49186},\"msg\":\"incoming request\"}\n",
      "{\"level\":50,\"time\":1621781448154,\"pid\":1,\"hostname\":\"f2f3a016219e\",\"reqId\":\"req-3\",\"req\":{\"method\":\"GET\",\"url\":\"/\",\"hostname\":\"basic-server:3001\",\"remoteAddress\":\"172.19.0.2\",\"remotePort\":49186},\"res\":{\"statusCode\":500},\"err\":{\"type\":\"Error\",\"message\":\"connect ECONNREFUSED 172.19.0.4:3306\",\"stack\":\"Error: connect ECONNREFUSED 172.19.0.4:3306\\n    at createConnection (/usr/basic_server/node_modules/mysql2/promise.js:241:31)\\n    at Object.<anonymous> (file:///usr/basic_server/index.js:19:27)\\n    at preHandlerCallback (/usr/basic_server/node_modules/fastify/lib/handleRequest.js:124:28)\\n    at preValidationCallback (/usr/basic_server/node_modules/fastify/lib/handleRequest.js:107:5)\\n    at handler (/usr/basic_server/node_modules/fastify/lib/handleRequest.js:70:7)\\n    at handleRequest (/usr/basic_server/node_modules/fastify/lib/handleRequest.js:18:5)\\n    at runPreParsing (/usr/basic_server/node_modules/fastify/lib/route.js:422:5)\\n    at Object.routeHandler [as handler] (/usr/basic_server/node_modules/fastify/lib/route.js:380:7)\\n    at Router.lookup (/usr/basic_server/node_modules/find-my-way/index.js:339:14)\\n    at Server.emit (node:events:365:28)\",\"code\":\"ECONNREFUSED\",\"errno\":-111},\"msg\":\"connect ECONNREFUSED 172.19.0.4:3306\"}\n",
      "{\"level\":30,\"time\":1621781448170,\"pid\":1,\"hostname\":\"f2f3a016219e\",\"reqId\":\"req-3\",\"res\":{\"statusCode\":500},\"responseTime\":51.485004998743534,\"msg\":\"request completed\"}\n",
      "{\"level\":30,\"time\":1621781450104,\"pid\":1,\"hostname\":\"f2f3a016219e\",\"reqId\":\"req-4\",\"req\":{\"method\":\"GET\",\"url\":\"/\",\"hostname\":\"basic-server:3001\",\"remoteAddress\":\"172.19.0.2\",\"remotePort\":49190},\"msg\":\"incoming request\"}\n",
      "new request\n",
      "{\"level\":30,\"time\":1621781450174,\"pid\":1,\"hostname\":\"f2f3a016219e\",\"reqId\":\"req-4\",\"res\":{\"statusCode\":200},\"responseTime\":69.30365100130439,\"msg\":\"request completed\"}\n"
     ]
    }
   ],
   "source": [
    "docker logs basic-server"
   ]
  },
  {
   "cell_type": "code",
   "execution_count": null,
   "metadata": {},
   "outputs": [],
   "source": []
  }
 ],
 "metadata": {
  "kernelspec": {
   "display_name": "Bash",
   "language": "bash",
   "name": "bash"
  },
  "language_info": {
   "codemirror_mode": "shell",
   "file_extension": ".sh",
   "mimetype": "text/x-sh",
   "name": "bash"
  }
 },
 "nbformat": 4,
 "nbformat_minor": 2
}
