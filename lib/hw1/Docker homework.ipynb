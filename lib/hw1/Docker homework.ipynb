{
 "cells": [
  {
   "cell_type": "markdown",
   "metadata": {},
   "source": [
    "# Docker homework"
   ]
  },
  {
   "cell_type": "markdown",
   "metadata": {},
   "source": [
    "In the demo you were shown how a Containerfile/Dockerfile looks like. You were also shown how to run containers and networks.\n",
    "\n",
    "You were also provided with an example server of NodeJS.\n",
    "\n",
    "Please provide the answers in this notebook"
   ]
  },
  {
   "cell_type": "markdown",
   "metadata": {},
   "source": [
    "## Warning\n",
    "Be sure to run it from the root so all files are avaiable to the notebook"
   ]
  },
  {
   "cell_type": "markdown",
   "metadata": {},
   "source": [
    "## Task 1\n",
    "Create a Dockerfile for the NodeJS server found in [basic-server](../basic-server).\n",
    "\n",
    "You must edit the [Dockerfile](../basic-server/Dockerfile) found in the basic-server folder.\n",
    "\n",
    "Remember to also bundle the dependecies listed in the package.json in the resulting image."
   ]
  },
  {
   "cell_type": "code",
   "execution_count": 1,
   "metadata": {},
   "outputs": [
    {
     "name": "stdout",
     "output_type": "stream",
     "text": [
      "# start from a base image\n",
      "FROM node:latest\n",
      "\n",
      "# run various command, ussualy installs\n",
      "RUN apt-get update\n",
      "RUN apt-get install -y python3 python3-notebook jupyter jupyter-core\n",
      "\n",
      "RUN pip3 install pyzmq bash_kernel\n",
      "RUN npm i -g ijavascript\n",
      "RUN ijsinstall\n",
      "RUN python3 -m bash_kernel.install\n",
      "\n",
      "RUN apt-get update\n",
      "\n",
      "RUN apt-get install -y \\\n",
      "    apt-transport-https \\\n",
      "    ca-certificates \\\n",
      "    curl \\\n",
      "    gnupg \\\n",
      "    lsb-release\n",
      "\n",
      "RUN curl -fsSL https://get.docker.com -o /get-docker.sh\n",
      "\n",
      "RUN sh /get-docker.sh\n",
      "\n",
      "# final comand to run\n",
      "CMD jupyter notebook /usr/project --ip=0.0.0.0 --allow-root --NotebookApp.token='' --NotebookApp.password=''\n",
      "\n",
      "\n"
     ]
    }
   ],
   "source": [
    "# as an example check this out\n",
    "cat ../badass-jupyter/Dockerfile"
   ]
  },
  {
   "cell_type": "code",
   "execution_count": 6,
   "metadata": {},
   "outputs": [
    {
     "name": "stdout",
     "output_type": "stream",
     "text": [
      "# FIXME\n",
      "FROM node:latest\n",
      "\n",
      "RUN npm install -g npm@7.14.0\n",
      "\n",
      "WORKDIR ../basic-server\n",
      "\n",
      "COPY . .\n",
      "\n",
      "CMD [\"node\", \"../basic-server/index.js\"]"
     ]
    }
   ],
   "source": [
    "# Do not alter\n",
    "cat ../basic-server/Dockerfile"
   ]
  },
  {
   "cell_type": "code",
   "execution_count": 7,
   "metadata": {},
   "outputs": [
    {
     "name": "stdout",
     "output_type": "stream",
     "text": [
      "Sending build context to Docker daemon   58.6MB\n",
      "Step 1/5 : FROM node:latest\n",
      " ---> 7493e35c7ffa\n",
      "Step 2/5 : RUN npm install -g npm@7.14.0\n",
      " ---> Using cache\n",
      " ---> 56583aa0bcbe\n",
      "Step 3/5 : WORKDIR ../basic-server\n",
      " ---> Using cache\n",
      " ---> 4c89ea260ef9\n",
      "Step 4/5 : COPY . .\n",
      " ---> d48a9e6d4875\n",
      "Step 5/5 : CMD [\"node\", \"../basic-server/index.js\"]\n",
      " ---> Running in ff7724b9ddf0\n",
      "Removing intermediate container ff7724b9ddf0\n",
      " ---> c24c5e984c62\n",
      "Successfully built c24c5e984c62\n",
      "Successfully tagged basic-server:latest\n"
     ]
    }
   ],
   "source": [
    "# Add the bash commands for task 1 here\n",
    "cd ../basic-server\n",
    "docker build -t basic-server ."
   ]
  },
  {
   "cell_type": "markdown",
   "metadata": {},
   "source": [
    "## Task 2\n",
    "You must now run the server with the database and prove it works.\n",
    "\n",
    "Open the 2 containers(server+db) in the same network. Remember that you are also running this Jupiter server in a container, so you must also add this one to the network.\n",
    "\n",
    "Remember that you must also setup the database with the [sql script](../basic-server/setup.sql). Check the [docker image documentation](https://hub.docker.com/_/mariadb) for the best way to do this.\n"
   ]
  },
  {
   "cell_type": "code",
   "execution_count": 10,
   "metadata": {},
   "outputs": [
    {
     "name": "stdout",
     "output_type": "stream",
     "text": [
      "mariadb\n"
     ]
    }
   ],
   "source": [
    "docker kill mariadb"
   ]
  },
  {
   "cell_type": "code",
   "execution_count": 8,
   "metadata": {},
   "outputs": [
    {
     "name": "stdout",
     "output_type": "stream",
     "text": [
      "53fae675d3787fb0eaf0420ab921cdc79b02bbe0872d0978af49b8d21e722a09\n"
     ]
    }
   ],
   "source": [
    "docker network create emilia-net"
   ]
  },
  {
   "cell_type": "code",
   "execution_count": 11,
   "metadata": {},
   "outputs": [
    {
     "name": "stdout",
     "output_type": "stream",
     "text": [
      "bea6fca67e93b2c9583a3a6bb5129ff9b9d470524ab25192f982992b02f5b074\n"
     ]
    }
   ],
   "source": [
    "docker run -p 127.0.0.1:3001:3001 --network emilia-net --rm --name mariadb -e MARIADB_ROOT_PASSWORD=pass -d mariadb:latest"
   ]
  },
  {
   "cell_type": "code",
   "execution_count": 16,
   "metadata": {},
   "outputs": [],
   "source": [
    "docker exec -i mariadb mysql -u root -ppass < ../basic-server/setup.sql"
   ]
  },
  {
   "cell_type": "code",
   "execution_count": null,
   "metadata": {},
   "outputs": [
    {
     "name": "stdout",
     "output_type": "stream",
     "text": [
      "{\"level\":30,\"time\":1622040987450,\"pid\":1,\"hostname\":\"19cc0e08e95e\",\"msg\":\"Server listening at http://0.0.0.0:3001\"}\n",
      "{\"level\":30,\"time\":1622040987452,\"pid\":1,\"hostname\":\"19cc0e08e95e\",\"msg\":\"Listening http://0.0.0.0:3001\"}\n"
     ]
    }
   ],
   "source": [
    "docker run -p 127.0.0.1:3007:3001 --network emilia-net --rm basic-server:latest"
   ]
  },
  {
   "cell_type": "code",
   "execution_count": null,
   "metadata": {},
   "outputs": [],
   "source": [
    "curl 127.0.0.1:3007\n",
    "# rezultatul primit local:[{\"id\":1,\"name\":\"gogu\",\"type\":\"ADMIN\"}],\n",
    "# prin rularea comenzii în alt terminal"
   ]
  },
  {
   "cell_type": "code",
   "execution_count": null,
   "metadata": {},
   "outputs": [],
   "source": [
    "# Do not alter, should return our admin gogu\n",
    "curl basic-server:3001\n"
   ]
  }
 ],
 "metadata": {
  "kernelspec": {
   "display_name": "Bash",
   "language": "bash",
   "name": "bash"
  },
  "language_info": {
   "codemirror_mode": "shell",
   "file_extension": ".sh",
   "mimetype": "text/x-sh",
   "name": "bash"
  }
 },
 "nbformat": 4,
 "nbformat_minor": 2
}
