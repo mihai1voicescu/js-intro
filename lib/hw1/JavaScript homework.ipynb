{
 "cells": [
  {
   "cell_type": "markdown",
   "metadata": {},
   "source": [
    "# JavaScript homework"
   ]
  },
  {
   "cell_type": "markdown",
   "metadata": {},
   "source": [
    "## Task 1\n",
    "\n",
    "Read\n",
    "\n",
    "https://nodejs.org/en/docs/guides/blocking-vs-non-blocking/\n",
    "\n",
    "https://nodejs.org/en/docs/guides/event-loop-timers-and-nexttick/\n",
    "\n",
    "https://nodejs.org/en/docs/guides/dont-block-the-event-loop/\n",
    "\n",
    "https://nodejs.org/en/docs/guides/timers-in-node/\n",
    "\n",
    "\n",
    "\n",
    "https://nodejs.dev/learn/the-nodejs-event-loop\n",
    "\n",
    "https://nodejs.dev/learn/understanding-process-nexttick\n",
    "\n",
    "https://nodejs.dev/learn/understanding-setimmediate\n",
    "\n",
    "https://nodejs.dev/learn/discover-javascript-timers\n",
    "\n",
    "https://nodejs.dev/learn/javascript-asynchronous-programming-and-callbacks\n",
    "\n",
    "https://nodejs.dev/learn/understanding-javascript-promises\n",
    "\n",
    "https://nodejs.dev/learn/modern-asynchronous-javascript-with-async-and-await\n",
    "\n",
    "https://nodejs.dev/learn/the-nodejs-event-emitter\n",
    "\n",
    "https://nodejs.dev/learn/error-handling-in-nodejs\n",
    "\n",
    "\n",
    "\n",
    "This will be very relevant to you no matter the team you are in.\n",
    "\n",
    "Answer the following open question: why is NodeJS so good for I/O intensive programs such as servers?\n",
    "\n",
    "Note: If you have time almost all the lectures in https://nodejs.dev/learn/ seem relevant and well made"
   ]
  },
  {
   "cell_type": "code",
   "execution_count": null,
   "metadata": {},
   "outputs": [],
   "source": [
    "function answer() {\n",
    "    // print out the answer here, using the JavaScript command for printing stuff\n",
    "    console.log('NodeJS does so well with I/O intensive programms' + \n",
    "                ' because it offloads the work to worker threads and' +\n",
    "                ' does not block the main thread (there is only one) of js' +\n",
    "                ' which keeps doing the events loop searching for ready to' +\n",
    "                ' execute callbacks. It is good to note that, unlike CPU intensive' +\n",
    "                ' operations, I/O intensive operations can progress even without' +\n",
    "                ' a worker thread actively running the task. Using mechanisms like' +\n",
    "                ' epoll we can wait until a file descriptor is marked as ready' +\n",
    "                ' to read data from.')\n",
    "}\n",
    "answer();"
   ]
  },
  {
   "cell_type": "markdown",
   "metadata": {},
   "source": [
    "## Task 2\n",
    "\n",
    "Create a class hierarchy related to a school catalog. The minimum classes should be:\n",
    "\n",
    "* Person\n",
    "  * Employee\n",
    "\t* Teacher\n",
    "\t\t* DepartmentHead\n",
    "\t* Administrator\n",
    "\t* ProDean\n",
    "        * Dean\n",
    "  * Student\n",
    "  \n",
    "Give them some miscellaneous properties and methods, such as (name, birthDate, grades etc and fire(),\n",
    "promote(), evaluateStudent() etc).\n",
    "\n",
    "Create one version with the \"class\" keyword and one in the explicit \"prototype\" + \"function\" way"
   ]
  },
  {
   "cell_type": "code",
   "execution_count": 1,
   "metadata": {},
   "outputs": [],
   "source": [
    "class Person {\n",
    "    constructor(name='unknown', birthDate=Date.now()) {\n",
    "        this._name = name;\n",
    "        this._birthDate = birthDate;\n",
    "    }\n",
    "}\n",
    "\n",
    "class Student extends Person {\n",
    "    constructor(name, birthDate) {\n",
    "        super(name, birthDate);\n",
    "    }\n",
    "    \n",
    "    evaluateStudent(answer) {\n",
    "        if (answer === 42)\n",
    "            return 'Media 10';\n",
    "        else\n",
    "            return 'RESTANTA';\n",
    "    }\n",
    "}\n",
    "\n",
    "class Employee extends Person {\n",
    "    constructor(name, birthDate, employeeId=0) {\n",
    "        super(name, birthDate);\n",
    "        \n",
    "        this._employeeId = employeeId;\n",
    "    }\n",
    "    \n",
    "    demote() {\n",
    "        throw new Error('Demote not implemented.');\n",
    "    }\n",
    "    \n",
    "    promote() {\n",
    "        throw new Error('Demote not implemented.');\n",
    "    }\n",
    "}\n",
    "\n",
    "class Teacher extends Employee {\n",
    "    constructor(name, birthDate, employeeId) {\n",
    "        super(name, birthDate, employeeId);\n",
    "    }\n",
    "    \n",
    "    demote() {\n",
    "        return this;\n",
    "    }\n",
    "    \n",
    "    promote() {\n",
    "        return new DepartmentHead(this._name, this._birthDate, this._employeeId);\n",
    "    }\n",
    "}\n",
    "\n",
    "class DepartmentHead extends Teacher {\n",
    "    constructor(name, birthDate, employeeId) {\n",
    "        super(name, birthDate, employeeId);\n",
    "    }\n",
    "    \n",
    "    demote() {\n",
    "        return new Teacher(this._name, this._birthDate, this._employeeId);\n",
    "    }\n",
    "    \n",
    "    promote() {\n",
    "        return this;\n",
    "    }\n",
    "}\n",
    "\n",
    "class Administrator extends Employee {\n",
    "    constructor(name, birthDate, employeeId) {\n",
    "        super(name, birthDate, employeeId);\n",
    "    }\n",
    "    \n",
    "    do_administrator_stuff() {\n",
    "        let i = 2000000000;\n",
    "        \n",
    "        while (i > 0) {\n",
    "            i = i - 1;\n",
    "        }\n",
    "        \n",
    "        return 'JOBS DONE';\n",
    "    }    \n",
    "}\n",
    "\n",
    "\n",
    "class ProDean extends Employee {\n",
    "    constructor(name, birthDate, employeeId) {\n",
    "        super(name, birthDate, employeeId);\n",
    "    }\n",
    "    \n",
    "    demote() {\n",
    "        return this;\n",
    "    }\n",
    "    \n",
    "    promote() {\n",
    "        return new Dean(this._name, this._birthDate, this._employeeId);\n",
    "    }\n",
    "}\n",
    "\n",
    "class Dean extends ProDean {\n",
    "    constructor(name, birthDate, employeeId) {\n",
    "        super(name, birthDate, employeeId);\n",
    "    }\n",
    "    \n",
    "    demote() {\n",
    "        return new ProDean(this._name, this._birthDate, this._employeeId);\n",
    "    }\n",
    "    \n",
    "    promote() {\n",
    "        return this;\n",
    "    }\n",
    "}"
   ]
  },
  {
   "cell_type": "code",
   "execution_count": 2,
   "metadata": {},
   "outputs": [
    {
     "data": {
      "text/plain": [
       "Student { _name: 'Cosmin', _birthDate: 1621791746353 }"
      ]
     },
     "execution_count": 2,
     "metadata": {},
     "output_type": "execute_result"
    }
   ],
   "source": [
    "cosmin = new Student('Cosmin', Date.now())"
   ]
  },
  {
   "cell_type": "code",
   "execution_count": 3,
   "metadata": {},
   "outputs": [
    {
     "data": {
      "text/plain": [
       "'Media 10'"
      ]
     },
     "execution_count": 3,
     "metadata": {},
     "output_type": "execute_result"
    }
   ],
   "source": [
    "cosmin.evaluateStudent(42)"
   ]
  },
  {
   "cell_type": "code",
   "execution_count": 4,
   "metadata": {},
   "outputs": [
    {
     "data": {
      "text/plain": [
       "Student { _name: 'unknown', _birthDate: 1621791748439 }"
      ]
     },
     "execution_count": 4,
     "metadata": {},
     "output_type": "execute_result"
    }
   ],
   "source": [
    "unknown = new Student()"
   ]
  },
  {
   "cell_type": "code",
   "execution_count": 5,
   "metadata": {},
   "outputs": [
    {
     "data": {
      "text/plain": [
       "Teacher { _name: 'Ion', _birthDate: 1621791750033, _employeeId: 69 }"
      ]
     },
     "execution_count": 5,
     "metadata": {},
     "output_type": "execute_result"
    }
   ],
   "source": [
    "teacher = new Teacher('Ion', Date.now(), 69);"
   ]
  },
  {
   "cell_type": "code",
   "execution_count": 6,
   "metadata": {},
   "outputs": [
    {
     "data": {
      "text/plain": [
       "DepartmentHead {\n",
       "  _name: 'Ion',\n",
       "  _birthDate: 1621791750033,\n",
       "  _employeeId: 69\n",
       "}"
      ]
     },
     "execution_count": 6,
     "metadata": {},
     "output_type": "execute_result"
    }
   ],
   "source": [
    "promoted_teacher = teacher.promote()"
   ]
  },
  {
   "cell_type": "code",
   "execution_count": 7,
   "metadata": {},
   "outputs": [
    {
     "data": {
      "text/plain": [
       "Teacher { _name: 'Ion', _birthDate: 1621791750033, _employeeId: 69 }"
      ]
     },
     "execution_count": 7,
     "metadata": {},
     "output_type": "execute_result"
    }
   ],
   "source": [
    "demoted_promoted_teacher = promoted_teacher.demote()"
   ]
  },
  {
   "cell_type": "code",
   "execution_count": 8,
   "metadata": {},
   "outputs": [
    {
     "data": {
      "text/plain": [
       "Administrator {\n",
       "  _name: 'unknown',\n",
       "  _birthDate: 1621791755825,\n",
       "  _employeeId: 0\n",
       "}"
      ]
     },
     "execution_count": 8,
     "metadata": {},
     "output_type": "execute_result"
    }
   ],
   "source": [
    "admin = new Administrator()"
   ]
  },
  {
   "cell_type": "code",
   "execution_count": 9,
   "metadata": {},
   "outputs": [
    {
     "data": {
      "text/plain": [
       "'JOBS DONE'"
      ]
     },
     "execution_count": 9,
     "metadata": {},
     "output_type": "execute_result"
    }
   ],
   "source": [
    "admin.do_administrator_stuff()"
   ]
  },
  {
   "cell_type": "code",
   "execution_count": 10,
   "metadata": {},
   "outputs": [
    {
     "data": {
      "text/plain": [
       "ProDean { _name: 'Ioana', _birthDate: 1621791762498, _employeeId: 42 }"
      ]
     },
     "execution_count": 10,
     "metadata": {},
     "output_type": "execute_result"
    }
   ],
   "source": [
    "prodean = new ProDean('Ioana', Date.now(), 42);"
   ]
  },
  {
   "cell_type": "code",
   "execution_count": 11,
   "metadata": {},
   "outputs": [
    {
     "data": {
      "text/plain": [
       "Dean { _name: 'Ioana', _birthDate: 1621791762498, _employeeId: 42 }"
      ]
     },
     "execution_count": 11,
     "metadata": {},
     "output_type": "execute_result"
    }
   ],
   "source": [
    "promoted_prodean = prodean.promote()"
   ]
  },
  {
   "cell_type": "code",
   "execution_count": 12,
   "metadata": {},
   "outputs": [
    {
     "data": {
      "text/plain": [
       "ProDean { _name: 'Ioana', _birthDate: 1621791762498, _employeeId: 42 }"
      ]
     },
     "execution_count": 12,
     "metadata": {},
     "output_type": "execute_result"
    }
   ],
   "source": [
    "demoted_promoted_prodean = promoted_prodean.demote()"
   ]
  },
  {
   "cell_type": "code",
   "execution_count": 1,
   "metadata": {},
   "outputs": [
    {
     "data": {
      "text/plain": [
       "[Function (anonymous)]"
      ]
     },
     "execution_count": 1,
     "metadata": {},
     "output_type": "execute_result"
    }
   ],
   "source": [
    "function Person(name='unknown', birthDate=Date.now()) {\n",
    "    this._name = name;\n",
    "    this._birthDate = birthDate;\n",
    "}\n",
    "\n",
    "function Student(name, birthDate) {\n",
    "    Person.call(this, name, birthDate);\n",
    "}\n",
    "\n",
    "Student.prototype.evaluateStudent = (answer) => {\n",
    "    if (answer === 42)\n",
    "        return 'Media 10';\n",
    "    else\n",
    "        return 'RESTANTA';\n",
    "};\n",
    "\n",
    "\n",
    "function Employee(name, birthDate, employeeId=0) {\n",
    "    Person.call(this, name, birthDate);\n",
    "    this._employeeId = employeeId;\n",
    "}\n",
    "\n",
    "function Teacher(name, birthDate, employeeId){\n",
    "    Employee.call(this, name, birthDate, employeeId);\n",
    "}\n",
    "\n",
    "Teacher.prototype.demote = function() {return this};\n",
    "Teacher.prototype.promote = function() {return new DepartmentHead(this._name, this._birthDate, this._employeeId)};\n",
    "\n",
    "function DepartmentHead(name, birthDate, employeeId){\n",
    "    Teacher.call(this, name, birthDate, employeeId);\n",
    "}\n",
    "\n",
    "DepartmentHead.prototype.promote = function() {return this};\n",
    "DepartmentHead.prototype.demote = function() {return new Teacher(this._name, this._birthDate, this._employeeId)};\n",
    "\n",
    "\n",
    "function Administrator(name, birthDate, employeeId) {\n",
    "    Employee.call(this, name, birthDate, employeeId);\n",
    "}\n",
    "\n",
    "Administrator.prototype.do_administrator_stuff = function() {\n",
    "    let i = 2000000000;\n",
    "\n",
    "    while (i > 0) {\n",
    "        i = i - 1;\n",
    "    }\n",
    "\n",
    "    return 'JOBS DONE';   \n",
    "};\n",
    "\n",
    "\n",
    "function ProDean(name, birthDate, employeeId){\n",
    "    Employee.call(this, name, birthDate, employeeId);\n",
    "}\n",
    "\n",
    "ProDean.prototype.demote = function() {return this};\n",
    "ProDean.prototype.promote = function() {return new Dean(this._name, this._birthDate, this._employeeId)};\n",
    "\n",
    "function Dean(name, birthDate, employeeId){\n",
    "    ProDean.call(this, name, birthDate, employeeId);\n",
    "}\n",
    "\n",
    "Dean.prototype.promote = function() {return this};\n",
    "Dean.prototype.demote = function() {return new ProDean(this._name, this._birthDate, this._employeeId)};"
   ]
  },
  {
   "cell_type": "code",
   "execution_count": 2,
   "metadata": {},
   "outputs": [
    {
     "data": {
      "text/plain": [
       "Student { _name: 'Cosmin', _birthDate: 1621791778154 }"
      ]
     },
     "execution_count": 2,
     "metadata": {},
     "output_type": "execute_result"
    }
   ],
   "source": [
    "cosmin = new Student('Cosmin', Date.now())"
   ]
  },
  {
   "cell_type": "code",
   "execution_count": 3,
   "metadata": {},
   "outputs": [
    {
     "data": {
      "text/plain": [
       "'RESTANTA'"
      ]
     },
     "execution_count": 3,
     "metadata": {},
     "output_type": "execute_result"
    }
   ],
   "source": [
    "cosmin.evaluateStudent(41)"
   ]
  },
  {
   "cell_type": "code",
   "execution_count": 4,
   "metadata": {},
   "outputs": [
    {
     "data": {
      "text/plain": [
       "Teacher { _name: 'Ion', _birthDate: 1621791782080, _employeeId: 69 }"
      ]
     },
     "execution_count": 4,
     "metadata": {},
     "output_type": "execute_result"
    }
   ],
   "source": [
    "teacher = new Teacher('Ion', Date.now(), 69);"
   ]
  },
  {
   "cell_type": "code",
   "execution_count": 5,
   "metadata": {},
   "outputs": [
    {
     "data": {
      "text/plain": [
       "DepartmentHead {\n",
       "  _name: 'Ion',\n",
       "  _birthDate: 1621791782080,\n",
       "  _employeeId: 69\n",
       "}"
      ]
     },
     "execution_count": 5,
     "metadata": {},
     "output_type": "execute_result"
    }
   ],
   "source": [
    "promoted_teacher = teacher.promote()"
   ]
  },
  {
   "cell_type": "code",
   "execution_count": 6,
   "metadata": {},
   "outputs": [
    {
     "data": {
      "text/plain": [
       "Teacher { _name: 'Ion', _birthDate: 1621791782080, _employeeId: 69 }"
      ]
     },
     "execution_count": 6,
     "metadata": {},
     "output_type": "execute_result"
    }
   ],
   "source": [
    "demoted_promoted_teacher = promoted_teacher.demote()"
   ]
  },
  {
   "cell_type": "code",
   "execution_count": 7,
   "metadata": {},
   "outputs": [
    {
     "data": {
      "text/plain": [
       "Administrator {\n",
       "  _name: 'unknown',\n",
       "  _birthDate: 1621791782880,\n",
       "  _employeeId: 0\n",
       "}"
      ]
     },
     "execution_count": 7,
     "metadata": {},
     "output_type": "execute_result"
    }
   ],
   "source": [
    "admin = new Administrator()"
   ]
  },
  {
   "cell_type": "code",
   "execution_count": 8,
   "metadata": {},
   "outputs": [
    {
     "data": {
      "text/plain": [
       "'JOBS DONE'"
      ]
     },
     "execution_count": 8,
     "metadata": {},
     "output_type": "execute_result"
    }
   ],
   "source": [
    "admin.do_administrator_stuff()"
   ]
  },
  {
   "cell_type": "code",
   "execution_count": 9,
   "metadata": {},
   "outputs": [
    {
     "data": {
      "text/plain": [
       "ProDean { _name: 'Ioana', _birthDate: 1621791791326, _employeeId: 42 }"
      ]
     },
     "execution_count": 9,
     "metadata": {},
     "output_type": "execute_result"
    }
   ],
   "source": [
    "prodean = new ProDean('Ioana', Date.now(), 42);"
   ]
  },
  {
   "cell_type": "code",
   "execution_count": 10,
   "metadata": {},
   "outputs": [
    {
     "data": {
      "text/plain": [
       "Dean { _name: 'Ioana', _birthDate: 1621791791326, _employeeId: 42 }"
      ]
     },
     "execution_count": 10,
     "metadata": {},
     "output_type": "execute_result"
    }
   ],
   "source": [
    "promoted_prodean = prodean.promote()"
   ]
  },
  {
   "cell_type": "code",
   "execution_count": 11,
   "metadata": {},
   "outputs": [
    {
     "data": {
      "text/plain": [
       "ProDean { _name: 'Ioana', _birthDate: 1621791791326, _employeeId: 42 }"
      ]
     },
     "execution_count": 11,
     "metadata": {},
     "output_type": "execute_result"
    }
   ],
   "source": [
    "demoted_promoted_prodean = promoted_prodean.demote()"
   ]
  },
  {
   "cell_type": "code",
   "execution_count": null,
   "metadata": {},
   "outputs": [],
   "source": []
  }
 ],
 "metadata": {
  "kernelspec": {
   "display_name": "Javascript (Node.js)",
   "language": "javascript",
   "name": "javascript"
  },
  "language_info": {
   "file_extension": ".js",
   "mimetype": "application/javascript",
   "name": "javascript",
   "version": "16.2.0"
  }
 },
 "nbformat": 4,
 "nbformat_minor": 2
}
