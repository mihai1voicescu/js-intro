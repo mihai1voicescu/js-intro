{
 "cells": [
  {
   "cell_type": "markdown",
   "metadata": {},
   "source": [
    "# JavaScript homework"
   ]
  },
  {
   "cell_type": "markdown",
   "metadata": {},
   "source": [
    "## Task 1\n",
    "\n",
    "Read\n",
    "\n",
    "https://nodejs.org/en/docs/guides/blocking-vs-non-blocking/\n",
    "\n",
    "https://nodejs.org/en/docs/guides/event-loop-timers-and-nexttick/\n",
    "\n",
    "https://nodejs.org/en/docs/guides/dont-block-the-event-loop/\n",
    "\n",
    "https://nodejs.org/en/docs/guides/timers-in-node/\n",
    "\n",
    "\n",
    "\n",
    "https://nodejs.dev/learn/the-nodejs-event-loop\n",
    "\n",
    "https://nodejs.dev/learn/understanding-process-nexttick\n",
    "\n",
    "https://nodejs.dev/learn/understanding-setimmediate\n",
    "\n",
    "https://nodejs.dev/learn/discover-javascript-timers\n",
    "\n",
    "https://nodejs.dev/learn/javascript-asynchronous-programming-and-callbacks\n",
    "\n",
    "https://nodejs.dev/learn/understanding-javascript-promises\n",
    "\n",
    "https://nodejs.dev/learn/modern-asynchronous-javascript-with-async-and-await\n",
    "\n",
    "https://nodejs.dev/learn/the-nodejs-event-emitter\n",
    "\n",
    "https://nodejs.dev/learn/error-handling-in-nodejs\n",
    "\n",
    "\n",
    "\n",
    "This will be very relevant to you no matter the team you are in.\n",
    "\n",
    "Answer the following open question: why is NodeJS so good for I/O intensive programs such as servers?\n",
    "\n",
    "Note: If you have time almost all the lectures in https://nodejs.dev/learn/ seem relevant and well made"
   ]
  },
  {
   "cell_type": "code",
   "execution_count": 20,
   "metadata": {},
   "outputs": [
    {
     "name": "stdout",
     "output_type": "stream",
     "text": [
      "One important reason is that NodeJS has a single threaded nature that makes programs \n",
      "highly scalable. What this means is that you can use the same program that is build \n",
      "to handle a limited number of requests to handle a much larger number of requests.\n",
      "\n",
      "Another reason is the fact that NodeJS has an asynchronous model. Even though the event\n",
      "loop implementation is single-threaded, it achieves a concurrent-like behavior with\n",
      "the use of callbacks.\n"
     ]
    }
   ],
   "source": [
    "function answer() {\n",
    "    // print out the answer here, using the JavaScript command for printing stuff\n",
    "    console.log(\"One important reason is that NodeJS has a single threaded nature that makes programs \");\n",
    "    console.log(\"highly scalable. What this means is that you can use the same program that is build \");\n",
    "    console.log(\"to handle a limited number of requests to handle a much larger number of requests.\");\n",
    "    console.log(\"\");\n",
    "    console.log(\"Another reason is the fact that NodeJS has an asynchronous model. Even though the event\");\n",
    "    console.log(\"loop implementation is single-threaded, it achieves a concurrent-like behavior with\");\n",
    "    console.log(\"the use of callbacks.\");\n",
    "    \n",
    "}\n",
    "answer();"
   ]
  },
  {
   "cell_type": "markdown",
   "metadata": {},
   "source": [
    "## Task 2\n",
    "\n",
    "Create a class hierarchy related to a school catalog. The minimum classes should be:\n",
    "\n",
    "* Person\n",
    "  * Employee\n",
    "\t* Teacher\n",
    "\t\t* DepartmentHead\n",
    "\t* Administrator\n",
    "\t* ProDean\n",
    "  \t\t* Dean\n",
    "  * Student\n",
    "  \n",
    "Give them some miscellaneous properties and methods, such as (name, birthDate, grades etc and fire(),\n",
    "promote(), evaluateStudent() etc).\n",
    "\n",
    "Create one version with the \"class\" keyword and one in the explicit \"prototype\" + \"function\" way"
   ]
  },
  {
   "cell_type": "code",
   "execution_count": 2,
   "metadata": {},
   "outputs": [],
   "source": [
    "class Person {\n",
    "    constructor(name, birthDate, gender) {\n",
    "        this._name = name;\n",
    "        this._birthDate = birthDate;\n",
    "        this._gender = gender;\n",
    "    }\n",
    "}\n",
    "\n",
    "class Employee extends Person {\n",
    "    constructor(name, birthDate, gender, salary) {\n",
    "        super(name, birthDate, gender);\n",
    "        this._salary = salary;\n",
    "    }\n",
    "}\n",
    "\n",
    "class Teacher extends Employee {\n",
    "    constructor(name, birthDate, gender, salary, course) {\n",
    "        super(name, birthDate, gender, salary);\n",
    "        this._course = course;\n",
    "    }\n",
    "\n",
    "    gradeStudent(student) {\n",
    "        student.gradesSet([\n",
    "            {\n",
    "                course: this._course,\n",
    "                grade: Math.floor(Math.random() * 10 + 1)\n",
    "            },\n",
    "            {\n",
    "                course: this._course,\n",
    "                grade: Math.floor(Math.random() * 10 + 1)\n",
    "            },\n",
    "            {\n",
    "                course: this._course,\n",
    "                grade: Math.floor(Math.random() * 10 + 1)\n",
    "            }\n",
    "        ]);\n",
    "    }\n",
    "}\n",
    "\n",
    "class DepartmentHead extends Teacher {\n",
    "    constructor(name, birthDate, gender, salary, course) {\n",
    "        super(name, birthDate, gender, salary, course);\n",
    "    }\n",
    "}\n",
    "\n",
    "class Administrator extends Employee {\n",
    "    constructor(name, birthDate, gender, salary) {\n",
    "        super(name, birthDate, gender, salary);\n",
    "    }\n",
    "\n",
    "    redirectingCalls(dean) {\n",
    "        if (dean.gender == \"male\")\n",
    "            console.log(\"Mr.\" + dean.name + \" can talk to you now.\");\n",
    "        else\n",
    "            console.log(\"Mrs.\" + dean.name + \" can talk to you now.\");\n",
    "    }\n",
    "}\n",
    "\n",
    "class ProDean extends Employee {\n",
    "    constructor(name, birthDate, gender, salary) {\n",
    "        super(name, birthDate, gender, salary);\n",
    "    }\n",
    "\n",
    "    get name() {\n",
    "        return this._name;\n",
    "    }\n",
    "\n",
    "    get gender() {\n",
    "        return this._gender;\n",
    "    }\n",
    "}\n",
    "\n",
    "class Dean extends ProDean {\n",
    "    constructor(name, birthDate, gender, salary) {\n",
    "        super(name, birthDate, gender, salary);\n",
    "    }\n",
    "}\n",
    "\n",
    "class Student extends Person {\n",
    "    constructor(name, birthDate, gender, year) {\n",
    "        super(name, birthDate, gender)\n",
    "        this._grades = [];\n",
    "        this._year = year;\n",
    "    }\n",
    "\n",
    "    get grades() {\n",
    "        return this._grades;\n",
    "    }\n",
    "    gradesSet(grades) {\n",
    "        this._grades.push(grades);\n",
    "    }\n",
    "}"
   ]
  },
  {
   "cell_type": "code",
   "execution_count": 3,
   "metadata": {},
   "outputs": [
    {
     "data": {
      "text/plain": [
       "Teacher {\n",
       "  _name: 'math',\n",
       "  _birthDate: '9-08-65',\n",
       "  _gender: 'male',\n",
       "  _salary: 5000,\n",
       "  _course: 'physics'\n",
       "}"
      ]
     },
     "execution_count": 3,
     "metadata": {},
     "output_type": "execute_result"
    }
   ],
   "source": [
    "emi = new Student(\"emi\", \"30-07-99\", \"female\", 3);\n",
    "mathTeacher = new Teacher(\"barbara\", \"9-08-67\", \"female\", 4000, \"math\");\n",
    "physicsTeacher = new Teacher(\"math\", \"9-08-65\", \"male\", 5000, \"physics\");"
   ]
  },
  {
   "cell_type": "code",
   "execution_count": 4,
   "metadata": {
    "scrolled": true
   },
   "outputs": [
    {
     "name": "stdout",
     "output_type": "stream",
     "text": [
      "[\n",
      "  [\n",
      "    { course: 'math', grade: 4 },\n",
      "    { course: 'math', grade: 5 },\n",
      "    { course: 'math', grade: 2 }\n",
      "  ],\n",
      "  [\n",
      "    { course: 'physics', grade: 1 },\n",
      "    { course: 'physics', grade: 3 },\n",
      "    { course: 'physics', grade: 7 }\n",
      "  ]\n",
      "]\n"
     ]
    }
   ],
   "source": [
    "/* teacher + student */\n",
    "mathTeacher.gradeStudent(emi);\n",
    "physicsTeacher.gradeStudent(emi);\n",
    "console.log(emi.grades);"
   ]
  },
  {
   "cell_type": "code",
   "execution_count": 5,
   "metadata": {},
   "outputs": [],
   "source": [
    "const administrator = new Administrator(\"luiza\", \"4-09-87\", \"female\", 2500);\n",
    "const dean = new Dean(\"maria\", \"5-11-78\", \"female\", 7000);"
   ]
  },
  {
   "cell_type": "code",
   "execution_count": 6,
   "metadata": {},
   "outputs": [
    {
     "name": "stdout",
     "output_type": "stream",
     "text": [
      "Mrs.maria can talk to you now.\n"
     ]
    }
   ],
   "source": [
    "/* administrator + dean */\n",
    "administrator.redirectingCalls(dean);"
   ]
  },
  {
   "cell_type": "code",
   "execution_count": 7,
   "metadata": {},
   "outputs": [
    {
     "data": {
      "text/plain": [
       "[Function (anonymous)]"
      ]
     },
     "execution_count": 7,
     "metadata": {},
     "output_type": "execute_result"
    }
   ],
   "source": [
    "function PersonPrototype (name, birthDate, gender) {\n",
    "    this._name = name;\n",
    "    this._birthDate = birthDate;\n",
    "    this._gender = gender;\n",
    "}\n",
    "\n",
    "function EmployeePrototype(name, birthDate, gender, salary) {\n",
    "    PersonPrototype.call(this, name, birthDate, gender);\n",
    "    this._salary = salary;\n",
    "}\n",
    "\n",
    "function TeacherPrototype(name, birthDate, gender, salary, course) {\n",
    "    EmployeePrototype.call(this, name, birthDate, gender, salary);\n",
    "    this._course = course;\n",
    "}\n",
    "\n",
    "TeacherPrototype.prototype.gradeStudent = function(student) {\n",
    "    student.gradesSet([\n",
    "        {\n",
    "            course: this._course,\n",
    "            grade: Math.floor(Math.random() * 10 + 1)\n",
    "        },\n",
    "        {\n",
    "            course: this._course,\n",
    "            grade: Math.floor(Math.random() * 10 + 1)\n",
    "        },\n",
    "        {\n",
    "            course: this._course,\n",
    "            grade: Math.floor(Math.random() * 10 + 1)\n",
    "        }\n",
    "    ]);\n",
    "}\n",
    "function DepartmentHeadPrototype(name, birthDate, gender, salary, course) {\n",
    "    TeacherPrototype.call(this, name, birthDate, gender, salary, course);\n",
    "}\n",
    "\n",
    "function AdministratorPrototype(name, birthDate, gender, salary) {\n",
    "    EmployeePrototype.call(this, name, birthDate, gender, salary);\n",
    "}\n",
    "\n",
    "AdministratorPrototype.prototype.redirectingCalls = function(deanPrototype) {\n",
    "    if (deanPrototype.gender == \"male\")\n",
    "        console.log(\"Mr.\" + deanPrototype.name + \" can talk to you now.\");\n",
    "    else\n",
    "        console.log(\"Mrs.\" + deanPrototype.name + \" can talk to you now.\");\n",
    "}\n",
    "\n",
    "function ProDeanPrototype(name, birthDate, gender, salary) {\n",
    "    EmployeePrototype.call(this, name, birthDate, gender, salary);\n",
    "}\n",
    "\n",
    "function DeanPrototype(name, birthDate, gender, salary) {\n",
    "    ProDeanPrototype.call(this, name, birthDate, gender, salary);\n",
    "}\n",
    "\n",
    "DeanPrototype.prototype = {\n",
    "    get gender() {\n",
    "        return this._gender;\n",
    "    },\n",
    "    get name() {\n",
    "        return this._name;\n",
    "    }\n",
    "}\n",
    "\n",
    "function StudentPrototype(name, birthDate, gender, year) {\n",
    "    PersonPrototype.call(this, name, birthDate, gender);\n",
    "    this._grades = [];\n",
    "    this._year = year;\n",
    "}\n",
    "\n",
    "StudentPrototype.prototype.grades = function() {\n",
    "    return this._grades;\n",
    "}\n",
    "\n",
    "StudentPrototype.prototype.gradesSet = function(grades) {\n",
    "    this._grades.push(grades);\n",
    "}"
   ]
  },
  {
   "cell_type": "code",
   "execution_count": 8,
   "metadata": {},
   "outputs": [
    {
     "data": {
      "text/plain": [
       "TeacherPrototype {\n",
       "  _name: 'math',\n",
       "  _birthDate: '9-08-65',\n",
       "  _gender: 'male',\n",
       "  _salary: 5000,\n",
       "  _course: 'physics'\n",
       "}"
      ]
     },
     "execution_count": 8,
     "metadata": {},
     "output_type": "execute_result"
    }
   ],
   "source": [
    "emi = new StudentPrototype(\"emi\", \"30-07-99\", \"female\", 3);\n",
    "mathTeacherPrototype = new TeacherPrototype(\"barbara\", \"9-08-67\", \"female\", 4000, \"math\");\n",
    "physicsTeacher = new TeacherPrototype(\"math\", \"9-08-65\", \"male\", 5000, \"physics\");"
   ]
  },
  {
   "cell_type": "code",
   "execution_count": 9,
   "metadata": {},
   "outputs": [
    {
     "name": "stdout",
     "output_type": "stream",
     "text": [
      "[\n",
      "  [\n",
      "    { course: 'math', grade: 10 },\n",
      "    { course: 'math', grade: 9 },\n",
      "    { course: 'math', grade: 7 }\n",
      "  ],\n",
      "  [\n",
      "    { course: 'physics', grade: 10 },\n",
      "    { course: 'physics', grade: 6 },\n",
      "    { course: 'physics', grade: 5 }\n",
      "  ]\n",
      "]\n"
     ]
    }
   ],
   "source": [
    "/* teacher + student */\n",
    "mathTeacher.gradeStudent(emi);\n",
    "physicsTeacher.gradeStudent(emi);\n",
    "console.log(emi.grades());"
   ]
  },
  {
   "cell_type": "code",
   "execution_count": 10,
   "metadata": {},
   "outputs": [
    {
     "data": {
      "text/plain": [
       "{\n",
       "  _name: 'daniel',\n",
       "  _birthDate: '5-11-78',\n",
       "  _gender: 'male',\n",
       "  _salary: 7000\n",
       "}"
      ]
     },
     "execution_count": 10,
     "metadata": {},
     "output_type": "execute_result"
    }
   ],
   "source": [
    "administratorPrototype = new AdministratorPrototype(\"luiza\", \"4-09-87\", \"female\", 2500);\n",
    "deanPrototype = new DeanPrototype(\"daniel\", \"5-11-78\", \"male\", 7000);"
   ]
  },
  {
   "cell_type": "code",
   "execution_count": 11,
   "metadata": {},
   "outputs": [
    {
     "name": "stdout",
     "output_type": "stream",
     "text": [
      "Mr.daniel can talk to you now.\n"
     ]
    }
   ],
   "source": [
    "/*AdministratorPrototype + DeanPrototype */\n",
    "administratorPrototype.redirectingCalls(deanPrototype);"
   ]
  }
 ],
 "metadata": {
  "kernelspec": {
   "display_name": "Javascript (Node.js)",
   "language": "javascript",
   "name": "javascript"
  },
  "language_info": {
   "file_extension": ".js",
   "mimetype": "application/javascript",
   "name": "javascript",
   "version": "16.2.0"
  }
 },
 "nbformat": 4,
 "nbformat_minor": 2
}
