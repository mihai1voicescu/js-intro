{
 "cells": [
  {
   "cell_type": "markdown",
   "metadata": {},
   "source": [
    "# JavaScript homework"
   ]
  },
  {
   "cell_type": "markdown",
   "metadata": {},
   "source": [
    "## Task 1\n",
    "\n",
    "Read\n",
    "\n",
    "https://nodejs.org/en/docs/guides/blocking-vs-non-blocking/\n",
    "\n",
    "https://nodejs.org/en/docs/guides/event-loop-timers-and-nexttick/\n",
    "\n",
    "https://nodejs.org/en/docs/guides/dont-block-the-event-loop/\n",
    "\n",
    "https://nodejs.org/en/docs/guides/timers-in-node/\n",
    "\n",
    "\n",
    "\n",
    "https://nodejs.dev/learn/the-nodejs-event-loop\n",
    "\n",
    "https://nodejs.dev/learn/understanding-process-nexttick\n",
    "\n",
    "https://nodejs.dev/learn/understanding-setimmediate\n",
    "\n",
    "https://nodejs.dev/learn/discover-javascript-timers\n",
    "\n",
    "https://nodejs.dev/learn/javascript-asynchronous-programming-and-callbacks\n",
    "\n",
    "https://nodejs.dev/learn/understanding-javascript-promises\n",
    "\n",
    "https://nodejs.dev/learn/modern-asynchronous-javascript-with-async-and-await\n",
    "\n",
    "https://nodejs.dev/learn/the-nodejs-event-emitter\n",
    "\n",
    "https://nodejs.dev/learn/error-handling-in-nodejs\n",
    "\n",
    "\n",
    "\n",
    "This will be very relevant to you no matter the team you are in.\n",
    "\n",
    "Answer the following open question: why is NodeJS so good for I/O intensive programs such as servers?\n",
    "\n",
    "Note: If you have time almost all the lectures in https://nodejs.dev/learn/ seem relevant and well made"
   ]
  },
  {
   "cell_type": "code",
   "execution_count": 1,
   "metadata": {},
   "outputs": [
    {
     "name": "stdout",
     "output_type": "stream",
     "text": [
      "Node is good at I/O intensive programs because, instead of blocking the thread and wasting CPU time, it will resume when the response comes back\n"
     ]
    }
   ],
   "source": [
    "function answer() {\n",
    "    // print out the answer here, using the JavaScript command for printing stuff\n",
    "    console.log('Node is good at I/O intensive programs because, instead of blocking the thread and wasting CPU time, it will resume when the response comes back')\n",
    "    \n",
    "}\n",
    "answer();"
   ]
  },
  {
   "cell_type": "markdown",
   "metadata": {},
   "source": [
    "## Task 2\n",
    "\n",
    "Create a class hierarchy related to a school catalog. The minimum classes should be:\n",
    "\n",
    "* Person\n",
    "  * Employee\n",
    "\t* Teacher\n",
    "\t\t* DepartmentHead\n",
    "\t* Administrator\n",
    "\t* ProDean\n",
    "  \t\t* Dean\n",
    "  * Student\n",
    "  \n",
    "Give them some miscellaneous properties and methods, such as (name, birthDate, grades etc and fire(),\n",
    "promote(), evaluateStudent() etc).\n",
    "\n",
    "Create one version with the \"class\" keyword and one in the explicit \"prototype\" + \"function\" way"
   ]
  },
  {
   "cell_type": "code",
   "execution_count": 1,
   "metadata": {},
   "outputs": [],
   "source": [
    "// add the code for the classes here\n",
    "class Person{\n",
    "    constructor(name,birthDate){\n",
    "        this._name = name\n",
    "        this._birthDate = birthDate\n",
    "    }\n",
    "}\n",
    "class Employee extends Person{\n",
    "    constructor(name,birthDate){\n",
    "        super(name,birthDate)\n",
    "    }\n",
    "}\n",
    "class Student extends Person{\n",
    "    constructor(name,birthDate,grades){\n",
    "        super(name,birthDate)\n",
    "        this._grades=grades\n",
    "    }\n",
    "    evaluateStudent(){\n",
    "        if(this._grades.reduce((acc,e)=>acc+e,0)/this._grades.length > 5){\n",
    "            console.log(\"Absolvent\")\n",
    "        }else{\n",
    "            console.log(\"Restantier\")\n",
    "        }\n",
    "    }    \n",
    "}\n",
    "class Teacher extends Employee{\n",
    "    constructor(name,birthDate){\n",
    "        super(name,birthDate)\n",
    "    }\n",
    "    promote(){\n",
    "        return new DepartmentHead(name,birthDate)\n",
    "    }\n",
    "    \n",
    "}\n",
    "class DepartmentHead extends Teacher{\n",
    "    constructor(name,birthDate){\n",
    "        super(name,birthDate)\n",
    "    }\n",
    "    fire(){\n",
    "        return new Teacher(name,birthDate)\n",
    "    }\n",
    "}\n",
    "class Administrator extends Employee{\n",
    "    constructor(name,birthDate){\n",
    "        super(name,birthDate)\n",
    "    }\n",
    "}\n",
    "class ProDean extends Employee{\n",
    "    constructor(name,birthDate){\n",
    "        super(name,birthDate)\n",
    "    }\n",
    "    fire(){\n",
    "        return new Dean(name,birthDate)\n",
    "    }\n",
    "}\n",
    "class Dean extends ProDean{\n",
    "    constructor(name,birthDate){\n",
    "        super(name,birthDate)\n",
    "    }\n",
    "    promote(){\n",
    "        return new ProDean(name,birthDate) \n",
    "    }\n",
    "}"
   ]
  },
  {
   "cell_type": "code",
   "execution_count": 2,
   "metadata": {},
   "outputs": [
    {
     "data": {
      "text/plain": [
       "Student {\n",
       "  _name: 'Cosmin',\n",
       "  _birthDate: 1621868773793,\n",
       "  _grades: [ 1, 2, 3 ]\n",
       "}"
      ]
     },
     "execution_count": 2,
     "metadata": {},
     "output_type": "execute_result"
    }
   ],
   "source": [
    "stud = new Student(\"Cosmin\",Date.now(),[1,2,3])"
   ]
  },
  {
   "cell_type": "code",
   "execution_count": 3,
   "metadata": {},
   "outputs": [
    {
     "name": "stdout",
     "output_type": "stream",
     "text": [
      "Restantier\n"
     ]
    }
   ],
   "source": [
    "stud.evaluateStudent()"
   ]
  },
  {
   "cell_type": "code",
   "execution_count": 1,
   "metadata": {},
   "outputs": [
    {
     "data": {
      "text/plain": [
       "[Function (anonymous)]"
      ]
     },
     "execution_count": 1,
     "metadata": {},
     "output_type": "execute_result"
    }
   ],
   "source": [
    "function Person(name,birthDate){\n",
    "    this._name = name;\n",
    "    this._birthDate= birthDate;\n",
    "}\n",
    "function Employee(name,birthDate){\n",
    "    Person.call(this,name,birthDate);\n",
    "}\n",
    "function Student(name, birthDate,grades){\n",
    "    Person.call(this,name,birthDate);\n",
    "    this._grades=grades\n",
    "}\n",
    "Student.prototype.evaluateStudent = function(){\n",
    "    if(this._grades.reduce((acc,e)=>acc+e,0)/this._grades.length > 5){\n",
    "        console.log(\"Absolvent\");\n",
    "    }else{\n",
    "        console.log(\"Restantier\");\n",
    "    }\n",
    "}\n",
    "\n",
    "function Teacher(name,birthDate){\n",
    "    Employee.call(this,name,birthDate);\n",
    "}\n",
    "Teacher.prototype.promote = function(){\n",
    "    return new DepartmentHead(this._name,this._birthDate);\n",
    "}\n",
    "function DepartmentHead(name,birthDate){\n",
    "    Teacher.call(this,name,birthDate);\n",
    "}\n",
    "DepartmentHead.prototype.fire = function(){\n",
    "    return new Teacher(this._name,this._birthDate);\n",
    "}\n",
    "function Administrator(name,birthDate){\n",
    "    Employee.call(this,name,birthDate);\n",
    "} \n",
    "function ProDean(name,birthDate){\n",
    "    Employee.call(this,name,birthDate);\n",
    "}\n",
    "ProDean.prototype.fire=function(){\n",
    "    return new Dean(this._name,this._birthDate)\n",
    "}\n",
    "function Dean(name,birthDate){\n",
    "    ProDean.call(this,name,birthDate);\n",
    "}\n",
    "Dean.prototype.promote = function(){\n",
    "    return new ProDean(this._name,this._birthDate)\n",
    "}"
   ]
  },
  {
   "cell_type": "code",
   "execution_count": 2,
   "metadata": {},
   "outputs": [
    {
     "data": {
      "text/plain": [
       "Student {\n",
       "  _name: 'Cosmin',\n",
       "  _birthDate: 1621869593458,\n",
       "  _grades: [ 5, 6, 7 ]\n",
       "}"
      ]
     },
     "execution_count": 2,
     "metadata": {},
     "output_type": "execute_result"
    }
   ],
   "source": [
    "stud = new Student(\"Cosmin\",Date.now(),[5,6,7])"
   ]
  },
  {
   "cell_type": "code",
   "execution_count": 3,
   "metadata": {},
   "outputs": [
    {
     "name": "stdout",
     "output_type": "stream",
     "text": [
      "Absolvent\n"
     ]
    }
   ],
   "source": [
    "stud.evaluateStudent()"
   ]
  }
 ],
 "metadata": {
  "kernelspec": {
   "display_name": "Javascript (Node.js)",
   "language": "javascript",
   "name": "javascript"
  },
  "language_info": {
   "file_extension": ".js",
   "mimetype": "application/javascript",
   "name": "javascript",
   "version": "16.2.0"
  }
 },
 "nbformat": 4,
 "nbformat_minor": 2
}
