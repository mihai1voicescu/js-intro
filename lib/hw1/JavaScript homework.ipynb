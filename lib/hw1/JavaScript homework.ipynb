{
 "cells": [
  {
   "cell_type": "markdown",
   "metadata": {},
   "source": [
    "# JavaScript homework"
   ]
  },
  {
   "cell_type": "markdown",
   "metadata": {},
   "source": [
    "## Task 1\n",
    "\n",
    "Read\n",
    "\n",
    "https://nodejs.org/en/docs/guides/blocking-vs-non-blocking/\n",
    "\n",
    "https://nodejs.org/en/docs/guides/event-loop-timers-and-nexttick/\n",
    "\n",
    "https://nodejs.org/en/docs/guides/dont-block-the-event-loop/\n",
    "\n",
    "https://nodejs.org/en/docs/guides/timers-in-node/\n",
    "\n",
    "\n",
    "\n",
    "https://nodejs.dev/learn/the-nodejs-event-loop\n",
    "\n",
    "https://nodejs.dev/learn/understanding-process-nexttick\n",
    "\n",
    "https://nodejs.dev/learn/understanding-setimmediate\n",
    "\n",
    "https://nodejs.dev/learn/discover-javascript-timers\n",
    "\n",
    "https://nodejs.dev/learn/javascript-asynchronous-programming-and-callbacks\n",
    "\n",
    "https://nodejs.dev/learn/understanding-javascript-promises\n",
    "\n",
    "https://nodejs.dev/learn/modern-asynchronous-javascript-with-async-and-await\n",
    "\n",
    "https://nodejs.dev/learn/the-nodejs-event-emitter\n",
    "\n",
    "https://nodejs.dev/learn/error-handling-in-nodejs\n",
    "\n",
    "\n",
    "\n",
    "This will be very relevant to you no matter the team you are in.\n",
    "\n",
    "Answer the following open question: why is NodeJS so good for I/O intensive programs such as servers?\n",
    "\n",
    "Note: If you have time almost all the lectures in https://nodejs.dev/learn/ seem relevant and well made"
   ]
  },
  {
   "cell_type": "code",
   "execution_count": 1,
   "metadata": {},
   "outputs": [
    {
     "name": "stdout",
     "output_type": "stream",
     "text": [
      "It has blocking/non-blocking procedures, promises, etc. Which provide several ways to deal with intense traffic.\n"
     ]
    }
   ],
   "source": [
    "function answer() {\n",
    "    // print out the answer here, using the JavaScript command for printing stuff\n",
    "    console.log('It has blocking/non-blocking procedures, promises, etc. Which provide several ways to deal with intense traffic.');\n",
    "}\n",
    "answer();"
   ]
  },
  {
   "cell_type": "markdown",
   "metadata": {},
   "source": [
    "## Task 2\n",
    "\n",
    "Create a class hierarchy related to a school catalog. The minimum classes should be:\n",
    "\n",
    "* Person\n",
    "  * Employee\n",
    "\t* Teacher\n",
    "\t\t* DepartmentHead\n",
    "\t* Administrator\n",
    "\t* ProDean\n",
    "  \t\t* Dean\n",
    "  * Student\n",
    "  \n",
    "Give them some miscellaneous properties and methods, such as (name, birthDate, grades etc and fire(),\n",
    "promote(), evaluateStudent() etc).\n",
    "\n",
    "Create one version with the \"class\" keyword and one in the explicit \"prototype\" + \"function\" way"
   ]
  },
  {
   "cell_type": "code",
   "execution_count": 2,
   "metadata": {},
   "outputs": [
    {
     "data": {
      "text/plain": [
       "[Function (anonymous)]"
      ]
     },
     "execution_count": 2,
     "metadata": {},
     "output_type": "execute_result"
    }
   ],
   "source": [
    "class Person {\n",
    "    constructor(name, birthDate) {\n",
    "        this.name = name;\n",
    "        this.birthDate = birthDate;\n",
    "    }\n",
    "}\n",
    "\n",
    "class Employee extends Person {\n",
    "    constructor(name, birthDate, jobTitle) {\n",
    "        super.constructor(name, birthDate);\n",
    "        this.jobTitle = jobTitle;\n",
    "    }\n",
    "    \n",
    "    get jobTitle() {\n",
    "        return this.jobTitle;\n",
    "    }\n",
    "    \n",
    "    set jobTitle(jobTitle) {\n",
    "        this.jobTitle = jobTitle;\n",
    "    }\n",
    "}\n",
    "\n",
    "class Student extends Person {\n",
    "    constructor(name, birthDate, faculty) {\n",
    "        super.constructor(name, birthDate);\n",
    "        this.faculty = faculty;\n",
    "    }\n",
    "}\n",
    "\n",
    "class Teacher extends Employee {\n",
    "    constructor(name, birthDate, jobTitle, subject) {\n",
    "        super.constructor(name, birthDate, jobTitle);\n",
    "        this.subject = subject;\n",
    "    }\n",
    "}\n",
    "\n",
    "class Administrator extends Employee {\n",
    "    constructor(name, birthDate, jobTitle, salary) {\n",
    "        super.constructor(name, birthDate, jobTitle);\n",
    "        this.salary = salary;\n",
    "    }\n",
    "}\n",
    "\n",
    "class ProDean extends Employee {\n",
    "    constructor(name, birthDate, jobTitle, carDriven) {\n",
    "        super.constructor(name, birthDate, jobTitle);\n",
    "        this.carDriven = carDriven;\n",
    "    }\n",
    "}\n",
    "\n",
    "class DepartmentHead extends Teacher {\n",
    "    constructor(name, birthDate, jobTitle, subject, nickName) {\n",
    "        super.constructor(name, birthDate, jobTitle, subject);\n",
    "        this.nickName = nickName;\n",
    "    }\n",
    "}\n",
    "\n",
    "class Dean extends ProDean {\n",
    "    constructor(name, birthDate, jobTitle, carDriven, gender) {\n",
    "        super.constructor(name, birthDate, jobTitle, carDriven);\n",
    "        this.gender = gender;\n",
    "    }\n",
    "}\n",
    "\n",
    "\n",
    "//////////////////////////////////////////////////////////////////////\n",
    "\n",
    "\n",
    "function Persoana(name, birthDate) {\n",
    "    this.name = name;\n",
    "    this.birthDate = birthDate;\n",
    "}\n",
    "Persoana.prototype.getName = function() {\n",
    "    return name;\n",
    "}\n",
    "Persoana.prototype.getBirthDate = function() {\n",
    "    return birthDate;\n",
    "}\n",
    "\n",
    "function Angajat(name, birthDate, jobTitle) {\n",
    "    Persoana.call(name, birthDate);\n",
    "    this.jobTitle = jobTitle;\n",
    "}"
   ]
  },
  {
   "cell_type": "code",
   "execution_count": 3,
   "metadata": {
    "scrolled": true
   },
   "outputs": [
    {
     "ename": "ReferenceError",
     "evalue": "print is not defined",
     "output_type": "error",
     "traceback": [
      "evalmachine.<anonymous>:1",
      "print('Hello World')",
      "^",
      "",
      "ReferenceError: print is not defined",
      "    at evalmachine.<anonymous>:1:1",
      "    at Script.runInThisContext (node:vm:131:12)",
      "    at Object.runInThisContext (node:vm:308:38)",
      "    at run ([eval]:1054:15)",
      "    at onRunRequest ([eval]:888:18)",
      "    at onMessage ([eval]:848:13)",
      "    at process.emit (node:events:365:28)",
      "    at emit (node:internal/child_process:920:12)",
      "    at processTicksAndRejections (node:internal/process/task_queues:84:21)"
     ]
    }
   ],
   "source": [
    "print('Hello World')"
   ]
  },
  {
   "cell_type": "code",
   "execution_count": null,
   "metadata": {},
   "outputs": [],
   "source": []
  }
 ],
 "metadata": {
  "kernelspec": {
   "display_name": "Javascript (Node.js)",
   "language": "javascript",
   "name": "javascript"
  },
  "language_info": {
   "file_extension": ".js",
   "mimetype": "application/javascript",
   "name": "javascript",
   "version": "16.2.0"
  }
 },
 "nbformat": 4,
 "nbformat_minor": 2
}
