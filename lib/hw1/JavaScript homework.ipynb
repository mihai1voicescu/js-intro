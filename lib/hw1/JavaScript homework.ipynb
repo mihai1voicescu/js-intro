{
 "cells": [
  {
   "cell_type": "markdown",
   "metadata": {},
   "source": [
    "# JavaScript homework"
   ]
  },
  {
   "cell_type": "markdown",
   "metadata": {},
   "source": [
    "## Task 1\n",
    "\n",
    "Read\n",
    "\n",
    "https://nodejs.org/en/docs/guides/blocking-vs-non-blocking/\n",
    "\n",
    "https://nodejs.org/en/docs/guides/event-loop-timers-and-nexttick/\n",
    "\n",
    "https://nodejs.org/en/docs/guides/dont-block-the-event-loop/\n",
    "\n",
    "https://nodejs.org/en/docs/guides/timers-in-node/\n",
    "\n",
    "\n",
    "\n",
    "https://nodejs.dev/learn/the-nodejs-event-loop\n",
    "\n",
    "https://nodejs.dev/learn/understanding-process-nexttick\n",
    "\n",
    "https://nodejs.dev/learn/understanding-setimmediate\n",
    "\n",
    "https://nodejs.dev/learn/discover-javascript-timers\n",
    "\n",
    "https://nodejs.dev/learn/javascript-asynchronous-programming-and-callbacks\n",
    "\n",
    "https://nodejs.dev/learn/understanding-javascript-promises\n",
    "\n",
    "https://nodejs.dev/learn/modern-asynchronous-javascript-with-async-and-await\n",
    "\n",
    "https://nodejs.dev/learn/the-nodejs-event-emitter\n",
    "\n",
    "https://nodejs.dev/learn/error-handling-in-nodejs\n",
    "\n",
    "\n",
    "\n",
    "This will be very relevant to you no matter the team you are in.\n",
    "\n",
    "Answer the following open question: why is NodeJS so good for I/O intensive programs such as servers?\n",
    "\n",
    "Note: If you have time almost all the lectures in https://nodejs.dev/learn/ seem relevant and well made"
   ]
  },
  {
   "cell_type": "code",
   "execution_count": 10,
   "metadata": {},
   "outputs": [
    {
     "name": "stdout",
     "output_type": "stream",
     "text": [
      "NodeJS was created to solve the server side for Javascript programms, specifically eliminating the wasted time for waiting for IO operations. NodeJS uses a single-thread model and still maintains the concurrent access to IO by using event loop and asynchronous/non-blocking IO: when an event occurs, the event loop passes it to the event handler (callback function) but doesn't wait for it to finish, it just goes to the next event\n"
     ]
    }
   ],
   "source": [
    "function answer() {\n",
    "    // print out the answer here, using the JavaScript command for printing stuff\n",
    "    console.log('NodeJS was created to solve the server side for JavaScript programms, specifically eliminating the wasted time'+\n",
    "               ' for waiting for IO operations. NodeJS uses a single-thread model and still maintains the concurrent access to IO'+\n",
    "               ' by using event loop and asynchronous/non-blocking IO: when an event occurs, the event loop passes it to the' +\n",
    "               ' event handler (callback function) but doesn\\'t wait for it to finish, it just goes to the next event');\n",
    "}\n",
    "answer();"
   ]
  },
  {
   "cell_type": "markdown",
   "metadata": {},
   "source": [
    "## Task 2\n",
    "\n",
    "Create a class hierarchy related to a school catalog. The minimum classes should be:\n",
    "\n",
    "* Person\n",
    "  * Employee\n",
    "\t* Teacher\n",
    "\t\t* DepartmentHead\n",
    "\t* Administrator\n",
    "\t* ProDean\n",
    "  \t\t* Dean\n",
    "  * Student\n",
    "  \n",
    "Give them some miscellaneous properties and methods, such as (name, birthDate, grades etc and fire(),\n",
    "promote(), evaluateStudent() etc).\n",
    "\n",
    "Create one version with the \"class\" keyword and one in the explicit \"prototype\" + \"function\" way"
   ]
  },
  {
   "cell_type": "code",
   "execution_count": 1,
   "metadata": {},
   "outputs": [],
   "source": [
    "\n",
    "// class Person {\n",
    "//     constructor(birthDate = Date.now(), name = 'unknown') {\n",
    "//         this._birthDate = birthDate;\n",
    "//         this._name = name;\n",
    "//     }\n",
    "// \n",
    "// \n",
    "//     get name() {\n",
    "//         return this._name;\n",
    "//     }\n",
    "\n",
    "//     set name(value) {\n",
    "//         this._name = value;\n",
    "//     }\n",
    "\n",
    "\n",
    "//     get birthDate() {\n",
    "//         return this._birthDate;\n",
    "//     }\n",
    "\n",
    "//     set birthDate(value) {\n",
    "//         this._birthDate = value;\n",
    "//     }\n",
    "// }\n",
    "\n",
    "// class Employee extends Person {\n",
    "//     constructor(birthDate, name, salary) {\n",
    "//         super(birthDate, name);\n",
    "//         this._salary = salary;\n",
    "//     }\n",
    "\n",
    "//     fire() {\n",
    "//         console.log(\"Employee is fired\");\n",
    "//     }\n",
    "\n",
    "// }\n",
    "\n",
    "// class Student extends Person {\n",
    "//     constructor(birthDate, name, grades) {\n",
    "//         super(birthDate, name);\n",
    "//         this._grades = grades;\n",
    "//     }\n",
    "\n",
    "//     evaluateStudent() {\n",
    "//         console.log(this._grades);\n",
    "//     }\n",
    "// }\n",
    "\n",
    "// class Teacher extends Employee {\n",
    "//     constructor(birthDate, name, salary, department) {\n",
    "//         super(birthDate, name, salary);\n",
    "//         this._department = department;\n",
    "//     }\n",
    "// }\n",
    "\n",
    "// class Administrator extends Employee {\n",
    "//     constructor(birthDate, name, salary, building) {\n",
    "//         super(birthDate, name, salary);\n",
    "//         this._building = building;\n",
    "//     }\n",
    "// }\n",
    "\n",
    "// class ProDean extends Employee {\n",
    "//     constructor(birthDate, name, salary, faculty) {\n",
    "//         super(birthDate, name, salary);\n",
    "//         this._faculty = faculty;\n",
    "//     }\n",
    "//     promote() {\n",
    "//         console.log(\"promotion\");\n",
    "//     }\n",
    "// }\n",
    "\n",
    "// class DepartmentHead extends Teacher {\n",
    "//     constructor(birthDate, name, salary, department, meetings) {\n",
    "//         super(birthDate, name, salary, department);\n",
    "//         this._meetings = meetings;\n",
    "//     }\n",
    "// }\n",
    "\n",
    "// class Dean extends ProDean {\n",
    "//     //are faculty\n",
    "//     constructor(birthDate, name, salary, faculty, department) {\n",
    "//         super(birthDate, name, salary, faculty);\n",
    "//         this._department = department;\n",
    "//     }\n",
    "// }\n",
    "\n",
    "\n",
    "function Person(birthDate, name) {\n",
    "    this._name = name;\n",
    "    this._birthDate = birthDate;\n",
    "}\n",
    "\n",
    "function Employee(birthDate, name, salary) {\n",
    "    this._salary = salary;\n",
    "    Employee.prototype = new Person(birthDate, name);\n",
    "    Employee.prototype.fire = function() {\n",
    "        console.log(\"Employee is fired\");\n",
    "    }\n",
    "\n",
    "}\n",
    "\n",
    "function Student(birthDate, name,grades) {\n",
    "    this._grades = grades;\n",
    "    Student.prototype = new Person(birthDate, name);\n",
    "    Student.prototype.evaluateStudent = function(){\n",
    "        console.log(this._grades);\n",
    "    }\n",
    "}\n",
    "\n",
    "\n",
    "function Teacher(birthDate, name, salary, department) {\n",
    "    this._department= department;\n",
    "    Teacher.prototype = new Employee(birthDate, name, salary);\n",
    "\n",
    "}\n",
    "\n",
    "function Administrator(birthDate, name, salary, building) {\n",
    "    this._building = building;\n",
    "    Administrator.prototype = new Employee(birthDate, name, salary);\n",
    "\n",
    "}\n",
    "\n",
    "function ProDean(birthDate, name, salary, faculty) {\n",
    "    this._faculty = faculty;\n",
    "    ProDean.prototype = new Employee(birthDate, name, salary);\n",
    "    ProDean.prototype.promote = function() {\n",
    "        console.log(\"promotion\");\n",
    "    }\n",
    "\n",
    "}\n",
    "\n",
    "\n",
    "function DepartmentHead(birthDate, name, salary, department, meetings) {\n",
    "    this._meetings = meetings;\n",
    "    DepartmentHead.prototype = new Teacher(birthDate, name, salary, department);\n",
    "\n",
    "}\n",
    "\n",
    "function Dean(birthDate, name, salary, faculty, department) {\n",
    "    this._department = department;\n",
    "    Dean.prototype = new ProDean(birthDate, name, salary, faculty);\n",
    "\n",
    "}\n"
   ]
  },
  {
   "cell_type": "code",
   "execution_count": 2,
   "metadata": {},
   "outputs": [
    {
     "data": {
      "text/plain": [
       "Person { _name: 'random', _birthDate: 1621857714196 }"
      ]
     },
     "execution_count": 2,
     "metadata": {},
     "output_type": "execute_result"
    }
   ],
   "source": [
    "person = new Person(Date.now(), \"random\");"
   ]
  },
  {
   "cell_type": "code",
   "execution_count": 3,
   "metadata": {},
   "outputs": [
    {
     "data": {
      "text/plain": [
       "{ _grades: 10 }"
      ]
     },
     "execution_count": 3,
     "metadata": {},
     "output_type": "execute_result"
    }
   ],
   "source": [
    "student1 = new Student(Date.now(), \"nume1\", 10);\n"
   ]
  },
  {
   "cell_type": "code",
   "execution_count": 4,
   "metadata": {},
   "outputs": [
    {
     "name": "stdout",
     "output_type": "stream",
     "text": [
      "[ 10, 10, 10 ]\n"
     ]
    }
   ],
   "source": [
    "student2 = new Student(Date.now(), \"nume2\", [10,10,10]);\n",
    "student2.evaluateStudent();"
   ]
  },
  {
   "cell_type": "code",
   "execution_count": 7,
   "metadata": {},
   "outputs": [
    {
     "name": "stdout",
     "output_type": "stream",
     "text": [
      "promotion\n"
     ]
    }
   ],
   "source": [
    "pd = new ProDean(Date.now(), \"name_prodean\", 50000, \"ACS\");\n",
    "pd.promote();"
   ]
  },
  {
   "cell_type": "code",
   "execution_count": 9,
   "metadata": {},
   "outputs": [
    {
     "name": "stdout",
     "output_type": "stream",
     "text": [
      "Employee is fired\n"
     ]
    }
   ],
   "source": [
    "admin = new Administrator('01-01-1990', 'name_admin', 10000, 'PR');\n",
    "admin.fire();"
   ]
  },
  {
   "cell_type": "code",
   "execution_count": null,
   "metadata": {},
   "outputs": [],
   "source": []
  },
  {
   "cell_type": "code",
   "execution_count": null,
   "metadata": {},
   "outputs": [],
   "source": []
  }
 ],
 "metadata": {
  "kernelspec": {
   "display_name": "Javascript (Node.js)",
   "language": "javascript",
   "name": "javascript"
  },
  "language_info": {
   "file_extension": ".js",
   "mimetype": "application/javascript",
   "name": "javascript",
   "version": "16.2.0"
  }
 },
 "nbformat": 4,
 "nbformat_minor": 2
}
