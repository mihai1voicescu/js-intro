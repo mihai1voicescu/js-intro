{
 "cells": [
  {
   "cell_type": "markdown",
   "metadata": {},
   "source": [
    "# Docker homework"
   ]
  },
  {
   "cell_type": "markdown",
   "metadata": {},
   "source": [
    "In the demo you were shown how a Containerfile/Dockerfile looks like. You were also shown how to run containers and networks.\n",
    "\n",
    "You were also provided with an example server of NodeJS.\n",
    "\n",
    "Please provide the answers in this notebook"
   ]
  },
  {
   "cell_type": "markdown",
   "metadata": {},
   "source": [
    "## Warning\n",
    "Be sure to run it from the root so all files are avaiable to the notebook"
   ]
  },
  {
   "cell_type": "markdown",
   "metadata": {},
   "source": [
    "## Task 1\n",
    "Create a Dockerfile for the NodeJS server found in [basic-server](../basic-server).\n",
    "\n",
    "You must edit the [Dockerfile](../basic-server/Dockerfile) found in the basic-server folder.\n",
    "\n",
    "Remember to also bundle the dependecies listed in the package.json in the resulting image."
   ]
  },
  {
   "cell_type": "code",
   "execution_count": 1,
   "metadata": {},
   "outputs": [
    {
     "name": "stdout",
     "output_type": "stream",
     "text": [
      "# start from a base image\n",
      "FROM node:latest\n",
      "\n",
      "# run various command, ussualy installs\n",
      "RUN apt-get update\n",
      "RUN apt-get install -y python3 python3-notebook jupyter jupyter-core\n",
      "\n",
      "RUN pip3 install pyzmq bash_kernel\n",
      "RUN npm i -g ijavascript\n",
      "RUN ijsinstall\n",
      "RUN python3 -m bash_kernel.install\n",
      "\n",
      "RUN apt-get update\n",
      "\n",
      "RUN apt-get install -y \\\n",
      "    apt-transport-https \\\n",
      "    ca-certificates \\\n",
      "    curl \\\n",
      "    gnupg \\\n",
      "    lsb-release\n",
      "\n",
      "RUN curl -fsSL https://get.docker.com -o /get-docker.sh\n",
      "\n",
      "RUN sh /get-docker.sh\n",
      "\n",
      "# final comand to run\n",
      "CMD jupyter notebook /usr/project --ip=0.0.0.0 --allow-root --NotebookApp.token='' --NotebookApp.password=''\n",
      "\n",
      "\n"
     ]
    }
   ],
   "source": [
    "# as an example check this out\n",
    "cat ../badass-jupyter/Dockerfile"
   ]
  },
  {
   "cell_type": "code",
   "execution_count": 2,
   "metadata": {},
   "outputs": [
    {
     "name": "stdout",
     "output_type": "stream",
     "text": [
      "FROM node:14\n",
      "\n",
      "WORKDIR /usr/server/\n",
      "COPY . .\n",
      "RUN npm install\n",
      "EXPOSE 3001\n",
      "CMD node index.js\n",
      "\n"
     ]
    }
   ],
   "source": [
    "# Do not alter\n",
    "cat ../basic-server/Dockerfile"
   ]
  },
  {
   "cell_type": "code",
   "execution_count": 3,
   "metadata": {},
   "outputs": [
    {
     "name": "stdout",
     "output_type": "stream",
     "text": [
      "Sending build context to Docker daemon  49.15kB\n",
      "Step 1/6 : FROM node:14\n",
      " ---> 9153ee3e2ced\n",
      "Step 2/6 : WORKDIR /usr/server/\n",
      " ---> Using cache\n",
      " ---> 26f246e6bf18\n",
      "Step 3/6 : COPY . .\n",
      " ---> Using cache\n",
      " ---> 6c6ed2e4aa70\n",
      "Step 4/6 : RUN npm install\n",
      " ---> Using cache\n",
      " ---> 9bc0c733356f\n",
      "Step 5/6 : EXPOSE 3001\n",
      " ---> Using cache\n",
      " ---> 24a16b87fb71\n",
      "Step 6/6 : CMD node index.js\n",
      " ---> Using cache\n",
      " ---> b54384c46706\n",
      "Successfully built b54384c46706\n"
     ]
    }
   ],
   "source": [
    "docker build ../basic-server/"
   ]
  },
  {
   "cell_type": "markdown",
   "metadata": {},
   "source": [
    "## Task 2\n",
    "You must now run the server with the database and prove it works.\n",
    "\n",
    "Open the 2 containers(server+db) in the same network. Remember that you are also running this Jupiter server in a container, so you must also add this one to the network.\n",
    "\n",
    "Remember that you must also setup the database with the [sql script](../basic-server/setup.sql). Check the [docker image documentation](https://hub.docker.com/_/mariadb) for the best way to do this.\n"
   ]
  },
  {
   "cell_type": "code",
   "execution_count": 6,
   "metadata": {},
   "outputs": [
    {
     "name": "stdout",
     "output_type": "stream",
     "text": [
      "2021-05-27 17:32:51+00:00 [Note] [Entrypoint]: Entrypoint script for MariaDB Server 1:10.5.10+maria~focal started.\n",
      "2021-05-27 17:32:52+00:00 [Note] [Entrypoint]: Switching to dedicated user 'mysql'\n",
      "2021-05-27 17:32:52+00:00 [Note] [Entrypoint]: Entrypoint script for MariaDB Server 1:10.5.10+maria~focal started.\n",
      "{\"level\":30,\"time\":1622136772223,\"pid\":13,\"hostname\":\"89383521f373\",\"msg\":\"Server listening at http://0.0.0.0:3001\"}\n",
      "{\"level\":30,\"time\":1622136772223,\"pid\":13,\"hostname\":\"89383521f373\",\"msg\":\"Listening http://0.0.0.0:3001\"}\n",
      "2021-05-27 17:32:52+00:00 [Note] [Entrypoint]: Initializing database files\n",
      "\n",
      "\n",
      "PLEASE REMEMBER TO SET A PASSWORD FOR THE MariaDB root USER !\n",
      "To do so, start the server, then issue the following command:\n",
      "\n",
      "'/usr/bin/mysql_secure_installation'\n",
      "\n",
      "which will also give you the option of removing the test\n",
      "databases and anonymous user created by default.  This is\n",
      "strongly recommended for production servers.\n",
      "\n",
      "See the MariaDB Knowledgebase at https://mariadb.com/kb or the\n",
      "MySQL manual for more instructions.\n",
      "\n",
      "Please report any problems at https://mariadb.org/jira\n",
      "\n",
      "The latest information about MariaDB is available at https://mariadb.org/.\n",
      "You can find additional information about the MySQL part at:\n",
      "https://dev.mysql.com\n",
      "Consider joining MariaDB's strong and vibrant community:\n",
      "https://mariadb.org/get-involved/\n",
      "\n",
      "2021-05-27 17:32:53+00:00 [Note] [Entrypoint]: Database files initialized\n",
      "2021-05-27 17:32:53+00:00 [Note] [Entrypoint]: Starting temporary server\n",
      "2021-05-27 17:32:53+00:00 [Note] [Entrypoint]: Waiting for server startup\n",
      "2021-05-27 17:32:53 0 [Note] mysqld (mysqld 10.5.10-MariaDB-1:10.5.10+maria~focal) starting as process 104 ...\n",
      "2021-05-27 17:32:53 0 [Note] InnoDB: Uses event mutexes\n",
      "2021-05-27 17:32:53 0 [Note] InnoDB: Compressed tables use zlib 1.2.11\n",
      "2021-05-27 17:32:53 0 [Note] InnoDB: Number of pools: 1\n",
      "2021-05-27 17:32:53 0 [Note] InnoDB: Using crc32 + pclmulqdq instructions\n",
      "2021-05-27 17:32:53 0 [Note] mysqld: O_TMPFILE is not supported on /tmp (disabling future attempts)\n",
      "2021-05-27 17:32:53 0 [Note] InnoDB: Using Linux native AIO\n",
      "2021-05-27 17:32:53 0 [Note] InnoDB: Initializing buffer pool, total size = 134217728, chunk size = 134217728\n",
      "2021-05-27 17:32:53 0 [Note] InnoDB: Completed initialization of buffer pool\n",
      "2021-05-27 17:32:53 0 [Note] InnoDB: 128 rollback segments are active.\n",
      "2021-05-27 17:32:53 0 [Note] InnoDB: Creating shared tablespace for temporary tables\n",
      "2021-05-27 17:32:53 0 [Note] InnoDB: Setting file './ibtmp1' size to 12 MB. Physically writing the file full; Please wait ...\n",
      "2021-05-27 17:32:53 0 [Note] InnoDB: File './ibtmp1' size is now 12 MB.\n",
      "2021-05-27 17:32:53 0 [Note] InnoDB: 10.5.10 started; log sequence number 45130; transaction id 20\n",
      "2021-05-27 17:32:53 0 [Note] InnoDB: Loading buffer pool(s) from /initialized-db/ib_buffer_pool\n",
      "2021-05-27 17:32:53 0 [Note] Plugin 'FEEDBACK' is disabled.\n",
      "2021-05-27 17:32:53 0 [Note] InnoDB: Buffer pool(s) load completed at 210527 17:32:53\n",
      "2021-05-27 17:32:53 0 [Warning] 'user' entry 'root@02c3f9294f64' ignored in --skip-name-resolve mode.\n",
      "2021-05-27 17:32:53 0 [Warning] 'proxies_priv' entry '@% root@02c3f9294f64' ignored in --skip-name-resolve mode.\n",
      "2021-05-27 17:32:53 0 [Note] Reading of all Master_info entries succeeded\n",
      "2021-05-27 17:32:53 0 [Note] Added new Master_info '' to hash table\n",
      "2021-05-27 17:32:53 0 [Note] mysqld: ready for connections.\n",
      "Version: '10.5.10-MariaDB-1:10.5.10+maria~focal'  socket: '/run/mysqld/mysqld.sock'  port: 0  mariadb.org binary distribution\n",
      "2021-05-27 17:32:54+00:00 [Note] [Entrypoint]: Temporary server started.\n",
      "Warning: Unable to load '/usr/share/zoneinfo/leap-seconds.list' as time zone. Skipping it.\n",
      "Warning: Unable to load '/usr/share/zoneinfo/leapseconds' as time zone. Skipping it.\n",
      "Warning: Unable to load '/usr/share/zoneinfo/tzdata.zi' as time zone. Skipping it.\n",
      "2021-05-27 17:32:56 5 [Warning] 'proxies_priv' entry '@% root@02c3f9294f64' ignored in --skip-name-resolve mode.\n",
      "\n",
      "2021-05-27 17:32:56+00:00 [Note] [Entrypoint]: /usr/local/bin/docker-entrypoint.sh: running /docker-entrypoint-initdb.d/setup.sql\n",
      "\n",
      "\n",
      "2021-05-27 17:32:56+00:00 [Note] [Entrypoint]: Stopping temporary server\n",
      "2021-05-27 17:32:56 0 [Note] mysqld (initiated by: root[root] @ localhost []): Normal shutdown\n",
      "2021-05-27 17:32:56 0 [Note] Event Scheduler: Purging the queue. 0 events\n",
      "2021-05-27 17:32:56 0 [Note] InnoDB: FTS optimize thread exiting.\n",
      "2021-05-27 17:32:56 0 [Note] InnoDB: Starting shutdown...\n",
      "2021-05-27 17:32:56 0 [Note] InnoDB: Dumping buffer pool(s) to /initialized-db/ib_buffer_pool\n",
      "2021-05-27 17:32:56 0 [Note] InnoDB: Buffer pool(s) dump completed at 210527 17:32:56\n",
      "2021-05-27 17:32:56 0 [Note] InnoDB: Removed temporary tablespace data file: \"ibtmp1\"\n",
      "2021-05-27 17:32:56 0 [Note] InnoDB: Shutdown completed; log sequence number 47467; transaction id 30\n",
      "2021-05-27 17:32:56 0 [Note] mysqld: Shutdown complete\n",
      "\n",
      "2021-05-27 17:32:57+00:00 [Note] [Entrypoint]: Temporary server stopped\n",
      "\n",
      "2021-05-27 17:32:57+00:00 [Note] [Entrypoint]: MariaDB init process done. Ready for start up.\n",
      "\n",
      "2021-05-27 17:32:57 0 [Note] mysqld (mysqld 10.5.10-MariaDB-1:10.5.10+maria~focal) starting as process 1 ...\n",
      "2021-05-27 17:32:57 0 [Note] InnoDB: Uses event mutexes\n",
      "2021-05-27 17:32:57 0 [Note] InnoDB: Compressed tables use zlib 1.2.11\n",
      "2021-05-27 17:32:57 0 [Note] InnoDB: Number of pools: 1\n",
      "2021-05-27 17:32:57 0 [Note] InnoDB: Using crc32 + pclmulqdq instructions\n",
      "2021-05-27 17:32:57 0 [Note] mysqld: O_TMPFILE is not supported on /tmp (disabling future attempts)\n",
      "2021-05-27 17:32:57 0 [Note] InnoDB: Using Linux native AIO\n",
      "2021-05-27 17:32:57 0 [Note] InnoDB: Initializing buffer pool, total size = 134217728, chunk size = 134217728\n",
      "2021-05-27 17:32:57 0 [Note] InnoDB: Completed initialization of buffer pool\n",
      "2021-05-27 17:32:57 0 [Note] InnoDB: 128 rollback segments are active.\n",
      "2021-05-27 17:32:57 0 [Note] InnoDB: Creating shared tablespace for temporary tables\n",
      "2021-05-27 17:32:57 0 [Note] InnoDB: Setting file './ibtmp1' size to 12 MB. Physically writing the file full; Please wait ...\n",
      "2021-05-27 17:32:57 0 [Note] InnoDB: File './ibtmp1' size is now 12 MB.\n",
      "2021-05-27 17:32:57 0 [Note] InnoDB: 10.5.10 started; log sequence number 47467; transaction id 31\n",
      "2021-05-27 17:32:57 0 [Note] InnoDB: Loading buffer pool(s) from /initialized-db/ib_buffer_pool\n",
      "2021-05-27 17:32:57 0 [Note] Plugin 'FEEDBACK' is disabled.\n",
      "2021-05-27 17:32:57 0 [Note] InnoDB: Buffer pool(s) load completed at 210527 17:32:57\n",
      "2021-05-27 17:32:57 0 [Note] Server socket created on IP: '::'.\n",
      "2021-05-27 17:32:57 0 [Warning] 'proxies_priv' entry '@% root@02c3f9294f64' ignored in --skip-name-resolve mode.\n",
      "2021-05-27 17:32:57 0 [Note] Reading of all Master_info entries succeeded\n",
      "2021-05-27 17:32:57 0 [Note] Added new Master_info '' to hash table\n",
      "2021-05-27 17:32:57 0 [Note] mysqld: ready for connections.\n",
      "Version: '10.5.10-MariaDB-1:10.5.10+maria~focal'  socket: '/run/mysqld/mysqld.sock'  port: 3306  mariadb.org binary distribution\n",
      "788fc40470cb7bdc620d1e50c29aa710b39f8fbc5c498c76f5f71b2a0e9550a9\n",
      "[1]-  Exit 137                docker run -p 3001:3001 --net my-net --name basic-server 978f4591d8a0\n",
      "[2]+  Exit 137                docker run -p 3306:3306 --net my-net --name mariadb f8c48ac8b1c4\n",
      "[1] 476\n",
      "[2] 484\n"
     ]
    }
   ],
   "source": [
    "docker network create my-net\n",
    "docker run -p 3001:3001 --net my-net --name basic-server 978f4591d8a0 &\n",
    "docker run -p 3306:3306 --net my-net --name mariadb f8c48ac8b1c4 &"
   ]
  },
  {
   "cell_type": "code",
   "execution_count": 17,
   "metadata": {},
   "outputs": [
    {
     "name": "stdout",
     "output_type": "stream",
     "text": [
      "Error response from daemon: endpoint with name badass-jupyter already exists in network my-net\n"
     ]
    },
    {
     "ename": "",
     "evalue": "1",
     "output_type": "error",
     "traceback": []
    }
   ],
   "source": [
    "docker network connect my-net badass-jupyter"
   ]
  },
  {
   "cell_type": "code",
   "execution_count": 16,
   "metadata": {},
   "outputs": [
    {
     "name": "stdout",
     "output_type": "stream",
     "text": [
      "{\"level\":30,\"time\":1622137281978,\"pid\":9,\"hostname\":\"baadf13d45d9\",\"reqId\":\"req-9\",\"req\":{\"method\":\"GET\",\"url\":\"/\",\"hostname\":\"basic-server:3001\",\"remoteAddress\":\"172.25.0.4\",\"remotePort\":40612},\"msg\":\"incoming request\"}\n",
      "new request\n",
      "[{\"id\":1,\"name\":\"gogu\",\"type\":\"ADMIN\"}]{\"level\":30,\"time\":1622137281985,\"pid\":9,\"hostname\":\"baadf13d45d9\",\"reqId\":\"req-9\",\"res\":{\"statusCode\":200},\"responseTime\":6.334584999829531,\"msg\":\"request completed\"}\n"
     ]
    }
   ],
   "source": [
    "# Do not alter, should return our admin gogu\n",
    "curl basic-server:3001"
   ]
  }
 ],
 "metadata": {
  "kernelspec": {
   "display_name": "Bash",
   "language": "bash",
   "name": "bash"
  },
  "language_info": {
   "codemirror_mode": "shell",
   "file_extension": ".sh",
   "mimetype": "text/x-sh",
   "name": "bash"
  }
 },
 "nbformat": 4,
 "nbformat_minor": 2
}
