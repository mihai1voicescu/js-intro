{
 "cells": [
  {
   "cell_type": "markdown",
   "metadata": {},
   "source": [
    "# Docker homework"
   ]
  },
  {
   "cell_type": "markdown",
   "metadata": {},
   "source": [
    "In the demo you were shown how a Containerfile/Dockerfile looks like. You were also shown how to run containers and networks.\n",
    "\n",
    "You were also provided with an example server of NodeJS.\n",
    "\n",
    "Please provide the answers in this notebook"
   ]
  },
  {
   "cell_type": "markdown",
   "metadata": {},
   "source": [
    "## Warning\n",
    "Be sure to run it from the root so all files are avaiable to the notebook"
   ]
  },
  {
   "cell_type": "markdown",
   "metadata": {},
   "source": [
    "## Task 1\n",
    "Create a Dockerfile for the NodeJS server found in [basic-server](../basic-server).\n",
    "\n",
    "You must edit the [Dockerfile](../basic-server/Dockerfile) found in the basic-server folder.\n",
    "\n",
    "Remember to also bundle the dependecies listed in the package.json in the resulting image."
   ]
  },
  {
   "cell_type": "code",
   "execution_count": 1,
   "metadata": {},
   "outputs": [
    {
     "name": "stdout",
     "output_type": "stream",
     "text": [
      "# start from a base image\n",
      "FROM node:latest\n",
      "\n",
      "# run various command, ussualy installs\n",
      "RUN apt-get update\n",
      "RUN apt-get install -y python3 python3-notebook jupyter jupyter-core\n",
      "\n",
      "RUN pip3 install pyzmq bash_kernel\n",
      "RUN npm i -g ijavascript\n",
      "RUN ijsinstall\n",
      "RUN python3 -m bash_kernel.install\n",
      "\n",
      "RUN apt-get update\n",
      "\n",
      "RUN apt-get install -y \\\n",
      "    apt-transport-https \\\n",
      "    ca-certificates \\\n",
      "    curl \\\n",
      "    gnupg \\\n",
      "    lsb-release\n",
      "\n",
      "RUN curl -fsSL https://get.docker.com -o /get-docker.sh\n",
      "\n",
      "RUN sh /get-docker.sh\n",
      "\n",
      "# final comand to run\n",
      "CMD jupyter notebook /usr/project --ip=0.0.0.0 --allow-root --NotebookApp.token='' --NotebookApp.password=''\n",
      "\n",
      "\n"
     ]
    }
   ],
   "source": [
    "# as an example check this out\n",
    "cat ../badass-jupyter/Dockerfile"
   ]
  },
  {
   "cell_type": "code",
   "execution_count": 48,
   "metadata": {},
   "outputs": [
    {
     "name": "stdout",
     "output_type": "stream",
     "text": [
      "# start from a base image\n",
      "FROM node:latest\n",
      "\n",
      "# Create app directory\n",
      "WORKDIR ../basic-server\n",
      "\n",
      "# Install app dependencies\n",
      "# A wildcard is used to ensure both package.json AND package-lock.json are copied\n",
      "# where available (npm@5+)\n",
      "COPY package*.json ./\n",
      "\n",
      "RUN npm install\n",
      "\n",
      "# Bundle app source\n",
      "COPY . .\n",
      "\n",
      "# EXPOSE 3000\n",
      "\n",
      "CMD [\"node\", \"../basic-server/index.js\"]\n"
     ]
    }
   ],
   "source": [
    "# Do not alter\n",
    "cat ../basic-server/Dockerfile"
   ]
  },
  {
   "cell_type": "code",
   "execution_count": 49,
   "metadata": {
    "scrolled": true
   },
   "outputs": [
    {
     "name": "stdout",
     "output_type": "stream",
     "text": [
      "Dock  Dockerfile  README.md  index.js  package.json  setup.sql\n",
      "/usr/project/js-intro/lib/basic-server\n",
      "\u001b[1A\u001b[1B\u001b[0G\u001b[?25l[+] Building 0.0s (0/1)                                                         \n",
      " => [internal] load build definition from Dockerfile                       0.0s\n",
      "\u001b[?25h\u001b[1A\u001b[1A\u001b[0G\u001b[?25l[+] Building 0.1s (0/2)                                                         \n",
      " => [internal] load build definition from Dockerfile                       0.1s\n",
      "\u001b[34m => => transferring dockerfile: 399B                                       0.0s\n",
      "\u001b[0m => [internal] load .dockerignore                                          0.1s\n",
      " => => transferring context:                                               0.0s\n",
      "\u001b[?25h\u001b[1A\u001b[1A\u001b[1A\u001b[1A\u001b[1A\u001b[0G\u001b[?25l[+] Building 0.3s (0/2)                                                         \n",
      " => [internal] load build definition from Dockerfile                       0.3s\n",
      "\u001b[34m => => transferring dockerfile: 399B                                       0.0s\n",
      "\u001b[0m => [internal] load .dockerignore                                          0.2s\n",
      "\u001b[34m => => transferring context: 2B                                            0.0s\n",
      "\u001b[0m\u001b[?25h\u001b[1A\u001b[1A\u001b[1A\u001b[1A\u001b[1A\u001b[0G\u001b[?25l[+] Building 0.4s (0/2)                                                         \n",
      " => [internal] load build definition from Dockerfile                       0.4s\n",
      "\u001b[34m => => transferring dockerfile: 399B                                       0.0s\n",
      "\u001b[0m => [internal] load .dockerignore                                          0.4s\n",
      "\u001b[34m => => transferring context: 2B                                            0.0s\n",
      "\u001b[0m\u001b[?25h\u001b[1A\u001b[1A\u001b[1A\u001b[1A\u001b[1A\u001b[0G\u001b[?25l[+] Building 0.6s (0/2)                                                         \n",
      " => [internal] load build definition from Dockerfile                       0.6s\n",
      "\u001b[34m => => transferring dockerfile: 399B                                       0.0s\n",
      "\u001b[0m => [internal] load .dockerignore                                          0.5s\n",
      "\u001b[34m => => transferring context: 2B                                            0.0s\n",
      "\u001b[0m\u001b[?25h\u001b[1A\u001b[1A\u001b[1A\u001b[1A\u001b[1A\u001b[0G\u001b[?25l[+] Building 0.7s (1/2)                                                         \n",
      "\u001b[34m => [internal] load build definition from Dockerfile                       0.6s\n",
      "\u001b[0m\u001b[34m => => transferring dockerfile: 399B                                       0.0s\n",
      "\u001b[0m => [internal] load .dockerignore                                          0.7s\n",
      "\u001b[34m => => transferring context: 2B                                            0.0s\n",
      "\u001b[0m\u001b[?25h\u001b[1A\u001b[1A\u001b[1A\u001b[1A\u001b[1A\u001b[0G\u001b[?25l[+] Building 0.9s (1/2)                                                         \n",
      "\u001b[34m => [internal] load build definition from Dockerfile                       0.6s\n",
      "\u001b[0m\u001b[34m => => transferring dockerfile: 399B                                       0.0s\n",
      "\u001b[0m => [internal] load .dockerignore                                          0.8s\n",
      "\u001b[34m => => transferring context: 2B                                            0.0s\n",
      "\u001b[0m\u001b[?25h\u001b[1A\u001b[1A\u001b[1A\u001b[1A\u001b[1A\u001b[0G\u001b[?25l[+] Building 1.0s (2/2)                                                         \n",
      "\u001b[34m => [internal] load build definition from Dockerfile                       0.6s\n",
      "\u001b[0m\u001b[34m => => transferring dockerfile: 399B                                       0.0s\n",
      "\u001b[0m\u001b[34m => [internal] load .dockerignore                                          1.0s\n",
      "\u001b[0m\u001b[34m => => transferring context: 2B                                            0.0s\n",
      "\u001b[0m\u001b[?25h\u001b[1A\u001b[1A\u001b[1A\u001b[1A\u001b[1A\u001b[0G\u001b[?25l[+] Building 1.2s (2/2)                                                         \n",
      "\u001b[34m => [internal] load build definition from Dockerfile                       0.6s\n",
      "\u001b[0m\u001b[34m => => transferring dockerfile: 399B                                       0.0s\n",
      "\u001b[0m\u001b[34m => [internal] load .dockerignore                                          1.0s\n",
      "\u001b[0m\u001b[34m => => transferring context: 2B                                            0.0s\n",
      "\u001b[0m\u001b[?25h\u001b[1A\u001b[1A\u001b[1A\u001b[1A\u001b[1A\u001b[0G\u001b[?25l[+] Building 1.3s (2/3)                                                         \n",
      "\u001b[34m => [internal] load build definition from Dockerfile                       0.6s\n",
      "\u001b[0m\u001b[34m => => transferring dockerfile: 399B                                       0.0s\n",
      "\u001b[0m\u001b[34m => [internal] load .dockerignore                                          1.0s\n",
      "\u001b[0m\u001b[34m => => transferring context: 2B                                            0.0s\n",
      "\u001b[0m => [internal] load metadata for docker.io/library/node:latest             0.1s\n",
      "\u001b[?25h\u001b[1A\u001b[1A\u001b[1A\u001b[1A\u001b[1A\u001b[1A\u001b[0G\u001b[?25l[+] Building 1.5s (2/3)                                                         \n",
      "\u001b[34m => [internal] load build definition from Dockerfile                       0.6s\n",
      "\u001b[0m\u001b[34m => => transferring dockerfile: 399B                                       0.0s\n",
      "\u001b[0m\u001b[34m => [internal] load .dockerignore                                          1.0s\n",
      "\u001b[0m\u001b[34m => => transferring context: 2B                                            0.0s\n",
      "\u001b[0m => [internal] load metadata for docker.io/library/node:latest             0.2s\n",
      "\u001b[?25h\u001b[1A\u001b[1A\u001b[1A\u001b[1A\u001b[1A\u001b[1A\u001b[0G\u001b[?25l[+] Building 1.6s (2/3)                                                         \n",
      "\u001b[34m => [internal] load build definition from Dockerfile                       0.6s\n",
      "\u001b[0m\u001b[34m => => transferring dockerfile: 399B                                       0.0s\n",
      "\u001b[0m\u001b[34m => [internal] load .dockerignore                                          1.0s\n",
      "\u001b[0m\u001b[34m => => transferring context: 2B                                            0.0s\n",
      "\u001b[0m => [internal] load metadata for docker.io/library/node:latest             0.4s\n",
      "\u001b[?25h\u001b[1A\u001b[1A\u001b[1A\u001b[1A\u001b[1A\u001b[1A\u001b[0G\u001b[?25l[+] Building 1.8s (2/3)                                                         \n",
      "\u001b[34m => [internal] load build definition from Dockerfile                       0.6s\n",
      "\u001b[0m\u001b[34m => => transferring dockerfile: 399B                                       0.0s\n",
      "\u001b[0m\u001b[34m => [internal] load .dockerignore                                          1.0s\n",
      "\u001b[0m\u001b[34m => => transferring context: 2B                                            0.0s\n",
      "\u001b[0m => [internal] load metadata for docker.io/library/node:latest             0.5s\n",
      "\u001b[?25h\u001b[1A\u001b[1A\u001b[1A\u001b[1A\u001b[1A\u001b[1A\u001b[0G\u001b[?25l[+] Building 1.9s (2/3)                                                         \n",
      "\u001b[34m => [internal] load build definition from Dockerfile                       0.6s\n",
      "\u001b[0m\u001b[34m => => transferring dockerfile: 399B                                       0.0s\n",
      "\u001b[0m\u001b[34m => [internal] load .dockerignore                                          1.0s\n",
      "\u001b[0m\u001b[34m => => transferring context: 2B                                            0.0s\n",
      "\u001b[0m => [internal] load metadata for docker.io/library/node:latest             0.7s\n",
      "\u001b[?25h\u001b[1A\u001b[1A\u001b[1A\u001b[1A\u001b[1A\u001b[1A\u001b[0G\u001b[?25l[+] Building 2.1s (2/3)                                                         \n",
      "\u001b[34m => [internal] load build definition from Dockerfile                       0.6s\n",
      "\u001b[0m\u001b[34m => => transferring dockerfile: 399B                                       0.0s\n",
      "\u001b[0m\u001b[34m => [internal] load .dockerignore                                          1.0s\n",
      "\u001b[0m\u001b[34m => => transferring context: 2B                                            0.0s\n",
      "\u001b[0m => [internal] load metadata for docker.io/library/node:latest             0.8s\n",
      "\u001b[?25h\u001b[1A\u001b[1A\u001b[1A\u001b[1A\u001b[1A\u001b[1A\u001b[0G\u001b[?25l[+] Building 2.2s (2/3)                                                         \n",
      "\u001b[34m => [internal] load build definition from Dockerfile                       0.6s\n",
      "\u001b[0m\u001b[34m => => transferring dockerfile: 399B                                       0.0s\n",
      "\u001b[0m\u001b[34m => [internal] load .dockerignore                                          1.0s\n",
      "\u001b[0m\u001b[34m => => transferring context: 2B                                            0.0s\n",
      "\u001b[0m => [internal] load metadata for docker.io/library/node:latest             1.0s\n",
      "\u001b[?25h\u001b[1A\u001b[1A\u001b[1A\u001b[1A\u001b[1A\u001b[1A\u001b[0G\u001b[?25l[+] Building 2.4s (2/3)                                                         \n",
      "\u001b[34m => [internal] load build definition from Dockerfile                       0.6s\n",
      "\u001b[0m\u001b[34m => => transferring dockerfile: 399B                                       0.0s\n",
      "\u001b[0m\u001b[34m => [internal] load .dockerignore                                          1.0s\n"
     ]
    },
    {
     "name": "stdout",
     "output_type": "stream",
     "text": [
      "\u001b[0m\u001b[34m => => transferring context: 2B                                            0.0s\n",
      "\u001b[0m => [internal] load metadata for docker.io/library/node:latest             1.1s\n",
      "\u001b[?25h\u001b[1A\u001b[1A\u001b[1A\u001b[1A\u001b[1A\u001b[1A\u001b[0G\u001b[?25l[+] Building 2.5s (2/3)                                                         \n",
      "\u001b[34m => [internal] load build definition from Dockerfile                       0.6s\n",
      "\u001b[0m\u001b[34m => => transferring dockerfile: 399B                                       0.0s\n",
      "\u001b[0m\u001b[34m => [internal] load .dockerignore                                          1.0s\n",
      "\u001b[0m\u001b[34m => => transferring context: 2B                                            0.0s\n",
      "\u001b[0m => [internal] load metadata for docker.io/library/node:latest             1.3s\n",
      "\u001b[?25h\u001b[1A\u001b[1A\u001b[1A\u001b[1A\u001b[1A\u001b[1A\u001b[0G\u001b[?25l[+] Building 2.7s (2/3)                                                         \n",
      "\u001b[34m => [internal] load build definition from Dockerfile                       0.6s\n",
      "\u001b[0m\u001b[34m => => transferring dockerfile: 399B                                       0.0s\n",
      "\u001b[0m\u001b[34m => [internal] load .dockerignore                                          1.0s\n",
      "\u001b[0m\u001b[34m => => transferring context: 2B                                            0.0s\n",
      "\u001b[0m => [internal] load metadata for docker.io/library/node:latest             1.4s\n",
      "\u001b[?25h\u001b[1A\u001b[1A\u001b[1A\u001b[1A\u001b[1A\u001b[1A\u001b[0G\u001b[?25l[+] Building 2.8s (2/3)                                                         \n",
      "\u001b[34m => [internal] load build definition from Dockerfile                       0.6s\n",
      "\u001b[0m\u001b[34m => => transferring dockerfile: 399B                                       0.0s\n",
      "\u001b[0m\u001b[34m => [internal] load .dockerignore                                          1.0s\n",
      "\u001b[0m\u001b[34m => => transferring context: 2B                                            0.0s\n",
      "\u001b[0m => [internal] load metadata for docker.io/library/node:latest             1.6s\n",
      "\u001b[?25h\u001b[1A\u001b[1A\u001b[1A\u001b[1A\u001b[1A\u001b[1A\u001b[0G\u001b[?25l[+] Building 2.9s (4/9)                                                         \n",
      "\u001b[34m => [internal] load build definition from Dockerfile                       0.6s\n",
      "\u001b[0m\u001b[34m => => transferring dockerfile: 399B                                       0.0s\n",
      "\u001b[0m\u001b[34m => [internal] load .dockerignore                                          1.0s\n",
      "\u001b[0m\u001b[34m => => transferring context: 2B                                            0.0s\n",
      "\u001b[0m\u001b[34m => [internal] load metadata for docker.io/library/node:latest             1.6s\n",
      "\u001b[0m\u001b[34m => [1/5] FROM docker.io/library/node:latest@sha256:ddc2ebfc3759299afb208  0.0s\n",
      "\u001b[0m => [internal] load build context                                          0.1s\n",
      " => => transferring context:                                               0.0s\n",
      "\u001b[?25h\u001b[1A\u001b[1A\u001b[1A\u001b[1A\u001b[1A\u001b[1A\u001b[1A\u001b[1A\u001b[1A\u001b[0G\u001b[?25l[+] Building 3.1s (4/9)                                                         \n",
      "\u001b[34m => [internal] load build definition from Dockerfile                       0.6s\n",
      "\u001b[0m\u001b[34m => => transferring dockerfile: 399B                                       0.0s\n",
      "\u001b[0m\u001b[34m => [internal] load .dockerignore                                          1.0s\n",
      "\u001b[0m\u001b[34m => => transferring context: 2B                                            0.0s\n",
      "\u001b[0m\u001b[34m => [internal] load metadata for docker.io/library/node:latest             1.6s\n",
      "\u001b[0m\u001b[34m => [1/5] FROM docker.io/library/node:latest@sha256:ddc2ebfc3759299afb208  0.0s\n",
      "\u001b[0m => [internal] load build context                                          0.2s\n",
      "\u001b[34m => => transferring context: 536B                                          0.0s\n",
      "\u001b[0m\u001b[?25h\u001b[1A\u001b[1A\u001b[1A\u001b[1A\u001b[1A\u001b[1A\u001b[1A\u001b[1A\u001b[1A\u001b[0G\u001b[?25l[+] Building 3.2s (4/9)                                                         \n",
      "\u001b[34m => [internal] load build definition from Dockerfile                       0.6s\n",
      "\u001b[0m\u001b[34m => => transferring dockerfile: 399B                                       0.0s\n",
      "\u001b[0m\u001b[34m => [internal] load .dockerignore                                          1.0s\n",
      "\u001b[0m\u001b[34m => => transferring context: 2B                                            0.0s\n",
      "\u001b[0m\u001b[34m => [internal] load metadata for docker.io/library/node:latest             1.6s\n",
      "\u001b[0m\u001b[34m => [1/5] FROM docker.io/library/node:latest@sha256:ddc2ebfc3759299afb208  0.0s\n",
      "\u001b[0m => [internal] load build context                                          0.4s\n",
      "\u001b[34m => => transferring context: 536B                                          0.0s\n",
      "\u001b[0m\u001b[?25h\u001b[1A\u001b[1A\u001b[1A\u001b[1A\u001b[1A\u001b[1A\u001b[1A\u001b[1A\u001b[1A\u001b[0G\u001b[?25l[+] Building 3.4s (5/9)                                                         \n",
      "\u001b[34m => [internal] load build definition from Dockerfile                       0.6s\n",
      "\u001b[0m\u001b[34m => => transferring dockerfile: 399B                                       0.0s\n",
      "\u001b[0m\u001b[34m => [internal] load .dockerignore                                          1.0s\n",
      "\u001b[0m\u001b[34m => => transferring context: 2B                                            0.0s\n",
      "\u001b[0m\u001b[34m => [internal] load metadata for docker.io/library/node:latest             1.6s\n",
      "\u001b[0m\u001b[34m => [1/5] FROM docker.io/library/node:latest@sha256:ddc2ebfc3759299afb208  0.0s\n",
      "\u001b[0m\u001b[34m => [internal] load build context                                          0.4s\n",
      "\u001b[0m\u001b[34m => => transferring context: 536B                                          0.0s\n",
      "\u001b[0m\u001b[?25h\u001b[1A\u001b[1A\u001b[1A\u001b[1A\u001b[1A\u001b[1A\u001b[1A\u001b[1A\u001b[1A\u001b[0G\u001b[?25l[+] Building 3.5s (8/9)                                                         \n",
      "\u001b[34m => [internal] load build definition from Dockerfile                       0.6s\n",
      "\u001b[0m\u001b[34m => => transferring dockerfile: 399B                                       0.0s\n",
      "\u001b[0m\u001b[34m => [internal] load .dockerignore                                          1.0s\n",
      "\u001b[0m\u001b[34m => => transferring context: 2B                                            0.0s\n",
      "\u001b[0m\u001b[34m => [internal] load metadata for docker.io/library/node:latest             1.6s\n",
      "\u001b[0m\u001b[34m => [1/5] FROM docker.io/library/node:latest@sha256:ddc2ebfc3759299afb208  0.0s\n",
      "\u001b[0m\u001b[34m => [internal] load build context                                          0.4s\n",
      "\u001b[0m\u001b[34m => => transferring context: 536B                                          0.0s\n",
      "\u001b[0m\u001b[34m => CACHED [2/5] WORKDIR ../basic-server                                   0.0s\n",
      "\u001b[0m\u001b[34m => CACHED [3/5] COPY package*.json ./                                     0.0s\n",
      "\u001b[0m\u001b[34m => CACHED [4/5] RUN npm install                                           0.0s\n",
      "\u001b[0m => [5/5] COPY . .                                                         0.1s\n",
      "\u001b[?25h\u001b[1A\u001b[1A\u001b[1A\u001b[1A\u001b[1A\u001b[1A\u001b[1A\u001b[1A\u001b[1A\u001b[1A\u001b[1A\u001b[1A\u001b[1A\u001b[0G\u001b[?25l[+] Building 3.7s (8/9)                                                         \n",
      "\u001b[34m => [internal] load build definition from Dockerfile                       0.6s\n",
      "\u001b[0m\u001b[34m => => transferring dockerfile: 399B                                       0.0s\n",
      "\u001b[0m\u001b[34m => [internal] load .dockerignore                                          1.0s\n",
      "\u001b[0m\u001b[34m => => transferring context: 2B                                            0.0s\n",
      "\u001b[0m\u001b[34m => [internal] load metadata for docker.io/library/node:latest             1.6s\n",
      "\u001b[0m\u001b[34m => [1/5] FROM docker.io/library/node:latest@sha256:ddc2ebfc3759299afb208  0.0s\n",
      "\u001b[0m\u001b[34m => [internal] load build context                                          0.4s\n",
      "\u001b[0m\u001b[34m => => transferring context: 536B                                          0.0s\n",
      "\u001b[0m\u001b[34m => CACHED [2/5] WORKDIR ../basic-server                                   0.0s\n",
      "\u001b[0m\u001b[34m => CACHED [3/5] COPY package*.json ./                                     0.0s\n",
      "\u001b[0m\u001b[34m => CACHED [4/5] RUN npm install                                           0.0s\n",
      "\u001b[0m => [5/5] COPY . .                                                         0.3s\n",
      "\u001b[?25h\u001b[1A\u001b[1A\u001b[1A\u001b[1A\u001b[1A\u001b[1A\u001b[1A\u001b[1A\u001b[1A\u001b[1A\u001b[1A\u001b[1A\u001b[1A\u001b[0G\u001b[?25l[+] Building 3.8s (8/9)                                                         \n",
      "\u001b[34m => [internal] load build definition from Dockerfile                       0.6s\n",
      "\u001b[0m\u001b[34m => => transferring dockerfile: 399B                                       0.0s\n",
      "\u001b[0m\u001b[34m => [internal] load .dockerignore                                          1.0s\n",
      "\u001b[0m\u001b[34m => => transferring context: 2B                                            0.0s\n",
      "\u001b[0m\u001b[34m => [internal] load metadata for docker.io/library/node:latest             1.6s\n",
      "\u001b[0m\u001b[34m => [1/5] FROM docker.io/library/node:latest@sha256:ddc2ebfc3759299afb208  0.0s\n"
     ]
    },
    {
     "name": "stdout",
     "output_type": "stream",
     "text": [
      "\u001b[0m\u001b[34m => [internal] load build context                                          0.4s\n",
      "\u001b[0m\u001b[34m => => transferring context: 536B                                          0.0s\n",
      "\u001b[0m\u001b[34m => CACHED [2/5] WORKDIR ../basic-server                                   0.0s\n",
      "\u001b[0m\u001b[34m => CACHED [3/5] COPY package*.json ./                                     0.0s\n",
      "\u001b[0m\u001b[34m => CACHED [4/5] RUN npm install                                           0.0s\n",
      "\u001b[0m => [5/5] COPY . .                                                         0.4s\n",
      "\u001b[?25h\u001b[1A\u001b[1A\u001b[1A\u001b[1A\u001b[1A\u001b[1A\u001b[1A\u001b[1A\u001b[1A\u001b[1A\u001b[1A\u001b[1A\u001b[1A\u001b[0G\u001b[?25l[+] Building 4.0s (8/9)                                                         \n",
      "\u001b[34m => [internal] load build definition from Dockerfile                       0.6s\n",
      "\u001b[0m\u001b[34m => => transferring dockerfile: 399B                                       0.0s\n",
      "\u001b[0m\u001b[34m => [internal] load .dockerignore                                          1.0s\n",
      "\u001b[0m\u001b[34m => => transferring context: 2B                                            0.0s\n",
      "\u001b[0m\u001b[34m => [internal] load metadata for docker.io/library/node:latest             1.6s\n",
      "\u001b[0m\u001b[34m => [1/5] FROM docker.io/library/node:latest@sha256:ddc2ebfc3759299afb208  0.0s\n",
      "\u001b[0m\u001b[34m => [internal] load build context                                          0.4s\n",
      "\u001b[0m\u001b[34m => => transferring context: 536B                                          0.0s\n",
      "\u001b[0m\u001b[34m => CACHED [2/5] WORKDIR ../basic-server                                   0.0s\n",
      "\u001b[0m\u001b[34m => CACHED [3/5] COPY package*.json ./                                     0.0s\n",
      "\u001b[0m\u001b[34m => CACHED [4/5] RUN npm install                                           0.0s\n",
      "\u001b[0m => [5/5] COPY . .                                                         0.6s\n",
      "\u001b[?25h\u001b[1A\u001b[1A\u001b[1A\u001b[1A\u001b[1A\u001b[1A\u001b[1A\u001b[1A\u001b[1A\u001b[1A\u001b[1A\u001b[1A\u001b[1A\u001b[0G\u001b[?25l[+] Building 4.1s (8/9)                                                         \n",
      "\u001b[34m => [internal] load build definition from Dockerfile                       0.6s\n",
      "\u001b[0m\u001b[34m => => transferring dockerfile: 399B                                       0.0s\n",
      "\u001b[0m\u001b[34m => [internal] load .dockerignore                                          1.0s\n",
      "\u001b[0m\u001b[34m => => transferring context: 2B                                            0.0s\n",
      "\u001b[0m\u001b[34m => [internal] load metadata for docker.io/library/node:latest             1.6s\n",
      "\u001b[0m\u001b[34m => [1/5] FROM docker.io/library/node:latest@sha256:ddc2ebfc3759299afb208  0.0s\n",
      "\u001b[0m\u001b[34m => [internal] load build context                                          0.4s\n",
      "\u001b[0m\u001b[34m => => transferring context: 536B                                          0.0s\n",
      "\u001b[0m\u001b[34m => CACHED [2/5] WORKDIR ../basic-server                                   0.0s\n",
      "\u001b[0m\u001b[34m => CACHED [3/5] COPY package*.json ./                                     0.0s\n",
      "\u001b[0m\u001b[34m => CACHED [4/5] RUN npm install                                           0.0s\n",
      "\u001b[0m => [5/5] COPY . .                                                         0.7s\n",
      "\u001b[?25h\u001b[1A\u001b[1A\u001b[1A\u001b[1A\u001b[1A\u001b[1A\u001b[1A\u001b[1A\u001b[1A\u001b[1A\u001b[1A\u001b[1A\u001b[1A\u001b[0G\u001b[?25l[+] Building 4.3s (8/9)                                                         \n",
      "\u001b[34m => [internal] load build definition from Dockerfile                       0.6s\n",
      "\u001b[0m\u001b[34m => => transferring dockerfile: 399B                                       0.0s\n",
      "\u001b[0m\u001b[34m => [internal] load .dockerignore                                          1.0s\n",
      "\u001b[0m\u001b[34m => => transferring context: 2B                                            0.0s\n",
      "\u001b[0m\u001b[34m => [internal] load metadata for docker.io/library/node:latest             1.6s\n",
      "\u001b[0m\u001b[34m => [1/5] FROM docker.io/library/node:latest@sha256:ddc2ebfc3759299afb208  0.0s\n",
      "\u001b[0m\u001b[34m => [internal] load build context                                          0.4s\n",
      "\u001b[0m\u001b[34m => => transferring context: 536B                                          0.0s\n",
      "\u001b[0m\u001b[34m => CACHED [2/5] WORKDIR ../basic-server                                   0.0s\n",
      "\u001b[0m\u001b[34m => CACHED [3/5] COPY package*.json ./                                     0.0s\n",
      "\u001b[0m\u001b[34m => CACHED [4/5] RUN npm install                                           0.0s\n",
      "\u001b[0m => [5/5] COPY . .                                                         0.9s\n",
      "\u001b[?25h\u001b[1A\u001b[1A\u001b[1A\u001b[1A\u001b[1A\u001b[1A\u001b[1A\u001b[1A\u001b[1A\u001b[1A\u001b[1A\u001b[1A\u001b[1A\u001b[0G\u001b[?25l[+] Building 4.4s (8/9)                                                         \n",
      "\u001b[34m => [internal] load build definition from Dockerfile                       0.6s\n",
      "\u001b[0m\u001b[34m => => transferring dockerfile: 399B                                       0.0s\n",
      "\u001b[0m\u001b[34m => [internal] load .dockerignore                                          1.0s\n",
      "\u001b[0m\u001b[34m => => transferring context: 2B                                            0.0s\n",
      "\u001b[0m\u001b[34m => [internal] load metadata for docker.io/library/node:latest             1.6s\n",
      "\u001b[0m\u001b[34m => [1/5] FROM docker.io/library/node:latest@sha256:ddc2ebfc3759299afb208  0.0s\n",
      "\u001b[0m\u001b[34m => [internal] load build context                                          0.4s\n",
      "\u001b[0m\u001b[34m => => transferring context: 536B                                          0.0s\n",
      "\u001b[0m\u001b[34m => CACHED [2/5] WORKDIR ../basic-server                                   0.0s\n",
      "\u001b[0m\u001b[34m => CACHED [3/5] COPY package*.json ./                                     0.0s\n",
      "\u001b[0m\u001b[34m => CACHED [4/5] RUN npm install                                           0.0s\n",
      "\u001b[0m => [5/5] COPY . .                                                         1.0s\n",
      "\u001b[?25h\u001b[1A\u001b[1A\u001b[1A\u001b[1A\u001b[1A\u001b[1A\u001b[1A\u001b[1A\u001b[1A\u001b[1A\u001b[1A\u001b[1A\u001b[1A\u001b[0G\u001b[?25l[+] Building 4.6s (8/9)                                                         \n",
      "\u001b[34m => [internal] load build definition from Dockerfile                       0.6s\n",
      "\u001b[0m\u001b[34m => => transferring dockerfile: 399B                                       0.0s\n",
      "\u001b[0m\u001b[34m => [internal] load .dockerignore                                          1.0s\n",
      "\u001b[0m\u001b[34m => => transferring context: 2B                                            0.0s\n",
      "\u001b[0m\u001b[34m => [internal] load metadata for docker.io/library/node:latest             1.6s\n",
      "\u001b[0m\u001b[34m => [1/5] FROM docker.io/library/node:latest@sha256:ddc2ebfc3759299afb208  0.0s\n",
      "\u001b[0m\u001b[34m => [internal] load build context                                          0.4s\n",
      "\u001b[0m\u001b[34m => => transferring context: 536B                                          0.0s\n",
      "\u001b[0m\u001b[34m => CACHED [2/5] WORKDIR ../basic-server                                   0.0s\n",
      "\u001b[0m\u001b[34m => CACHED [3/5] COPY package*.json ./                                     0.0s\n",
      "\u001b[0m\u001b[34m => CACHED [4/5] RUN npm install                                           0.0s\n",
      "\u001b[0m => [5/5] COPY . .                                                         1.2s\n",
      "\u001b[?25h\u001b[1A\u001b[1A\u001b[1A\u001b[1A\u001b[1A\u001b[1A\u001b[1A\u001b[1A\u001b[1A\u001b[1A\u001b[1A\u001b[1A\u001b[1A\u001b[0G\u001b[?25l[+] Building 4.7s (8/9)                                                         \n",
      "\u001b[34m => [internal] load build definition from Dockerfile                       0.6s\n",
      "\u001b[0m\u001b[34m => => transferring dockerfile: 399B                                       0.0s\n",
      "\u001b[0m\u001b[34m => [internal] load .dockerignore                                          1.0s\n",
      "\u001b[0m\u001b[34m => => transferring context: 2B                                            0.0s\n",
      "\u001b[0m\u001b[34m => [internal] load metadata for docker.io/library/node:latest             1.6s\n",
      "\u001b[0m\u001b[34m => [1/5] FROM docker.io/library/node:latest@sha256:ddc2ebfc3759299afb208  0.0s\n",
      "\u001b[0m\u001b[34m => [internal] load build context                                          0.4s\n",
      "\u001b[0m\u001b[34m => => transferring context: 536B                                          0.0s\n",
      "\u001b[0m\u001b[34m => CACHED [2/5] WORKDIR ../basic-server                                   0.0s\n",
      "\u001b[0m\u001b[34m => CACHED [3/5] COPY package*.json ./                                     0.0s\n",
      "\u001b[0m\u001b[34m => CACHED [4/5] RUN npm install                                           0.0s\n",
      "\u001b[0m => [5/5] COPY . .                                                         1.3s\n",
      "\u001b[?25h\u001b[1A\u001b[1A\u001b[1A\u001b[1A\u001b[1A\u001b[1A\u001b[1A\u001b[1A\u001b[1A\u001b[1A\u001b[1A\u001b[1A\u001b[1A\u001b[0G\u001b[?25l[+] Building 4.9s (9/9)                                                         \n",
      "\u001b[34m => [internal] load build definition from Dockerfile                       0.6s\n",
      "\u001b[0m\u001b[34m => => transferring dockerfile: 399B                                       0.0s\n",
      "\u001b[0m\u001b[34m => [internal] load .dockerignore                                          1.0s\n",
      "\u001b[0m\u001b[34m => => transferring context: 2B                                            0.0s\n"
     ]
    },
    {
     "name": "stdout",
     "output_type": "stream",
     "text": [
      "\u001b[0m\u001b[34m => [internal] load metadata for docker.io/library/node:latest             1.6s\n",
      "\u001b[0m\u001b[34m => [1/5] FROM docker.io/library/node:latest@sha256:ddc2ebfc3759299afb208  0.0s\n",
      "\u001b[0m\u001b[34m => [internal] load build context                                          0.4s\n",
      "\u001b[0m\u001b[34m => => transferring context: 536B                                          0.0s\n",
      "\u001b[0m\u001b[34m => CACHED [2/5] WORKDIR ../basic-server                                   0.0s\n",
      "\u001b[0m\u001b[34m => CACHED [3/5] COPY package*.json ./                                     0.0s\n",
      "\u001b[0m\u001b[34m => CACHED [4/5] RUN npm install                                           0.0s\n",
      "\u001b[0m\u001b[34m => [5/5] COPY . .                                                         1.3s\n",
      "\u001b[0m\u001b[?25h\u001b[1A\u001b[1A\u001b[1A\u001b[1A\u001b[1A\u001b[1A\u001b[1A\u001b[1A\u001b[1A\u001b[1A\u001b[1A\u001b[1A\u001b[1A\u001b[0G\u001b[?25l[+] Building 5.0s (9/10)                                                        \n",
      "\u001b[34m => [internal] load build definition from Dockerfile                       0.6s\n",
      "\u001b[0m\u001b[34m => => transferring dockerfile: 399B                                       0.0s\n",
      "\u001b[0m\u001b[34m => [internal] load .dockerignore                                          1.0s\n",
      "\u001b[0m\u001b[34m => => transferring context: 2B                                            0.0s\n",
      "\u001b[0m\u001b[34m => [internal] load metadata for docker.io/library/node:latest             1.6s\n",
      "\u001b[0m\u001b[34m => [1/5] FROM docker.io/library/node:latest@sha256:ddc2ebfc3759299afb208  0.0s\n",
      "\u001b[0m\u001b[34m => [internal] load build context                                          0.4s\n",
      "\u001b[0m\u001b[34m => => transferring context: 536B                                          0.0s\n",
      "\u001b[0m\u001b[34m => CACHED [2/5] WORKDIR ../basic-server                                   0.0s\n",
      "\u001b[0m\u001b[34m => CACHED [3/5] COPY package*.json ./                                     0.0s\n",
      "\u001b[0m\u001b[34m => CACHED [4/5] RUN npm install                                           0.0s\n",
      "\u001b[0m\u001b[34m => [5/5] COPY . .                                                         1.3s\n",
      "\u001b[0m => exporting to image                                                     0.1s\n",
      " => => exporting layers                                                    0.1s\n",
      "\u001b[?25h\u001b[1A\u001b[1A\u001b[1A\u001b[1A\u001b[1A\u001b[1A\u001b[1A\u001b[1A\u001b[1A\u001b[1A\u001b[1A\u001b[1A\u001b[1A\u001b[1A\u001b[1A\u001b[0G\u001b[?25l[+] Building 5.2s (9/10)                                                        \n",
      "\u001b[34m => [internal] load build definition from Dockerfile                       0.6s\n",
      "\u001b[0m\u001b[34m => => transferring dockerfile: 399B                                       0.0s\n",
      "\u001b[0m\u001b[34m => [internal] load .dockerignore                                          1.0s\n",
      "\u001b[0m\u001b[34m => => transferring context: 2B                                            0.0s\n",
      "\u001b[0m\u001b[34m => [internal] load metadata for docker.io/library/node:latest             1.6s\n",
      "\u001b[0m\u001b[34m => [1/5] FROM docker.io/library/node:latest@sha256:ddc2ebfc3759299afb208  0.0s\n",
      "\u001b[0m\u001b[34m => [internal] load build context                                          0.4s\n",
      "\u001b[0m\u001b[34m => => transferring context: 536B                                          0.0s\n",
      "\u001b[0m\u001b[34m => CACHED [2/5] WORKDIR ../basic-server                                   0.0s\n",
      "\u001b[0m\u001b[34m => CACHED [3/5] COPY package*.json ./                                     0.0s\n",
      "\u001b[0m\u001b[34m => CACHED [4/5] RUN npm install                                           0.0s\n",
      "\u001b[0m\u001b[34m => [5/5] COPY . .                                                         1.3s\n",
      "\u001b[0m => exporting to image                                                     0.2s\n",
      " => => exporting layers                                                    0.2s\n",
      "\u001b[?25h\u001b[1A\u001b[1A\u001b[1A\u001b[1A\u001b[1A\u001b[1A\u001b[1A\u001b[1A\u001b[1A\u001b[1A\u001b[1A\u001b[1A\u001b[1A\u001b[1A\u001b[1A\u001b[0G\u001b[?25l[+] Building 5.3s (9/10)                                                        \n",
      "\u001b[34m => [internal] load build definition from Dockerfile                       0.6s\n",
      "\u001b[0m\u001b[34m => => transferring dockerfile: 399B                                       0.0s\n",
      "\u001b[0m\u001b[34m => [internal] load .dockerignore                                          1.0s\n",
      "\u001b[0m\u001b[34m => => transferring context: 2B                                            0.0s\n",
      "\u001b[0m\u001b[34m => [internal] load metadata for docker.io/library/node:latest             1.6s\n",
      "\u001b[0m\u001b[34m => [1/5] FROM docker.io/library/node:latest@sha256:ddc2ebfc3759299afb208  0.0s\n",
      "\u001b[0m\u001b[34m => [internal] load build context                                          0.4s\n",
      "\u001b[0m\u001b[34m => => transferring context: 536B                                          0.0s\n",
      "\u001b[0m\u001b[34m => CACHED [2/5] WORKDIR ../basic-server                                   0.0s\n",
      "\u001b[0m\u001b[34m => CACHED [3/5] COPY package*.json ./                                     0.0s\n",
      "\u001b[0m\u001b[34m => CACHED [4/5] RUN npm install                                           0.0s\n",
      "\u001b[0m\u001b[34m => [5/5] COPY . .                                                         1.3s\n",
      "\u001b[0m => exporting to image                                                     0.4s\n",
      " => => exporting layers                                                    0.4s\n",
      "\u001b[?25h\u001b[1A\u001b[1A\u001b[1A\u001b[1A\u001b[1A\u001b[1A\u001b[1A\u001b[1A\u001b[1A\u001b[1A\u001b[1A\u001b[1A\u001b[1A\u001b[1A\u001b[1A\u001b[0G\u001b[?25l[+] Building 5.5s (9/10)                                                        \n",
      "\u001b[34m => [internal] load build definition from Dockerfile                       0.6s\n",
      "\u001b[0m\u001b[34m => => transferring dockerfile: 399B                                       0.0s\n",
      "\u001b[0m\u001b[34m => [internal] load .dockerignore                                          1.0s\n",
      "\u001b[0m\u001b[34m => => transferring context: 2B                                            0.0s\n",
      "\u001b[0m\u001b[34m => [internal] load metadata for docker.io/library/node:latest             1.6s\n",
      "\u001b[0m\u001b[34m => [1/5] FROM docker.io/library/node:latest@sha256:ddc2ebfc3759299afb208  0.0s\n",
      "\u001b[0m\u001b[34m => [internal] load build context                                          0.4s\n",
      "\u001b[0m\u001b[34m => => transferring context: 536B                                          0.0s\n",
      "\u001b[0m\u001b[34m => CACHED [2/5] WORKDIR ../basic-server                                   0.0s\n",
      "\u001b[0m\u001b[34m => CACHED [3/5] COPY package*.json ./                                     0.0s\n",
      "\u001b[0m\u001b[34m => CACHED [4/5] RUN npm install                                           0.0s\n",
      "\u001b[0m\u001b[34m => [5/5] COPY . .                                                         1.3s\n",
      "\u001b[0m => exporting to image                                                     0.5s\n",
      " => => exporting layers                                                    0.5s\n",
      "\u001b[?25h\u001b[1A\u001b[1A\u001b[1A\u001b[1A\u001b[1A\u001b[1A\u001b[1A\u001b[1A\u001b[1A\u001b[1A\u001b[1A\u001b[1A\u001b[1A\u001b[1A\u001b[1A\u001b[0G\u001b[?25l[+] Building 5.6s (9/10)                                                        \n",
      "\u001b[34m => [internal] load build definition from Dockerfile                       0.6s\n",
      "\u001b[0m\u001b[34m => => transferring dockerfile: 399B                                       0.0s\n",
      "\u001b[0m\u001b[34m => [internal] load .dockerignore                                          1.0s\n",
      "\u001b[0m\u001b[34m => => transferring context: 2B                                            0.0s\n",
      "\u001b[0m\u001b[34m => [internal] load metadata for docker.io/library/node:latest             1.6s\n",
      "\u001b[0m\u001b[34m => [1/5] FROM docker.io/library/node:latest@sha256:ddc2ebfc3759299afb208  0.0s\n",
      "\u001b[0m\u001b[34m => [internal] load build context                                          0.4s\n",
      "\u001b[0m\u001b[34m => => transferring context: 536B                                          0.0s\n",
      "\u001b[0m\u001b[34m => CACHED [2/5] WORKDIR ../basic-server                                   0.0s\n",
      "\u001b[0m\u001b[34m => CACHED [3/5] COPY package*.json ./                                     0.0s\n",
      "\u001b[0m\u001b[34m => CACHED [4/5] RUN npm install                                           0.0s\n",
      "\u001b[0m\u001b[34m => [5/5] COPY . .                                                         1.3s\n",
      "\u001b[0m => exporting to image                                                     0.7s\n",
      " => => exporting layers                                                    0.7s\n",
      "\u001b[?25h\u001b[1A\u001b[1A\u001b[1A\u001b[1A\u001b[1A\u001b[1A\u001b[1A\u001b[1A\u001b[1A\u001b[1A\u001b[1A\u001b[1A\u001b[1A\u001b[1A\u001b[1A\u001b[0G\u001b[?25l[+] Building 5.8s (9/10)                                                        \n",
      "\u001b[34m => [internal] load build definition from Dockerfile                       0.6s\n",
      "\u001b[0m\u001b[34m => => transferring dockerfile: 399B                                       0.0s\n",
      "\u001b[0m\u001b[34m => [internal] load .dockerignore                                          1.0s\n",
      "\u001b[0m\u001b[34m => => transferring context: 2B                                            0.0s\n",
      "\u001b[0m\u001b[34m => [internal] load metadata for docker.io/library/node:latest             1.6s\n"
     ]
    },
    {
     "name": "stdout",
     "output_type": "stream",
     "text": [
      "\u001b[0m\u001b[34m => [1/5] FROM docker.io/library/node:latest@sha256:ddc2ebfc3759299afb208  0.0s\n",
      "\u001b[0m\u001b[34m => [internal] load build context                                          0.4s\n",
      "\u001b[0m\u001b[34m => => transferring context: 536B                                          0.0s\n",
      "\u001b[0m\u001b[34m => CACHED [2/5] WORKDIR ../basic-server                                   0.0s\n",
      "\u001b[0m\u001b[34m => CACHED [3/5] COPY package*.json ./                                     0.0s\n",
      "\u001b[0m\u001b[34m => CACHED [4/5] RUN npm install                                           0.0s\n",
      "\u001b[0m\u001b[34m => [5/5] COPY . .                                                         1.3s\n",
      "\u001b[0m => exporting to image                                                     0.8s\n",
      " => => exporting layers                                                    0.8s\n",
      "\u001b[?25h\u001b[1A\u001b[1A\u001b[1A\u001b[1A\u001b[1A\u001b[1A\u001b[1A\u001b[1A\u001b[1A\u001b[1A\u001b[1A\u001b[1A\u001b[1A\u001b[1A\u001b[1A\u001b[0G\u001b[?25l[+] Building 5.9s (9/10)                                                        \n",
      "\u001b[34m => [internal] load build definition from Dockerfile                       0.6s\n",
      "\u001b[0m\u001b[34m => => transferring dockerfile: 399B                                       0.0s\n",
      "\u001b[0m\u001b[34m => [internal] load .dockerignore                                          1.0s\n",
      "\u001b[0m\u001b[34m => => transferring context: 2B                                            0.0s\n",
      "\u001b[0m\u001b[34m => [internal] load metadata for docker.io/library/node:latest             1.6s\n",
      "\u001b[0m\u001b[34m => [1/5] FROM docker.io/library/node:latest@sha256:ddc2ebfc3759299afb208  0.0s\n",
      "\u001b[0m\u001b[34m => [internal] load build context                                          0.4s\n",
      "\u001b[0m\u001b[34m => => transferring context: 536B                                          0.0s\n",
      "\u001b[0m\u001b[34m => CACHED [2/5] WORKDIR ../basic-server                                   0.0s\n",
      "\u001b[0m\u001b[34m => CACHED [3/5] COPY package*.json ./                                     0.0s\n",
      "\u001b[0m\u001b[34m => CACHED [4/5] RUN npm install                                           0.0s\n",
      "\u001b[0m\u001b[34m => [5/5] COPY . .                                                         1.3s\n",
      "\u001b[0m => exporting to image                                                     1.0s\n",
      " => => exporting layers                                                    1.0s\n",
      "\u001b[?25h\u001b[1A\u001b[1A\u001b[1A\u001b[1A\u001b[1A\u001b[1A\u001b[1A\u001b[1A\u001b[1A\u001b[1A\u001b[1A\u001b[1A\u001b[1A\u001b[1A\u001b[1A\u001b[0G\u001b[?25l[+] Building 6.1s (9/10)                                                        \n",
      "\u001b[34m => [internal] load build definition from Dockerfile                       0.6s\n",
      "\u001b[0m\u001b[34m => => transferring dockerfile: 399B                                       0.0s\n",
      "\u001b[0m\u001b[34m => [internal] load .dockerignore                                          1.0s\n",
      "\u001b[0m\u001b[34m => => transferring context: 2B                                            0.0s\n",
      "\u001b[0m\u001b[34m => [internal] load metadata for docker.io/library/node:latest             1.6s\n",
      "\u001b[0m\u001b[34m => [1/5] FROM docker.io/library/node:latest@sha256:ddc2ebfc3759299afb208  0.0s\n",
      "\u001b[0m\u001b[34m => [internal] load build context                                          0.4s\n",
      "\u001b[0m\u001b[34m => => transferring context: 536B                                          0.0s\n",
      "\u001b[0m\u001b[34m => CACHED [2/5] WORKDIR ../basic-server                                   0.0s\n",
      "\u001b[0m\u001b[34m => CACHED [3/5] COPY package*.json ./                                     0.0s\n",
      "\u001b[0m\u001b[34m => CACHED [4/5] RUN npm install                                           0.0s\n",
      "\u001b[0m\u001b[34m => [5/5] COPY . .                                                         1.3s\n",
      "\u001b[0m => exporting to image                                                     1.1s\n",
      "\u001b[34m => => exporting layers                                                    1.1s\n",
      "\u001b[0m\u001b[?25h\u001b[1A\u001b[1A\u001b[1A\u001b[1A\u001b[1A\u001b[1A\u001b[1A\u001b[1A\u001b[1A\u001b[1A\u001b[1A\u001b[1A\u001b[1A\u001b[1A\u001b[1A\u001b[0G\u001b[?25l[+] Building 6.2s (9/10)                                                        \n",
      "\u001b[34m => [internal] load build definition from Dockerfile                       0.6s\n",
      "\u001b[0m\u001b[34m => => transferring dockerfile: 399B                                       0.0s\n",
      "\u001b[0m\u001b[34m => [internal] load .dockerignore                                          1.0s\n",
      "\u001b[0m\u001b[34m => => transferring context: 2B                                            0.0s\n",
      "\u001b[0m\u001b[34m => [internal] load metadata for docker.io/library/node:latest             1.6s\n",
      "\u001b[0m\u001b[34m => [1/5] FROM docker.io/library/node:latest@sha256:ddc2ebfc3759299afb208  0.0s\n",
      "\u001b[0m\u001b[34m => [internal] load build context                                          0.4s\n",
      "\u001b[0m\u001b[34m => => transferring context: 536B                                          0.0s\n",
      "\u001b[0m\u001b[34m => CACHED [2/5] WORKDIR ../basic-server                                   0.0s\n",
      "\u001b[0m\u001b[34m => CACHED [3/5] COPY package*.json ./                                     0.0s\n",
      "\u001b[0m\u001b[34m => CACHED [4/5] RUN npm install                                           0.0s\n",
      "\u001b[0m\u001b[34m => [5/5] COPY . .                                                         1.3s\n",
      "\u001b[0m => exporting to image                                                     1.3s\n",
      "\u001b[34m => => exporting layers                                                    1.1s\n",
      "\u001b[0m\u001b[?25h\u001b[1A\u001b[1A\u001b[1A\u001b[1A\u001b[1A\u001b[1A\u001b[1A\u001b[1A\u001b[1A\u001b[1A\u001b[1A\u001b[1A\u001b[1A\u001b[1A\u001b[1A\u001b[0G\u001b[?25l[+] Building 6.4s (9/10)                                                        \n",
      "\u001b[34m => [internal] load build definition from Dockerfile                       0.6s\n",
      "\u001b[0m\u001b[34m => => transferring dockerfile: 399B                                       0.0s\n",
      "\u001b[0m\u001b[34m => [internal] load .dockerignore                                          1.0s\n",
      "\u001b[0m\u001b[34m => => transferring context: 2B                                            0.0s\n",
      "\u001b[0m\u001b[34m => [internal] load metadata for docker.io/library/node:latest             1.6s\n",
      "\u001b[0m\u001b[34m => [1/5] FROM docker.io/library/node:latest@sha256:ddc2ebfc3759299afb208  0.0s\n",
      "\u001b[0m\u001b[34m => [internal] load build context                                          0.4s\n",
      "\u001b[0m\u001b[34m => => transferring context: 536B                                          0.0s\n",
      "\u001b[0m\u001b[34m => CACHED [2/5] WORKDIR ../basic-server                                   0.0s\n",
      "\u001b[0m\u001b[34m => CACHED [3/5] COPY package*.json ./                                     0.0s\n",
      "\u001b[0m\u001b[34m => CACHED [4/5] RUN npm install                                           0.0s\n",
      "\u001b[0m\u001b[34m => [5/5] COPY . .                                                         1.3s\n",
      "\u001b[0m => exporting to image                                                     1.4s\n",
      "\u001b[34m => => exporting layers                                                    1.1s\n",
      "\u001b[0m\u001b[?25h\u001b[1A\u001b[1A\u001b[1A\u001b[1A\u001b[1A\u001b[1A\u001b[1A\u001b[1A\u001b[1A\u001b[1A\u001b[1A\u001b[1A\u001b[1A\u001b[1A\u001b[1A\u001b[0G\u001b[?25l[+] Building 6.5s (9/10)                                                        \n",
      "\u001b[34m => [internal] load build definition from Dockerfile                       0.6s\n",
      "\u001b[0m\u001b[34m => => transferring dockerfile: 399B                                       0.0s\n",
      "\u001b[0m\u001b[34m => [internal] load .dockerignore                                          1.0s\n",
      "\u001b[0m\u001b[34m => => transferring context: 2B                                            0.0s\n",
      "\u001b[0m\u001b[34m => [internal] load metadata for docker.io/library/node:latest             1.6s\n",
      "\u001b[0m\u001b[34m => [1/5] FROM docker.io/library/node:latest@sha256:ddc2ebfc3759299afb208  0.0s\n",
      "\u001b[0m\u001b[34m => [internal] load build context                                          0.4s\n",
      "\u001b[0m\u001b[34m => => transferring context: 536B                                          0.0s\n",
      "\u001b[0m\u001b[34m => CACHED [2/5] WORKDIR ../basic-server                                   0.0s\n",
      "\u001b[0m\u001b[34m => CACHED [3/5] COPY package*.json ./                                     0.0s\n",
      "\u001b[0m\u001b[34m => CACHED [4/5] RUN npm install                                           0.0s\n",
      "\u001b[0m\u001b[34m => [5/5] COPY . .                                                         1.3s\n",
      "\u001b[0m => exporting to image                                                     1.6s\n",
      "\u001b[34m => => exporting layers                                                    1.1s\n",
      "\u001b[0m\u001b[?25h\u001b[1A\u001b[1A\u001b[1A\u001b[1A\u001b[1A\u001b[1A\u001b[1A\u001b[1A\u001b[1A\u001b[1A\u001b[1A\u001b[1A\u001b[1A\u001b[1A\u001b[1A\u001b[0G\u001b[?25l[+] Building 6.7s (9/10)                                                        \n",
      "\u001b[34m => [internal] load build definition from Dockerfile                       0.6s\n",
      "\u001b[0m\u001b[34m => => transferring dockerfile: 399B                                       0.0s\n",
      "\u001b[0m\u001b[34m => [internal] load .dockerignore                                          1.0s\n",
      "\u001b[0m\u001b[34m => => transferring context: 2B                                            0.0s\n"
     ]
    },
    {
     "name": "stdout",
     "output_type": "stream",
     "text": [
      "\u001b[0m\u001b[34m => [internal] load metadata for docker.io/library/node:latest             1.6s\n",
      "\u001b[0m\u001b[34m => [1/5] FROM docker.io/library/node:latest@sha256:ddc2ebfc3759299afb208  0.0s\n",
      "\u001b[0m\u001b[34m => [internal] load build context                                          0.4s\n",
      "\u001b[0m\u001b[34m => => transferring context: 536B                                          0.0s\n",
      "\u001b[0m\u001b[34m => CACHED [2/5] WORKDIR ../basic-server                                   0.0s\n",
      "\u001b[0m\u001b[34m => CACHED [3/5] COPY package*.json ./                                     0.0s\n",
      "\u001b[0m\u001b[34m => CACHED [4/5] RUN npm install                                           0.0s\n",
      "\u001b[0m\u001b[34m => [5/5] COPY . .                                                         1.3s\n",
      "\u001b[0m => exporting to image                                                     1.7s\n",
      "\u001b[34m => => exporting layers                                                    1.1s\n",
      "\u001b[0m\u001b[?25h\u001b[1A\u001b[1A\u001b[1A\u001b[1A\u001b[1A\u001b[1A\u001b[1A\u001b[1A\u001b[1A\u001b[1A\u001b[1A\u001b[1A\u001b[1A\u001b[1A\u001b[1A\u001b[0G\u001b[?25l[+] Building 6.8s (9/10)                                                        \n",
      "\u001b[34m => [internal] load build definition from Dockerfile                       0.6s\n",
      "\u001b[0m\u001b[34m => => transferring dockerfile: 399B                                       0.0s\n",
      "\u001b[0m\u001b[34m => [internal] load .dockerignore                                          1.0s\n",
      "\u001b[0m\u001b[34m => => transferring context: 2B                                            0.0s\n",
      "\u001b[0m\u001b[34m => [internal] load metadata for docker.io/library/node:latest             1.6s\n",
      "\u001b[0m\u001b[34m => [1/5] FROM docker.io/library/node:latest@sha256:ddc2ebfc3759299afb208  0.0s\n",
      "\u001b[0m\u001b[34m => [internal] load build context                                          0.4s\n",
      "\u001b[0m\u001b[34m => => transferring context: 536B                                          0.0s\n",
      "\u001b[0m\u001b[34m => CACHED [2/5] WORKDIR ../basic-server                                   0.0s\n",
      "\u001b[0m\u001b[34m => CACHED [3/5] COPY package*.json ./                                     0.0s\n",
      "\u001b[0m\u001b[34m => CACHED [4/5] RUN npm install                                           0.0s\n",
      "\u001b[0m\u001b[34m => [5/5] COPY . .                                                         1.3s\n",
      "\u001b[0m => exporting to image                                                     1.9s\n",
      "\u001b[34m => => exporting layers                                                    1.1s\n",
      "\u001b[0m\u001b[?25h\u001b[1A\u001b[1A\u001b[1A\u001b[1A\u001b[1A\u001b[1A\u001b[1A\u001b[1A\u001b[1A\u001b[1A\u001b[1A\u001b[1A\u001b[1A\u001b[1A\u001b[1A\u001b[0G\u001b[?25l[+] Building 7.0s (9/10)                                                        \n",
      "\u001b[34m => [internal] load build definition from Dockerfile                       0.6s\n",
      "\u001b[0m\u001b[34m => => transferring dockerfile: 399B                                       0.0s\n",
      "\u001b[0m\u001b[34m => [internal] load .dockerignore                                          1.0s\n",
      "\u001b[0m\u001b[34m => => transferring context: 2B                                            0.0s\n",
      "\u001b[0m\u001b[34m => [internal] load metadata for docker.io/library/node:latest             1.6s\n",
      "\u001b[0m\u001b[34m => [1/5] FROM docker.io/library/node:latest@sha256:ddc2ebfc3759299afb208  0.0s\n",
      "\u001b[0m\u001b[34m => [internal] load build context                                          0.4s\n",
      "\u001b[0m\u001b[34m => => transferring context: 536B                                          0.0s\n",
      "\u001b[0m\u001b[34m => CACHED [2/5] WORKDIR ../basic-server                                   0.0s\n",
      "\u001b[0m\u001b[34m => CACHED [3/5] COPY package*.json ./                                     0.0s\n",
      "\u001b[0m\u001b[34m => CACHED [4/5] RUN npm install                                           0.0s\n",
      "\u001b[0m\u001b[34m => [5/5] COPY . .                                                         1.3s\n",
      "\u001b[0m => exporting to image                                                     2.0s\n",
      "\u001b[34m => => exporting layers                                                    1.1s\n",
      "\u001b[0m\u001b[?25h\u001b[1A\u001b[1A\u001b[1A\u001b[1A\u001b[1A\u001b[1A\u001b[1A\u001b[1A\u001b[1A\u001b[1A\u001b[1A\u001b[1A\u001b[1A\u001b[1A\u001b[1A\u001b[0G\u001b[?25l[+] Building 7.1s (9/10)                                                        \n",
      "\u001b[34m => [internal] load build definition from Dockerfile                       0.6s\n",
      "\u001b[0m\u001b[34m => => transferring dockerfile: 399B                                       0.0s\n",
      "\u001b[0m\u001b[34m => [internal] load .dockerignore                                          1.0s\n",
      "\u001b[0m\u001b[34m => => transferring context: 2B                                            0.0s\n",
      "\u001b[0m\u001b[34m => [internal] load metadata for docker.io/library/node:latest             1.6s\n",
      "\u001b[0m\u001b[34m => [1/5] FROM docker.io/library/node:latest@sha256:ddc2ebfc3759299afb208  0.0s\n",
      "\u001b[0m\u001b[34m => [internal] load build context                                          0.4s\n",
      "\u001b[0m\u001b[34m => => transferring context: 536B                                          0.0s\n",
      "\u001b[0m\u001b[34m => CACHED [2/5] WORKDIR ../basic-server                                   0.0s\n",
      "\u001b[0m\u001b[34m => CACHED [3/5] COPY package*.json ./                                     0.0s\n",
      "\u001b[0m\u001b[34m => CACHED [4/5] RUN npm install                                           0.0s\n",
      "\u001b[0m\u001b[34m => [5/5] COPY . .                                                         1.3s\n",
      "\u001b[0m => exporting to image                                                     2.2s\n",
      "\u001b[34m => => exporting layers                                                    1.1s\n",
      "\u001b[0m\u001b[?25h\u001b[1A\u001b[1A\u001b[1A\u001b[1A\u001b[1A\u001b[1A\u001b[1A\u001b[1A\u001b[1A\u001b[1A\u001b[1A\u001b[1A\u001b[1A\u001b[1A\u001b[1A\u001b[0G\u001b[?25l[+] Building 7.3s (9/10)                                                        \n",
      "\u001b[34m => [internal] load build definition from Dockerfile                       0.6s\n",
      "\u001b[0m\u001b[34m => => transferring dockerfile: 399B                                       0.0s\n",
      "\u001b[0m\u001b[34m => [internal] load .dockerignore                                          1.0s\n",
      "\u001b[0m\u001b[34m => => transferring context: 2B                                            0.0s\n",
      "\u001b[0m\u001b[34m => [internal] load metadata for docker.io/library/node:latest             1.6s\n",
      "\u001b[0m\u001b[34m => [1/5] FROM docker.io/library/node:latest@sha256:ddc2ebfc3759299afb208  0.0s\n",
      "\u001b[0m\u001b[34m => [internal] load build context                                          0.4s\n",
      "\u001b[0m\u001b[34m => => transferring context: 536B                                          0.0s\n",
      "\u001b[0m\u001b[34m => CACHED [2/5] WORKDIR ../basic-server                                   0.0s\n",
      "\u001b[0m\u001b[34m => CACHED [3/5] COPY package*.json ./                                     0.0s\n",
      "\u001b[0m\u001b[34m => CACHED [4/5] RUN npm install                                           0.0s\n",
      "\u001b[0m\u001b[34m => [5/5] COPY . .                                                         1.3s\n",
      "\u001b[0m => exporting to image                                                     2.3s\n",
      "\u001b[34m => => exporting layers                                                    1.1s\n",
      "\u001b[0m\u001b[34m => => writing image sha256:71c8aadb94f7ab4873e83a7bcb8a3f69336058824fcf0  0.1s\n",
      "\u001b[0m => => naming to docker.io/library/basic-server                            0.1s\n",
      "\u001b[?25h\u001b[1A\u001b[1A\u001b[1A\u001b[1A\u001b[1A\u001b[1A\u001b[1A\u001b[1A\u001b[1A\u001b[1A\u001b[1A\u001b[1A\u001b[1A\u001b[1A\u001b[1A\u001b[1A\u001b[1A\u001b[0G\u001b[?25l[+] Building 7.4s (10/10)                                                       \n",
      "\u001b[34m => [internal] load build definition from Dockerfile                       0.6s\n",
      "\u001b[0m\u001b[34m => => transferring dockerfile: 399B                                       0.0s\n",
      "\u001b[0m\u001b[34m => [internal] load .dockerignore                                          1.0s\n",
      "\u001b[0m\u001b[34m => => transferring context: 2B                                            0.0s\n",
      "\u001b[0m\u001b[34m => [internal] load metadata for docker.io/library/node:latest             1.6s\n",
      "\u001b[0m\u001b[34m => [1/5] FROM docker.io/library/node:latest@sha256:ddc2ebfc3759299afb208  0.0s\n",
      "\u001b[0m\u001b[34m => [internal] load build context                                          0.4s\n",
      "\u001b[0m\u001b[34m => => transferring context: 536B                                          0.0s\n",
      "\u001b[0m\u001b[34m => CACHED [2/5] WORKDIR ../basic-server                                   0.0s\n",
      "\u001b[0m\u001b[34m => CACHED [3/5] COPY package*.json ./                                     0.0s\n",
      "\u001b[0m\u001b[34m => CACHED [4/5] RUN npm install                                           0.0s\n",
      "\u001b[0m\u001b[34m => [5/5] COPY . .                                                         1.3s\n",
      "\u001b[0m\u001b[34m => exporting to image                                                     2.4s\n",
      "\u001b[0m\u001b[34m => => exporting layers                                                    1.1s\n",
      "\u001b[0m\u001b[34m => => writing image sha256:71c8aadb94f7ab4873e83a7bcb8a3f69336058824fcf0  0.1s\n",
      "\u001b[0m\u001b[34m => => naming to docker.io/library/basic-server                            0.1s\n"
     ]
    },
    {
     "name": "stdout",
     "output_type": "stream",
     "text": [
      "\u001b[0m\u001b[?25h\u001b[1A\u001b[1A\u001b[1A\u001b[1A\u001b[1A\u001b[1A\u001b[1A\u001b[1A\u001b[1A\u001b[1A\u001b[1A\u001b[1A\u001b[1A\u001b[1A\u001b[1A\u001b[1A\u001b[1A\u001b[0G\u001b[?25l[+] Building 7.4s (10/10) FINISHED                                              \n",
      "\u001b[34m => [internal] load build definition from Dockerfile                       0.6s\n",
      "\u001b[0m\u001b[34m => => transferring dockerfile: 399B                                       0.0s\n",
      "\u001b[0m\u001b[34m => [internal] load .dockerignore                                          1.0s\n",
      "\u001b[0m\u001b[34m => => transferring context: 2B                                            0.0s\n",
      "\u001b[0m\u001b[34m => [internal] load metadata for docker.io/library/node:latest             1.6s\n",
      "\u001b[0m\u001b[34m => [1/5] FROM docker.io/library/node:latest@sha256:ddc2ebfc3759299afb208  0.0s\n",
      "\u001b[0m\u001b[34m => [internal] load build context                                          0.4s\n",
      "\u001b[0m\u001b[34m => => transferring context: 536B                                          0.0s\n",
      "\u001b[0m\u001b[34m => CACHED [2/5] WORKDIR ../basic-server                                   0.0s\n",
      "\u001b[0m\u001b[34m => CACHED [3/5] COPY package*.json ./                                     0.0s\n",
      "\u001b[0m\u001b[34m => CACHED [4/5] RUN npm install                                           0.0s\n",
      "\u001b[0m\u001b[34m => [5/5] COPY . .                                                         1.3s\n",
      "\u001b[0m\u001b[34m => exporting to image                                                     2.4s\n",
      "\u001b[0m\u001b[34m => => exporting layers                                                    1.1s\n",
      "\u001b[0m\u001b[34m => => writing image sha256:71c8aadb94f7ab4873e83a7bcb8a3f69336058824fcf0  0.1s\n",
      "\u001b[0m\u001b[34m => => naming to docker.io/library/basic-server                            0.1s\n",
      "\u001b[0m\u001b[?25h"
     ]
    }
   ],
   "source": [
    "# Add the bash commands for task 1 here\n",
    "ls\n",
    "pwd\n",
    "\n",
    "cd ../basic-server\n",
    "docker build -t basic-server ."
   ]
  },
  {
   "cell_type": "code",
   "execution_count": 32,
   "metadata": {},
   "outputs": [
    {
     "name": "stdout",
     "output_type": "stream",
     "text": [
      "cea09c62a714aa56eba9cc3ffba8fc257634ef9205180424d8396d6affc11e18\n"
     ]
    }
   ],
   "source": [
    "docker run -d -p 3000:3000 --network basic-server --name=basic-server basic-server\n"
   ]
  },
  {
   "cell_type": "code",
   "execution_count": 24,
   "metadata": {},
   "outputs": [
    {
     "name": "stdout",
     "output_type": "stream",
     "text": [
      "Error: No such container: basic-server\n"
     ]
    },
    {
     "ename": "",
     "evalue": "1",
     "output_type": "error",
     "traceback": []
    }
   ],
   "source": [
    "docker rm basic-server"
   ]
  },
  {
   "cell_type": "code",
   "execution_count": 37,
   "metadata": {},
   "outputs": [
    {
     "name": "stdout",
     "output_type": "stream",
     "text": [
      "Error response from daemon: Cannot kill container: basic-server: Container cea09c62a714aa56eba9cc3ffba8fc257634ef9205180424d8396d6affc11e18 is not running\n"
     ]
    },
    {
     "ename": "",
     "evalue": "1",
     "output_type": "error",
     "traceback": []
    }
   ],
   "source": [
    "docker kill basic-server"
   ]
  },
  {
   "cell_type": "code",
   "execution_count": 50,
   "metadata": {},
   "outputs": [
    {
     "name": "stdout",
     "output_type": "stream",
     "text": [
      "CONTAINER ID   IMAGE                           COMMAND                  CREATED          STATUS          PORTS                                       NAMES\n",
      "118dea391ea7   mariadb:latest                  \"docker-entrypoint.s…\"   5 minutes ago    Up 5 minutes    127.0.0.1:3001->3001/tcp, 3306/tcp          mariadb\n",
      "e7efc787b206   mihai1voicescu/badass-jupyter   \"docker-entrypoint.s…\"   57 minutes ago   Up 57 minutes   0.0.0.0:8888->8888/tcp, :::8888->8888/tcp   badass-jupyter\n"
     ]
    }
   ],
   "source": [
    "docker ps"
   ]
  },
  {
   "cell_type": "markdown",
   "metadata": {},
   "source": [
    "## Task 2\n",
    "You must now run the server with the database and prove it works.\n",
    "\n",
    "Open the 2 containers(server+db) in the same network. Remember that you are also running this Jupiter server in a container, so you must also add this one to the network.\n",
    "\n",
    "Remember that you must also setup the database with the [sql script](../basic-server/setup.sql). Check the [docker image documentation](https://hub.docker.com/_/mariadb) for the best way to do this.\n"
   ]
  },
  {
   "cell_type": "code",
   "execution_count": 1,
   "metadata": {},
   "outputs": [
    {
     "name": "stdout",
     "output_type": "stream",
     "text": [
      "'Docker homework.ipynb'  'JavaScript homework.ipynb'   README.md\n"
     ]
    }
   ],
   "source": [
    "# Add the bash commands for task 2 here\n",
    "\n",
    "# echo \"version: '3'\n",
    "# services: \n",
    "#     app:\n",
    "#         image: node:alpine\n",
    "#         volumes:\n",
    "#           - ./:/app\n",
    "#         working_dir: /app\n",
    "#         environment:\n",
    "#           NODE_ENV: development\n",
    "#         ports:\n",
    "#           - 3001:3001\n",
    "#         command: npm run dev\n",
    "#     mariadb:\n",
    "#         image: mariadb:latest\n",
    "#         restart: always\n",
    "#         ports:\n",
    "#           - \"3306:3306\"\n",
    "#         expose:\n",
    "#           - 3306\n",
    "#         volumes:\n",
    "#           - ./dbdata:/var/lib/mysql:rw\n",
    "#           - ./setup.sql:/docker-entrypoint-initdb.d/setup.sql\n",
    "#         environment:\n",
    "#           MYSQL_ROOT_PASSWORD: 1234 \" > docker-compose.yaml\n",
    "\n"
   ]
  },
  {
   "cell_type": "code",
   "execution_count": 51,
   "metadata": {},
   "outputs": [
    {
     "name": "stdout",
     "output_type": "stream",
     "text": [
      "/usr/project/js-intro/lib/basic-server\n",
      "mariadb\n"
     ]
    }
   ],
   "source": [
    "pwd\n",
    "docker kill mariadb\n"
   ]
  },
  {
   "cell_type": "code",
   "execution_count": 52,
   "metadata": {},
   "outputs": [
    {
     "name": "stdout",
     "output_type": "stream",
     "text": [
      "Error response from daemon: network with name hw-network already exists\n"
     ]
    },
    {
     "ename": "",
     "evalue": "1",
     "output_type": "error",
     "traceback": []
    }
   ],
   "source": [
    "docker network create hw-network"
   ]
  },
  {
   "cell_type": "code",
   "execution_count": 53,
   "metadata": {
    "scrolled": false
   },
   "outputs": [
    {
     "name": "stdout",
     "output_type": "stream",
     "text": [
      "95623ba50ac65807569d23dd420f04f998e7561e5ea69dbc886755c2c80327aa\n"
     ]
    }
   ],
   "source": [
    "docker run -p 127.0.0.1:3001:3001 --network hw-network --rm --name mariadb -e MARIADB_ROOT_PASSWORD=pass -d mariadb:latest"
   ]
  },
  {
   "cell_type": "code",
   "execution_count": 54,
   "metadata": {},
   "outputs": [],
   "source": [
    "# docker run -p 127.0.0.1:3306:3306 --network awsome-network  --rm --name mariadb -e MARIADB_ROOT_PASSWORD=pass -d mariadb:latest\n",
    "\n",
    "docker exec -i mariadb mysql -u root -ppass < ../basic-server/setup.sql"
   ]
  },
  {
   "cell_type": "code",
   "execution_count": null,
   "metadata": {},
   "outputs": [
    {
     "name": "stdout",
     "output_type": "stream",
     "text": [
      "{\"level\":30,\"time\":1622291169176,\"pid\":1,\"hostname\":\"36de980b2e8f\",\"msg\":\"Server listening at http://0.0.0.0:3001\"}\n",
      "{\"level\":30,\"time\":1622291169176,\"pid\":1,\"hostname\":\"36de980b2e8f\",\"msg\":\"Listening http://0.0.0.0:3001\"}\n"
     ]
    }
   ],
   "source": [
    "docker run -p 127.0.0.1:3003:3001 --network hw-network --rm basic-server:latest"
   ]
  },
  {
   "cell_type": "code",
   "execution_count": null,
   "metadata": {},
   "outputs": [
    {
     "name": "stdout",
     "output_type": "stream",
     "text": [
      "{\"level\":30,\"time\":1622291297101,\"pid\":1,\"hostname\":\"36de980b2e8f\",\"reqId\":\"req-1\",\"req\":{\"method\":\"GET\",\"url\":\"/\",\"hostname\":\"127.0.0.1:3003\",\"remoteAddress\":\"172.20.0.1\",\"remotePort\":48428},\"msg\":\"incoming request\"}\n",
      "new request\n",
      "{\"level\":30,\"time\":1622291297228,\"pid\":1,\"hostname\":\"36de980b2e8f\",\"reqId\":\"req-1\",\"res\":{\"statusCode\":200},\"responseTime\":126.44219999946654,\"msg\":\"request completed\"}\n",
      "{\"level\":30,\"time\":1622291297482,\"pid\":1,\"hostname\":\"36de980b2e8f\",\"reqId\":\"req-2\",\"req\":{\"method\":\"GET\",\"url\":\"/favicon.ico\",\"hostname\":\"127.0.0.1:3003\",\"remoteAddress\":\"172.20.0.1\",\"remotePort\":48428},\"msg\":\"incoming request\"}\n",
      "{\"level\":30,\"time\":1622291297482,\"pid\":1,\"hostname\":\"36de980b2e8f\",\"reqId\":\"req-2\",\"msg\":\"Route GET:/favicon.ico not found\"}\n",
      "{\"level\":30,\"time\":1622291297483,\"pid\":1,\"hostname\":\"36de980b2e8f\",\"reqId\":\"req-2\",\"res\":{\"statusCode\":404},\"responseTime\":0.766100000590086,\"msg\":\"request completed\"}\n",
      "{\"level\":30,\"time\":1622291349325,\"pid\":1,\"hostname\":\"36de980b2e8f\",\"reqId\":\"req-3\",\"req\":{\"method\":\"GET\",\"url\":\"/\",\"hostname\":\"localhost:3003\",\"remoteAddress\":\"172.20.0.1\",\"remotePort\":48436},\"msg\":\"incoming request\"}\n",
      "new request\n",
      "{\"level\":30,\"time\":1622291349330,\"pid\":1,\"hostname\":\"36de980b2e8f\",\"reqId\":\"req-3\",\"res\":{\"statusCode\":200},\"responseTime\":5.362100000493228,\"msg\":\"request completed\"}\n"
     ]
    }
   ],
   "source": [
    "# Do not alter, should return our admin gogu\n",
    "curl basic-server:3001"
   ]
  },
  {
   "cell_type": "code",
   "execution_count": null,
   "metadata": {},
   "outputs": [],
   "source": [
    "curl basic-server:3003"
   ]
  },
  {
   "cell_type": "code",
   "execution_count": null,
   "metadata": {},
   "outputs": [],
   "source": [
    "http://localhost:3003/"
   ]
  },
  {
   "cell_type": "code",
   "execution_count": null,
   "metadata": {},
   "outputs": [],
   "source": [
    "# browser accesat  : [{\"id\":1,\"name\":\"gogu\",\"type\":\"ADMIN\"}]"
   ]
  },
  {
   "cell_type": "code",
   "execution_count": null,
   "metadata": {},
   "outputs": [],
   "source": []
  },
  {
   "cell_type": "code",
   "execution_count": null,
   "metadata": {},
   "outputs": [],
   "source": []
  }
 ],
 "metadata": {
  "kernelspec": {
   "display_name": "Bash",
   "language": "bash",
   "name": "bash"
  },
  "language_info": {
   "codemirror_mode": "shell",
   "file_extension": ".sh",
   "mimetype": "text/x-sh",
   "name": "bash"
  }
 },
 "nbformat": 4,
 "nbformat_minor": 2
}
