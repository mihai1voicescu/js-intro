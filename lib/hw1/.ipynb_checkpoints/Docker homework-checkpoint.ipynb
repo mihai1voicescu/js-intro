{
 "cells": [
  {
   "cell_type": "markdown",
   "metadata": {},
   "source": [
    "# Docker homework"
   ]
  },
  {
   "cell_type": "markdown",
   "metadata": {},
   "source": [
    "In the demo you were shown how a Containerfile/Dockerfile looks like. You were also shown how to run containers and networks.\n",
    "\n",
    "You were also provided with an example server of NodeJS.\n",
    "\n",
    "Please provide the answers in this notebook"
   ]
  },
  {
   "cell_type": "markdown",
   "metadata": {},
   "source": [
    "## Warning\n",
    "Be sure to run it from the root so all files are avaiable to the notebook"
   ]
  },
  {
   "cell_type": "markdown",
   "metadata": {},
   "source": [
    "## Task 1\n",
    "Create a Dockerfile for the NodeJS server found in [basic-server](../basic-server).\n",
    "\n",
    "You must edit the [Dockerfile](../basic-server/Dockerfile) found in the basic-server folder.\n",
    "\n",
    "Remember to also bundle the dependecies listed in the package.json in the resulting image."
   ]
  },
  {
   "cell_type": "code",
   "execution_count": 1,
   "metadata": {
    "scrolled": true
   },
   "outputs": [
    {
     "name": "stdout",
     "output_type": "stream",
     "text": [
      "# start from a base image\n",
      "FROM node:latest\n",
      "\n",
      "# run various command, ussualy installs\n",
      "RUN apt-get update\n",
      "RUN apt-get install -y python3 python3-notebook jupyter jupyter-core\n",
      "\n",
      "RUN pip3 install pyzmq bash_kernel\n",
      "RUN npm i -g ijavascript\n",
      "RUN ijsinstall\n",
      "RUN python3 -m bash_kernel.install\n",
      "\n",
      "RUN apt-get update\n",
      "\n",
      "RUN apt-get install -y \\\n",
      "    apt-transport-https \\\n",
      "    ca-certificates \\\n",
      "    curl \\\n",
      "    gnupg \\\n",
      "    lsb-release\n",
      "\n",
      "RUN curl -fsSL https://get.docker.com -o /get-docker.sh\n",
      "\n",
      "RUN sh /get-docker.sh\n",
      "\n",
      "# final comand to run\n",
      "CMD jupyter notebook /usr/project --ip=0.0.0.0 --allow-root --NotebookApp.token='' --NotebookApp.password=''\n",
      "\n",
      "\n"
     ]
    }
   ],
   "source": [
    "# as an example check this out\n",
    "cat ../badass-jupyter/Dockerfile"
   ]
  },
  {
   "cell_type": "code",
   "execution_count": 2,
   "metadata": {},
   "outputs": [
    {
     "name": "stdout",
     "output_type": "stream",
     "text": [
      "# FIXME\n",
      "FROM node:latest\n",
      "WORKDIR /usr/src/basic-server\n",
      "COPY package*.json index.js ./\n",
      "RUN npm install\n",
      "# RUN export DOCKER_BUILDKIT=0\n",
      "# RUN export COMPOSE_DOCKER_CLI_BUILD=0\n",
      "RUN apt-get install curl\n",
      "EXPOSE 3001\n",
      "CMD [\"node\", \"index.js\"]\n"
     ]
    }
   ],
   "source": [
    "# Do not alter\n",
    "cat ../basic-server/Dockerfile"
   ]
  },
  {
   "cell_type": "code",
   "execution_count": 3,
   "metadata": {},
   "outputs": [],
   "source": [
    "# Add the bash commands for task 1 here"
   ]
  },
  {
   "cell_type": "markdown",
   "metadata": {},
   "source": [
    "## Task 2\n",
    "You must now run the server with the database and prove it works.\n",
    "\n",
    "Open the 2 containers(server+db) in the same network. Remember that you are also running this Jupiter server in a container, so you must also add this one to the network.\n",
    "\n",
    "Remember that you must also setup the database with the [sql script](../basic-server/setup.sql). Check the [docker image documentation](https://hub.docker.com/_/mariadb) for the best way to do this.\n"
   ]
  },
  {
   "cell_type": "code",
   "execution_count": 3,
   "metadata": {},
   "outputs": [
    {
     "name": "stdout",
     "output_type": "stream",
     "text": [
      "Error response from daemon: network with name basic-server already exists\n",
      "\u001b[1A\u001b[1B\u001b[0G\u001b[?25l[+] Building 0.0s (0/1)                                                         \n",
      "\u001b[?25h\u001b[1A\u001b[0G\u001b[?25l[+] Building 0.1s (2/3)                                                         \n",
      "\u001b[34m => [internal] load build definition from Dockerfile                       0.1s\n",
      "\u001b[0m\u001b[34m => => transferring dockerfile: 280B                                       0.0s\n",
      "\u001b[0m\u001b[34m => [internal] load .dockerignore                                          0.0s\n",
      "\u001b[0m\u001b[34m => => transferring context: 2B                                            0.0s\n",
      "\u001b[0m => [internal] load metadata for docker.io/library/node:latest             0.0s\n",
      "\u001b[?25h\u001b[1A\u001b[1A\u001b[1A\u001b[1A\u001b[1A\u001b[1A\u001b[0G\u001b[?25l[+] Building 0.3s (2/3)                                                         \n",
      "\u001b[34m => [internal] load build definition from Dockerfile                       0.1s\n",
      "\u001b[0m\u001b[34m => => transferring dockerfile: 280B                                       0.0s\n",
      "\u001b[0m\u001b[34m => [internal] load .dockerignore                                          0.0s\n",
      "\u001b[0m\u001b[34m => => transferring context: 2B                                            0.0s\n",
      "\u001b[0m => [internal] load metadata for docker.io/library/node:latest             0.2s\n",
      "\u001b[?25h\u001b[1A\u001b[1A\u001b[1A\u001b[1A\u001b[1A\u001b[1A\u001b[0G\u001b[?25l[+] Building 0.4s (2/3)                                                         \n",
      "\u001b[34m => [internal] load build definition from Dockerfile                       0.1s\n",
      "\u001b[0m\u001b[34m => => transferring dockerfile: 280B                                       0.0s\n",
      "\u001b[0m\u001b[34m => [internal] load .dockerignore                                          0.0s\n",
      "\u001b[0m\u001b[34m => => transferring context: 2B                                            0.0s\n",
      "\u001b[0m => [internal] load metadata for docker.io/library/node:latest             0.3s\n",
      "\u001b[?25h\u001b[1A\u001b[1A\u001b[1A\u001b[1A\u001b[1A\u001b[1A\u001b[0G\u001b[?25l[+] Building 0.6s (2/3)                                                         \n",
      "\u001b[34m => [internal] load build definition from Dockerfile                       0.1s\n",
      "\u001b[0m\u001b[34m => => transferring dockerfile: 280B                                       0.0s\n",
      "\u001b[0m\u001b[34m => [internal] load .dockerignore                                          0.0s\n",
      "\u001b[0m\u001b[34m => => transferring context: 2B                                            0.0s\n",
      "\u001b[0m => [internal] load metadata for docker.io/library/node:latest             0.5s\n",
      "\u001b[?25h\u001b[1A\u001b[1A\u001b[1A\u001b[1A\u001b[1A\u001b[1A\u001b[0G\u001b[?25l[+] Building 0.7s (2/3)                                                         \n",
      "\u001b[34m => [internal] load build definition from Dockerfile                       0.1s\n",
      "\u001b[0m\u001b[34m => => transferring dockerfile: 280B                                       0.0s\n",
      "\u001b[0m\u001b[34m => [internal] load .dockerignore                                          0.0s\n",
      "\u001b[0m\u001b[34m => => transferring context: 2B                                            0.0s\n",
      "\u001b[0m => [internal] load metadata for docker.io/library/node:latest             0.6s\n",
      "\u001b[?25h\u001b[1A\u001b[1A\u001b[1A\u001b[1A\u001b[1A\u001b[1A\u001b[0G\u001b[?25l[+] Building 0.9s (2/3)                                                         \n",
      "\u001b[34m => [internal] load build definition from Dockerfile                       0.1s\n",
      "\u001b[0m\u001b[34m => => transferring dockerfile: 280B                                       0.0s\n",
      "\u001b[0m\u001b[34m => [internal] load .dockerignore                                          0.0s\n",
      "\u001b[0m\u001b[34m => => transferring context: 2B                                            0.0s\n",
      "\u001b[0m => [internal] load metadata for docker.io/library/node:latest             0.8s\n",
      "\u001b[?25h\u001b[1A\u001b[1A\u001b[1A\u001b[1A\u001b[1A\u001b[1A\u001b[0G\u001b[?25l[+] Building 1.0s (2/3)                                                         \n",
      "\u001b[34m => [internal] load build definition from Dockerfile                       0.1s\n",
      "\u001b[0m\u001b[34m => => transferring dockerfile: 280B                                       0.0s\n",
      "\u001b[0m\u001b[34m => [internal] load .dockerignore                                          0.0s\n",
      "\u001b[0m\u001b[34m => => transferring context: 2B                                            0.0s\n",
      "\u001b[0m => [internal] load metadata for docker.io/library/node:latest             0.9s\n",
      "\u001b[?25h\u001b[1A\u001b[1A\u001b[1A\u001b[1A\u001b[1A\u001b[1A\u001b[0G\u001b[?25l[+] Building 1.2s (2/3)                                                         \n",
      "\u001b[34m => [internal] load build definition from Dockerfile                       0.1s\n",
      "\u001b[0m\u001b[34m => => transferring dockerfile: 280B                                       0.0s\n",
      "\u001b[0m\u001b[34m => [internal] load .dockerignore                                          0.0s\n",
      "\u001b[0m\u001b[34m => => transferring context: 2B                                            0.0s\n",
      "\u001b[0m => [internal] load metadata for docker.io/library/node:latest             1.1s\n",
      "\u001b[?25h\u001b[1A\u001b[1A\u001b[1A\u001b[1A\u001b[1A\u001b[1A\u001b[0G\u001b[?25l[+] Building 1.3s (2/3)                                                         \n",
      "\u001b[34m => [internal] load build definition from Dockerfile                       0.1s\n",
      "\u001b[0m\u001b[34m => => transferring dockerfile: 280B                                       0.0s\n",
      "\u001b[0m\u001b[34m => [internal] load .dockerignore                                          0.0s\n",
      "\u001b[0m\u001b[34m => => transferring context: 2B                                            0.0s\n",
      "\u001b[0m => [internal] load metadata for docker.io/library/node:latest             1.2s\n",
      "\u001b[?25h\u001b[1A\u001b[1A\u001b[1A\u001b[1A\u001b[1A\u001b[1A\u001b[0G\u001b[?25l[+] Building 1.5s (2/3)                                                         \n",
      "\u001b[34m => [internal] load build definition from Dockerfile                       0.1s\n",
      "\u001b[0m\u001b[34m => => transferring dockerfile: 280B                                       0.0s\n",
      "\u001b[0m\u001b[34m => [internal] load .dockerignore                                          0.0s\n",
      "\u001b[0m\u001b[34m => => transferring context: 2B                                            0.0s\n",
      "\u001b[0m => [internal] load metadata for docker.io/library/node:latest             1.4s\n",
      "\u001b[?25h\u001b[1A\u001b[1A\u001b[1A\u001b[1A\u001b[1A\u001b[1A\u001b[0G\u001b[?25l[+] Building 1.6s (2/3)                                                         \n",
      "\u001b[34m => [internal] load build definition from Dockerfile                       0.1s\n",
      "\u001b[0m\u001b[34m => => transferring dockerfile: 280B                                       0.0s\n",
      "\u001b[0m\u001b[34m => [internal] load .dockerignore                                          0.0s\n",
      "\u001b[0m\u001b[34m => => transferring context: 2B                                            0.0s\n",
      "\u001b[0m => [internal] load metadata for docker.io/library/node:latest             1.5s\n",
      "\u001b[?25h\u001b[1A\u001b[1A\u001b[1A\u001b[1A\u001b[1A\u001b[1A\u001b[0G\u001b[?25l[+] Building 1.8s (2/3)                                                         \n",
      "\u001b[34m => [internal] load build definition from Dockerfile                       0.1s\n",
      "\u001b[0m\u001b[34m => => transferring dockerfile: 280B                                       0.0s\n",
      "\u001b[0m\u001b[34m => [internal] load .dockerignore                                          0.0s\n",
      "\u001b[0m\u001b[34m => => transferring context: 2B                                            0.0s\n",
      "\u001b[0m => [internal] load metadata for docker.io/library/node:latest             1.7s\n",
      "\u001b[?25h\u001b[1A\u001b[1A\u001b[1A\u001b[1A\u001b[1A\u001b[1A\u001b[0G\u001b[?25l[+] Building 1.9s (2/3)                                                         \n",
      "\u001b[34m => [internal] load build definition from Dockerfile                       0.1s\n",
      "\u001b[0m\u001b[34m => => transferring dockerfile: 280B                                       0.0s\n",
      "\u001b[0m\u001b[34m => [internal] load .dockerignore                                          0.0s\n",
      "\u001b[0m\u001b[34m => => transferring context: 2B                                            0.0s\n",
      "\u001b[0m => [internal] load metadata for docker.io/library/node:latest             1.8s\n",
      "\u001b[?25h\u001b[1A\u001b[1A\u001b[1A\u001b[1A\u001b[1A\u001b[1A\u001b[0G\u001b[?25l[+] Building 2.1s (2/3)                                                         \n",
      "\u001b[34m => [internal] load build definition from Dockerfile                       0.1s\n",
      "\u001b[0m\u001b[34m => => transferring dockerfile: 280B                                       0.0s\n",
      "\u001b[0m\u001b[34m => [internal] load .dockerignore                                          0.0s\n",
      "\u001b[0m\u001b[34m => => transferring context: 2B                                            0.0s\n",
      "\u001b[0m => [internal] load metadata for docker.io/library/node:latest             2.0s\n",
      "\u001b[?25h\u001b[1A\u001b[1A\u001b[1A\u001b[1A\u001b[1A\u001b[1A\u001b[0G\u001b[?25l[+] Building 2.2s (2/3)                                                         \n",
      "\u001b[34m => [internal] load build definition from Dockerfile                       0.1s\n",
      "\u001b[0m\u001b[34m => => transferring dockerfile: 280B                                       0.0s\n"
     ]
    },
    {
     "name": "stdout",
     "output_type": "stream",
     "text": [
      "\u001b[0m\u001b[34m => [internal] load .dockerignore                                          0.0s\n",
      "\u001b[0m\u001b[34m => => transferring context: 2B                                            0.0s\n",
      "\u001b[0m => [internal] load metadata for docker.io/library/node:latest             2.1s\n",
      "\u001b[?25h\u001b[1A\u001b[1A\u001b[1A\u001b[1A\u001b[1A\u001b[1A\u001b[0G\u001b[?25l[+] Building 2.4s (2/3)                                                         \n",
      "\u001b[34m => [internal] load build definition from Dockerfile                       0.1s\n",
      "\u001b[0m\u001b[34m => => transferring dockerfile: 280B                                       0.0s\n",
      "\u001b[0m\u001b[34m => [internal] load .dockerignore                                          0.0s\n",
      "\u001b[0m\u001b[34m => => transferring context: 2B                                            0.0s\n",
      "\u001b[0m => [internal] load metadata for docker.io/library/node:latest             2.3s\n",
      "\u001b[?25h\u001b[1A\u001b[1A\u001b[1A\u001b[1A\u001b[1A\u001b[1A\u001b[0G\u001b[?25l[+] Building 2.5s (2/3)                                                         \n",
      "\u001b[34m => [internal] load build definition from Dockerfile                       0.1s\n",
      "\u001b[0m\u001b[34m => => transferring dockerfile: 280B                                       0.0s\n",
      "\u001b[0m\u001b[34m => [internal] load .dockerignore                                          0.0s\n",
      "\u001b[0m\u001b[34m => => transferring context: 2B                                            0.0s\n",
      "\u001b[0m => [internal] load metadata for docker.io/library/node:latest             2.4s\n",
      "\u001b[?25h\u001b[1A\u001b[1A\u001b[1A\u001b[1A\u001b[1A\u001b[1A\u001b[0G\u001b[?25l[+] Building 2.7s (4/9)                                                         \n",
      "\u001b[34m => [internal] load build definition from Dockerfile                       0.1s\n",
      "\u001b[0m\u001b[34m => => transferring dockerfile: 280B                                       0.0s\n",
      "\u001b[0m\u001b[34m => [internal] load .dockerignore                                          0.0s\n",
      "\u001b[0m\u001b[34m => => transferring context: 2B                                            0.0s\n",
      "\u001b[0m\u001b[34m => [internal] load metadata for docker.io/library/node:latest             2.5s\n",
      "\u001b[0m => [1/5] FROM docker.io/library/node:latest@sha256:ddc2ebfc3759299afb208  0.0s\n",
      "\u001b[34m => => resolve docker.io/library/node:latest@sha256:ddc2ebfc3759299afb208  0.0s\n",
      "\u001b[0m\u001b[34m => [internal] load build context                                          0.0s\n",
      "\u001b[0m\u001b[?25h\u001b[1A\u001b[1A\u001b[1A\u001b[1A\u001b[1A\u001b[1A\u001b[1A\u001b[1A\u001b[1A\u001b[0G\u001b[?25l[+] Building 2.8s (4/9)                                                         \n",
      "\u001b[34m => [internal] load build definition from Dockerfile                       0.1s\n",
      "\u001b[0m\u001b[34m => => transferring dockerfile: 280B                                       0.0s\n",
      "\u001b[0m\u001b[34m => [internal] load .dockerignore                                          0.0s\n",
      "\u001b[0m\u001b[34m => => transferring context: 2B                                            0.0s\n",
      "\u001b[0m\u001b[34m => [internal] load metadata for docker.io/library/node:latest             2.5s\n",
      "\u001b[0m\u001b[34m => [1/5] FROM docker.io/library/node:latest@sha256:ddc2ebfc3759299afb208  0.0s\n",
      "\u001b[0m\u001b[34m => => resolve docker.io/library/node:latest@sha256:ddc2ebfc3759299afb208  0.0s\n",
      "\u001b[0m => [internal] load build context                                          0.1s\n",
      " => => transferring context: 28B                                           0.1s\n",
      "\u001b[?25h\u001b[1A\u001b[1A\u001b[1A\u001b[1A\u001b[1A\u001b[1A\u001b[1A\u001b[1A\u001b[1A\u001b[1A\u001b[0G\u001b[?25l[+] Building 2.9s (9/10)                                                        \n",
      "\u001b[34m => [internal] load build definition from Dockerfile                       0.1s\n",
      "\u001b[0m\u001b[34m => => transferring dockerfile: 280B                                       0.0s\n",
      "\u001b[0m\u001b[34m => [internal] load .dockerignore                                          0.0s\n",
      "\u001b[0m\u001b[34m => => transferring context: 2B                                            0.0s\n",
      "\u001b[0m\u001b[34m => [internal] load metadata for docker.io/library/node:latest             2.5s\n",
      "\u001b[0m\u001b[34m => [1/5] FROM docker.io/library/node:latest@sha256:ddc2ebfc3759299afb208  0.0s\n",
      "\u001b[0m\u001b[34m => => resolve docker.io/library/node:latest@sha256:ddc2ebfc3759299afb208  0.0s\n",
      "\u001b[0m\u001b[34m => [internal] load build context                                          0.2s\n",
      "\u001b[0m\u001b[34m => => transferring context: 1.10kB                                        0.2s\n",
      "\u001b[0m\u001b[34m => CACHED [2/5] WORKDIR /usr/src/basic-server                             0.0s\n",
      "\u001b[0m\u001b[34m => CACHED [3/5] COPY package*.json index.js ./                            0.0s\n",
      "\u001b[0m\u001b[34m => CACHED [4/5] RUN npm install                                           0.0s\n",
      "\u001b[0m\u001b[34m => CACHED [5/5] RUN apt-get install curl                                  0.0s\n",
      "\u001b[0m => exporting to image                                                     0.0s\n",
      "\u001b[34m => => exporting layers                                                    0.0s\n",
      "\u001b[0m => => writing image sha256:8a2d1a8f58ed10bc0cb22722d67580ab65a018cdcdee8  0.0s\n",
      "\u001b[?25h\u001b[1A\u001b[1A\u001b[1A\u001b[1A\u001b[1A\u001b[1A\u001b[1A\u001b[1A\u001b[1A\u001b[1A\u001b[1A\u001b[1A\u001b[1A\u001b[1A\u001b[1A\u001b[1A\u001b[1A\u001b[0G\u001b[?25l[+] Building 2.9s (10/10) FINISHED                                              \n",
      "\u001b[34m => [internal] load build definition from Dockerfile                       0.1s\n",
      "\u001b[0m\u001b[34m => => transferring dockerfile: 280B                                       0.0s\n",
      "\u001b[0m\u001b[34m => [internal] load .dockerignore                                          0.0s\n",
      "\u001b[0m\u001b[34m => => transferring context: 2B                                            0.0s\n",
      "\u001b[0m\u001b[34m => [internal] load metadata for docker.io/library/node:latest             2.5s\n",
      "\u001b[0m\u001b[34m => [1/5] FROM docker.io/library/node:latest@sha256:ddc2ebfc3759299afb208  0.0s\n",
      "\u001b[0m\u001b[34m => => resolve docker.io/library/node:latest@sha256:ddc2ebfc3759299afb208  0.0s\n",
      "\u001b[0m\u001b[34m => [internal] load build context                                          0.2s\n",
      "\u001b[0m\u001b[34m => => transferring context: 1.10kB                                        0.2s\n",
      "\u001b[0m\u001b[34m => CACHED [2/5] WORKDIR /usr/src/basic-server                             0.0s\n",
      "\u001b[0m\u001b[34m => CACHED [3/5] COPY package*.json index.js ./                            0.0s\n",
      "\u001b[0m\u001b[34m => CACHED [4/5] RUN npm install                                           0.0s\n",
      "\u001b[0m\u001b[34m => CACHED [5/5] RUN apt-get install curl                                  0.0s\n",
      "\u001b[0m\u001b[34m => exporting to image                                                     0.0s\n",
      "\u001b[0m\u001b[34m => => exporting layers                                                    0.0s\n",
      "\u001b[0m\u001b[34m => => writing image sha256:8a2d1a8f58ed10bc0cb22722d67580ab65a018cdcdee8  0.0s\n",
      "\u001b[0m\u001b[34m => => naming to docker.io/library/basic-server                            0.0s\n",
      "\u001b[0m\u001b[?25h"
     ]
    }
   ],
   "source": [
    "# Add the bash commands for task 2 here\n",
    "cd ../basic-server\n",
    "# docker container ls\n",
    "\n",
    "docker network create basic-server\n",
    "\n",
    "docker build -t basic-server .\n",
    "\n",
    "\n",
    "\n",
    "\n"
   ]
  },
  {
   "cell_type": "code",
   "execution_count": 4,
   "metadata": {},
   "outputs": [
    {
     "name": "stdout",
     "output_type": "stream",
     "text": [
      "aa4b19f52f3bb6c6db449fa03d12b252e19827ce3ab550007bcd4ae5b97558e6\n",
      "bdcc04a39071789a0ea0d9383ad08921d9fee54a76ff5ecfb7d096e8a166b49e\n"
     ]
    }
   ],
   "source": [
    "# docker container kill basic-server\n",
    "\n",
    "docker run -d --net basic-server --rm  -p 3001:3001 basic-server\n",
    "docker run --network basic-server  --rm  -e MARIADB_ROOT_PASSWORD=pass -d mariadb:latest\n"
   ]
  },
  {
   "cell_type": "code",
   "execution_count": 5,
   "metadata": {},
   "outputs": [
    {
     "name": "stdout",
     "output_type": "stream",
     "text": [
      "CONTAINER ID   IMAGE                           COMMAND                  CREATED         STATUS         PORTS                                       NAMES\n",
      "bdcc04a39071   mariadb:latest                  \"docker-entrypoint.s…\"   5 seconds ago   Up 4 seconds   3306/tcp                                    stoic_blackwell\n",
      "aa4b19f52f3b   basic-server                    \"docker-entrypoint.s…\"   6 seconds ago   Up 5 seconds   0.0.0.0:3001->3001/tcp, :::3001->3001/tcp   kind_wu\n",
      "2e10fa989c62   mihai1voicescu/badass-jupyter   \"docker-entrypoint.s…\"   9 minutes ago   Up 9 minutes   0.0.0.0:8888->8888/tcp, :::8888->8888/tcp   badass-jupyter\n"
     ]
    }
   ],
   "source": [
    "# docker ps\n",
    "\n",
    "# docker inspect --format='{{ .NetworkSettings.IPAddress }}' dbd7644cbd3a\n",
    "# docker container kill basic-server\n",
    "\n",
    "# docker images\n",
    "# docker ps -a\n",
    "# cat /etc/hosts\n",
    "# docker container kill stupefied_raman\n",
    "# docker container kill interesting_tu\n",
    "\n",
    "docker container ls"
   ]
  },
  {
   "cell_type": "code",
   "execution_count": 6,
   "metadata": {},
   "outputs": [
    {
     "name": "stdout",
     "output_type": "stream",
     "text": [
      "curl: (6) Could not resolve host: basic-server\n"
     ]
    },
    {
     "ename": "",
     "evalue": "6",
     "output_type": "error",
     "traceback": []
    }
   ],
   "source": [
    "# cat /etc/hosts\n",
    "# netstat -ln | grep 3001\n",
    "# Do not alter, should return our admin gogu\n",
    "curl basic-server:3001\n"
   ]
  },
  {
   "cell_type": "code",
   "execution_count": 10,
   "metadata": {},
   "outputs": [],
   "source": [
    "# cat /etc/hosts\n",
    "echo \"172.18.0.2 basic-server\" >> /etc/hosts\n",
    "\n",
    "# docker inspect kind_wu"
   ]
  },
  {
   "cell_type": "code",
   "execution_count": 12,
   "metadata": {},
   "outputs": [
    {
     "name": "stdout",
     "output_type": "stream",
     "text": [
      "127.0.0.1\tlocalhost\n",
      "::1\tlocalhost ip6-localhost ip6-loopback\n",
      "fe00::0\tip6-localnet\n",
      "ff00::0\tip6-mcastprefix\n",
      "ff02::1\tip6-allnodes\n",
      "ff02::2\tip6-allrouters\n",
      "172.17.0.2\t2e10fa989c62\n",
      "172.18.0.2 basic-server\n",
      "curl: (7) Failed to connect to basic-server port 3001: Connection timed out\n"
     ]
    },
    {
     "ename": "",
     "evalue": "7",
     "output_type": "error",
     "traceback": []
    }
   ],
   "source": [
    "cat /etc/hosts\n",
    "\n",
    "curl basic-server:3001"
   ]
  },
  {
   "cell_type": "code",
   "execution_count": null,
   "metadata": {},
   "outputs": [],
   "source": []
  }
 ],
 "metadata": {
  "kernelspec": {
   "display_name": "Bash",
   "language": "bash",
   "name": "bash"
  },
  "language_info": {
   "codemirror_mode": "shell",
   "file_extension": ".sh",
   "mimetype": "text/x-sh",
   "name": "bash"
  }
 },
 "nbformat": 4,
 "nbformat_minor": 2
}
