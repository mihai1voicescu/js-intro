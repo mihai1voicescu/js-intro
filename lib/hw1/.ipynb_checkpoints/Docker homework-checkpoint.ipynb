{
 "cells": [
  {
   "cell_type": "markdown",
   "metadata": {},
   "source": [
    "# Docker homework"
   ]
  },
  {
   "cell_type": "markdown",
   "metadata": {},
   "source": [
    "In the demo you were shown how a Containerfile/Dockerfile looks like. You were also shown how to run containers and networks.\n",
    "\n",
    "You were also provided with an example server of NodeJS.\n",
    "\n",
    "Please provide the answers in this notebook"
   ]
  },
  {
   "cell_type": "markdown",
   "metadata": {},
   "source": [
    "## Warning\n",
    "Be sure to run it from the root so all files are avaiable to the notebook"
   ]
  },
  {
   "cell_type": "markdown",
   "metadata": {},
   "source": [
    "## Task 1\n",
    "Create a Dockerfile for the NodeJS server found in [basic-server](../basic-server).\n",
    "\n",
    "You must edit the [Dockerfile](../basic-server/Dockerfile) found in the basic-server folder.\n",
    "\n",
    "Remember to also bundle the dependecies listed in the package.json in the resulting image."
   ]
  },
  {
   "cell_type": "code",
   "execution_count": 1,
   "metadata": {},
   "outputs": [
    {
     "name": "stdout",
     "output_type": "stream",
     "text": [
      "# start from a base image\n",
      "FROM node:latest\n",
      "\n",
      "# run various command, ussualy installs\n",
      "RUN apt-get update\n",
      "RUN apt-get install -y python3 python3-notebook jupyter jupyter-core\n",
      "\n",
      "RUN pip3 install pyzmq bash_kernel\n",
      "RUN npm i -g ijavascript\n",
      "RUN ijsinstall\n",
      "RUN python3 -m bash_kernel.install\n",
      "\n",
      "RUN apt-get update\n",
      "\n",
      "RUN apt-get install -y \\\n",
      "    apt-transport-https \\\n",
      "    ca-certificates \\\n",
      "    curl \\\n",
      "    gnupg \\\n",
      "    lsb-release\n",
      "\n",
      "RUN curl -fsSL https://get.docker.com -o /get-docker.sh\n",
      "\n",
      "RUN sh /get-docker.sh\n",
      "\n",
      "# final comand to run\n",
      "CMD jupyter notebook /usr/project --ip=0.0.0.0 --allow-root --NotebookApp.token='' --NotebookApp.password=''\n",
      "\n",
      "\n"
     ]
    }
   ],
   "source": [
    "# as an example check this out\n",
    "cat ../badass-jupyter/Dockerfile"
   ]
  },
  {
   "cell_type": "code",
   "execution_count": 8,
   "metadata": {},
   "outputs": [
    {
     "name": "stdout",
     "output_type": "stream",
     "text": [
      "# start from a base image\n",
      "FROM node:latest\n",
      "\n",
      "# run commands\n",
      "RUN apt-get update\n",
      "\n",
      "WORKDIR /lib/basic_server\n",
      "\n",
      "EXPOSE 3001\n",
      "\n",
      "# pull all deps registered in the package.json\n",
      "COPY package.json package.json\n",
      "\n",
      "RUN npm install\n",
      "\n",
      "COPY . .\n",
      "\n",
      "# setup the database with the sql script\n",
      "COPY setup.sql /docker-entrypoint-initdb.d/setup.sql\n",
      "\n",
      "# final comand to run\n",
      "CMD [ \"node\", \"index.js\" ]\n",
      "\n",
      "# from bash, path: /lib/basic-server/\n",
      "# docker build -t basic-server-app .\n",
      "# docker run  -p 3001:3001 --ip=0.0.0.0 basic-server-app\n",
      "\n"
     ]
    }
   ],
   "source": [
    "# Do not alter\n",
    "cat ../basic-server/Dockerfile"
   ]
  },
  {
   "cell_type": "code",
   "execution_count": 9,
   "metadata": {},
   "outputs": [
    {
     "name": "stdout",
     "output_type": "stream",
     "text": [
      "\u001b[1A\u001b[1B\u001b[0G\u001b[?25l[+] Building 0.0s (0/1)                                                         \n",
      "\u001b[?25h\u001b[1A\u001b[0G\u001b[?25l[+] Building 0.1s (2/2)                                                         \n",
      "\u001b[34m => [internal] load build definition from Dockerfile                       0.1s\n",
      "\u001b[0m\u001b[34m => => transferring dockerfile: 548B                                       0.0s\n",
      "\u001b[0m\u001b[34m => [internal] load .dockerignore                                          0.0s\n",
      "\u001b[0m\u001b[34m => => transferring context: 2B                                            0.0s\n",
      "\u001b[0m\u001b[?25h\u001b[1A\u001b[1A\u001b[1A\u001b[1A\u001b[1A\u001b[0G\u001b[?25l[+] Building 0.3s (2/3)                                                         \n",
      "\u001b[34m => [internal] load build definition from Dockerfile                       0.1s\n",
      "\u001b[0m\u001b[34m => => transferring dockerfile: 548B                                       0.0s\n",
      "\u001b[0m\u001b[34m => [internal] load .dockerignore                                          0.0s\n",
      "\u001b[0m\u001b[34m => => transferring context: 2B                                            0.0s\n",
      "\u001b[0m => [internal] load metadata for docker.io/library/node:latest             0.1s\n",
      "\u001b[?25h\u001b[1A\u001b[1A\u001b[1A\u001b[1A\u001b[1A\u001b[1A\u001b[0G\u001b[?25l[+] Building 0.4s (2/3)                                                         \n",
      "\u001b[34m => [internal] load build definition from Dockerfile                       0.1s\n",
      "\u001b[0m\u001b[34m => => transferring dockerfile: 548B                                       0.0s\n",
      "\u001b[0m\u001b[34m => [internal] load .dockerignore                                          0.0s\n",
      "\u001b[0m\u001b[34m => => transferring context: 2B                                            0.0s\n",
      "\u001b[0m => [internal] load metadata for docker.io/library/node:latest             0.2s\n",
      "\u001b[?25h\u001b[1A\u001b[1A\u001b[1A\u001b[1A\u001b[1A\u001b[1A\u001b[0G\u001b[?25l[+] Building 0.6s (2/3)                                                         \n",
      "\u001b[34m => [internal] load build definition from Dockerfile                       0.1s\n",
      "\u001b[0m\u001b[34m => => transferring dockerfile: 548B                                       0.0s\n",
      "\u001b[0m\u001b[34m => [internal] load .dockerignore                                          0.0s\n",
      "\u001b[0m\u001b[34m => => transferring context: 2B                                            0.0s\n",
      "\u001b[0m => [internal] load metadata for docker.io/library/node:latest             0.4s\n",
      "\u001b[?25h\u001b[1A\u001b[1A\u001b[1A\u001b[1A\u001b[1A\u001b[1A\u001b[0G\u001b[?25l[+] Building 0.7s (2/3)                                                         \n",
      "\u001b[34m => [internal] load build definition from Dockerfile                       0.1s\n",
      "\u001b[0m\u001b[34m => => transferring dockerfile: 548B                                       0.0s\n",
      "\u001b[0m\u001b[34m => [internal] load .dockerignore                                          0.0s\n",
      "\u001b[0m\u001b[34m => => transferring context: 2B                                            0.0s\n",
      "\u001b[0m => [internal] load metadata for docker.io/library/node:latest             0.5s\n",
      "\u001b[?25h\u001b[1A\u001b[1A\u001b[1A\u001b[1A\u001b[1A\u001b[1A\u001b[0G\u001b[?25l[+] Building 0.9s (2/3)                                                         \n",
      "\u001b[34m => [internal] load build definition from Dockerfile                       0.1s\n",
      "\u001b[0m\u001b[34m => => transferring dockerfile: 548B                                       0.0s\n",
      "\u001b[0m\u001b[34m => [internal] load .dockerignore                                          0.0s\n",
      "\u001b[0m\u001b[34m => => transferring context: 2B                                            0.0s\n",
      "\u001b[0m => [internal] load metadata for docker.io/library/node:latest             0.7s\n",
      "\u001b[?25h\u001b[1A\u001b[1A\u001b[1A\u001b[1A\u001b[1A\u001b[1A\u001b[0G\u001b[?25l[+] Building 1.0s (2/3)                                                         \n",
      "\u001b[34m => [internal] load build definition from Dockerfile                       0.1s\n",
      "\u001b[0m\u001b[34m => => transferring dockerfile: 548B                                       0.0s\n",
      "\u001b[0m\u001b[34m => [internal] load .dockerignore                                          0.0s\n",
      "\u001b[0m\u001b[34m => => transferring context: 2B                                            0.0s\n",
      "\u001b[0m => [internal] load metadata for docker.io/library/node:latest             0.8s\n",
      "\u001b[?25h\u001b[1A\u001b[1A\u001b[1A\u001b[1A\u001b[1A\u001b[1A\u001b[0G\u001b[?25l[+] Building 1.2s (2/3)                                                         \n",
      "\u001b[34m => [internal] load build definition from Dockerfile                       0.1s\n",
      "\u001b[0m\u001b[34m => => transferring dockerfile: 548B                                       0.0s\n",
      "\u001b[0m\u001b[34m => [internal] load .dockerignore                                          0.0s\n",
      "\u001b[0m\u001b[34m => => transferring context: 2B                                            0.0s\n",
      "\u001b[0m => [internal] load metadata for docker.io/library/node:latest             1.0s\n",
      "\u001b[?25h\u001b[1A\u001b[1A\u001b[1A\u001b[1A\u001b[1A\u001b[1A\u001b[0G\u001b[?25l[+] Building 1.3s (2/3)                                                         \n",
      "\u001b[34m => [internal] load build definition from Dockerfile                       0.1s\n",
      "\u001b[0m\u001b[34m => => transferring dockerfile: 548B                                       0.0s\n",
      "\u001b[0m\u001b[34m => [internal] load .dockerignore                                          0.0s\n",
      "\u001b[0m\u001b[34m => => transferring context: 2B                                            0.0s\n",
      "\u001b[0m => [internal] load metadata for docker.io/library/node:latest             1.1s\n",
      "\u001b[?25h\u001b[1A\u001b[1A\u001b[1A\u001b[1A\u001b[1A\u001b[1A\u001b[0G\u001b[?25l[+] Building 1.4s (4/11)                                                        \n",
      "\u001b[34m => [internal] load build definition from Dockerfile                       0.1s\n",
      "\u001b[0m\u001b[34m => => transferring dockerfile: 548B                                       0.0s\n",
      "\u001b[0m\u001b[34m => [internal] load .dockerignore                                          0.0s\n",
      "\u001b[0m\u001b[34m => => transferring context: 2B                                            0.0s\n",
      "\u001b[0m\u001b[34m => [internal] load metadata for docker.io/library/node:latest             1.2s\n",
      "\u001b[0m => [internal] load build context                                          0.0s\n",
      " => => transferring context:                                               0.0s\n",
      "\u001b[34m => [1/7] FROM docker.io/library/node:latest@sha256:025d33d7797aaad52c0e3  0.0s\n",
      "\u001b[0m\u001b[?25h\u001b[1A\u001b[1A\u001b[1A\u001b[1A\u001b[1A\u001b[1A\u001b[1A\u001b[1A\u001b[1A\u001b[0G\u001b[?25l[+] Building 1.5s (11/12)                                                       \n",
      "\u001b[34m => [internal] load build definition from Dockerfile                       0.1s\n",
      "\u001b[0m\u001b[34m => => transferring dockerfile: 548B                                       0.0s\n",
      "\u001b[0m\u001b[34m => [internal] load .dockerignore                                          0.0s\n",
      "\u001b[0m\u001b[34m => => transferring context: 2B                                            0.0s\n",
      "\u001b[0m\u001b[34m => [internal] load metadata for docker.io/library/node:latest             1.2s\n",
      "\u001b[0m\u001b[34m => [internal] load build context                                          0.1s\n",
      "\u001b[0m\u001b[34m => => transferring context: 2.08kB                                        0.0s\n",
      "\u001b[0m\u001b[34m => [1/7] FROM docker.io/library/node:latest@sha256:025d33d7797aaad52c0e3  0.0s\n",
      "\u001b[0m\u001b[34m => CACHED [2/7] RUN apt-get update                                        0.0s\n",
      "\u001b[0m\u001b[34m => CACHED [3/7] WORKDIR /lib/basic_server                                 0.0s\n",
      "\u001b[0m\u001b[34m => CACHED [4/7] COPY package.json package.json                            0.0s\n",
      "\u001b[0m\u001b[34m => CACHED [5/7] RUN npm install                                           0.0s\n",
      "\u001b[0m\u001b[34m => CACHED [6/7] COPY . .                                                  0.0s\n",
      "\u001b[0m\u001b[34m => CACHED [7/7] COPY setup.sql /docker-entrypoint-initdb.d/setup.sql      0.0s\n",
      "\u001b[0m => exporting to image                                                     0.1s\n",
      "\u001b[34m => => exporting layers                                                    0.0s\n",
      "\u001b[0m => => writing image sha256:282ac100f3651016630b9fd6de31c77fecaf99e6b1ecc  0.0s\n",
      "\u001b[?25h\u001b[1A\u001b[1A\u001b[1A\u001b[1A\u001b[1A\u001b[1A\u001b[1A\u001b[1A\u001b[1A\u001b[1A\u001b[1A\u001b[1A\u001b[1A\u001b[1A\u001b[1A\u001b[1A\u001b[1A\u001b[1A\u001b[0G\u001b[?25l[+] Building 1.5s (12/12) FINISHED                                              \n",
      "\u001b[34m => [internal] load build definition from Dockerfile                       0.1s\n",
      "\u001b[0m\u001b[34m => => transferring dockerfile: 548B                                       0.0s\n",
      "\u001b[0m\u001b[34m => [internal] load .dockerignore                                          0.0s\n",
      "\u001b[0m\u001b[34m => => transferring context: 2B                                            0.0s\n",
      "\u001b[0m\u001b[34m => [internal] load metadata for docker.io/library/node:latest             1.2s\n",
      "\u001b[0m\u001b[34m => [internal] load build context                                          0.1s\n",
      "\u001b[0m\u001b[34m => => transferring context: 2.08kB                                        0.0s\n"
     ]
    },
    {
     "name": "stdout",
     "output_type": "stream",
     "text": [
      "\u001b[0m\u001b[34m => [1/7] FROM docker.io/library/node:latest@sha256:025d33d7797aaad52c0e3  0.0s\n",
      "\u001b[0m\u001b[34m => CACHED [2/7] RUN apt-get update                                        0.0s\n",
      "\u001b[0m\u001b[34m => CACHED [3/7] WORKDIR /lib/basic_server                                 0.0s\n",
      "\u001b[0m\u001b[34m => CACHED [4/7] COPY package.json package.json                            0.0s\n",
      "\u001b[0m\u001b[34m => CACHED [5/7] RUN npm install                                           0.0s\n",
      "\u001b[0m\u001b[34m => CACHED [6/7] COPY . .                                                  0.0s\n",
      "\u001b[0m\u001b[34m => CACHED [7/7] COPY setup.sql /docker-entrypoint-initdb.d/setup.sql      0.0s\n",
      "\u001b[0m\u001b[34m => exporting to image                                                     0.1s\n",
      "\u001b[0m\u001b[34m => => exporting layers                                                    0.0s\n",
      "\u001b[0m\u001b[34m => => writing image sha256:282ac100f3651016630b9fd6de31c77fecaf99e6b1ecc  0.0s\n",
      "\u001b[0m\u001b[34m => => naming to docker.io/library/basic-server-app                        0.0s\n",
      "\u001b[0m\u001b[?25h{\"level\":30,\"time\":1621940461816,\"pid\":1,\"hostname\":\"83836668cc91\",\"msg\":\"Server listening at http://0.0.0.0:3001\"}\n",
      "{\"level\":30,\"time\":1621940461817,\"pid\":1,\"hostname\":\"83836668cc91\",\"msg\":\"Listening http://0.0.0.0:3001\"}\n"
     ]
    },
    {
     "ename": "",
     "evalue": "137",
     "output_type": "error",
     "traceback": []
    }
   ],
   "source": [
    "# Add the bash commands for task 1 here\n",
    "docker build -t basic-server-app ../basic-server/  \n",
    "docker run  --ip=0.0.0.0 basic-server-app"
   ]
  },
  {
   "cell_type": "markdown",
   "metadata": {},
   "source": [
    "## Task 2\n",
    "You must now run the server with the database and prove it works.\n",
    "\n",
    "Open the 2 containers(server+db) in the same network. Remember that you are also running this Jupiter server in a container, so you must also add this one to the network.\n",
    "\n",
    "Remember that you must also setup the database with the [sql script](../basic-server/setup.sql). Check the [docker image documentation](https://hub.docker.com/_/mariadb) for the best way to do this.\n"
   ]
  },
  {
   "cell_type": "code",
   "execution_count": null,
   "metadata": {},
   "outputs": [],
   "source": [
    "# Add the bash commands for task 2 here\n",
    "\n",
    "# create the network\n",
    "docker network create basic-server-network "
   ]
  },
  {
   "cell_type": "code",
   "execution_count": null,
   "metadata": {},
   "outputs": [],
   "source": [
    "# add this container to the network\n",
    "docker run --name badass-jupyter -it --rm -v \"$(pwd)\":/usr/project -p 8888:8888 --network basic-server-network -v /var/run/docker.sock:/var/run/docker.sock mihai1voicescu/badass-jupyter\n"
   ]
  },
  {
   "cell_type": "code",
   "execution_count": 26,
   "metadata": {},
   "outputs": [
    {
     "name": "stdout",
     "output_type": "stream",
     "text": [
      "047619206b07cb163f844e9a823e35daa094ac768ec3c62708c55d0dbaeff2b5\n"
     ]
    }
   ],
   "source": [
    "# run mariadb\n",
    "docker run -p 127.0.0.1:3306:3306 --network basic-server-network --rm --name mariadb -e MARIADB_ROOT_PASSWORD=pass -d mariadb:latest\n"
   ]
  },
  {
   "cell_type": "code",
   "execution_count": null,
   "metadata": {},
   "outputs": [
    {
     "name": "stdout",
     "output_type": "stream",
     "text": [
      "{\"level\":30,\"time\":1621941643123,\"pid\":1,\"hostname\":\"c14c8b3e7cf0\",\"msg\":\"Server listening at http://0.0.0.0:3001\"}\n",
      "{\"level\":30,\"time\":1621941643123,\"pid\":1,\"hostname\":\"c14c8b3e7cf0\",\"msg\":\"Listening http://0.0.0.0:3001\"}\n"
     ]
    }
   ],
   "source": [
    "# run basic-server\n",
    "docker run  -p 127.0.0.1:3001:3001 --network basic-server-network --rm --name basic-server basic-server-app\n"
   ]
  },
  {
   "cell_type": "code",
   "execution_count": null,
   "metadata": {},
   "outputs": [],
   "source": [
    "# Do not alter, should return our admin gogu\n",
    "curl basic-server:3001"
   ]
  },
  {
   "cell_type": "code",
   "execution_count": null,
   "metadata": {},
   "outputs": [],
   "source": []
  }
 ],
 "metadata": {
  "kernelspec": {
   "display_name": "Bash",
   "language": "bash",
   "name": "bash"
  },
  "language_info": {
   "codemirror_mode": "shell",
   "file_extension": ".sh",
   "mimetype": "text/x-sh",
   "name": "bash"
  }
 },
 "nbformat": 4,
 "nbformat_minor": 2
}
