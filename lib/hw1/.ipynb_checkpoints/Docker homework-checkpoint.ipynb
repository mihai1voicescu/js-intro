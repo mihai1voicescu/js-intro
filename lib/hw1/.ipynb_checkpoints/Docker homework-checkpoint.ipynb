{
 "cells": [
  {
   "cell_type": "markdown",
   "metadata": {},
   "source": [
    "# Docker homework"
   ]
  },
  {
   "cell_type": "markdown",
   "metadata": {},
   "source": [
    "In the demo you were shown how a Containerfile/Dockerfile looks like. You were also shown how to run containers and networks.\n",
    "\n",
    "You were also provided with an example server of NodeJS.\n",
    "\n",
    "Please provide the answers in this notebook"
   ]
  },
  {
   "cell_type": "markdown",
   "metadata": {},
   "source": [
    "## Warning\n",
    "Be sure to run it from the root so all files are avaiable to the notebook"
   ]
  },
  {
   "cell_type": "markdown",
   "metadata": {},
   "source": [
    "## Task 1\n",
    "Create a Dockerfile for the NodeJS server found in [basic-server](../basic-server).\n",
    "\n",
    "You must edit the [Dockerfile](./Dockerfile) found in this folder.\n",
    "\n",
    "Remember to also bundle the dependecies listed in the package.json in the resulting image."
   ]
  },
  {
   "cell_type": "code",
   "execution_count": 1,
   "metadata": {},
   "outputs": [
    {
     "name": "stdout",
     "output_type": "stream",
     "text": [
      "# start from a base image\n",
      "FROM node:latest\n",
      "\n",
      "# run various command, ussualy installs\n",
      "RUN apt-get update\n",
      "RUN apt-get install -y python3 python3-notebook jupyter jupyter-core docker-compose\n",
      "\n",
      "RUN pip3 install pyzmq bash_kernel\n",
      "RUN npm i -g ijavascript\n",
      "RUN ijsinstall\n",
      "RUN python3 -m bash_kernel.install\n",
      "\n",
      "RUN apt-get update\n",
      "\n",
      "RUN apt-get install -y \\\n",
      "    apt-transport-https \\\n",
      "    ca-certificates \\\n",
      "    curl \\\n",
      "    gnupg \\\n",
      "    lsb-release\n",
      "\n",
      "RUN curl -fsSL https://get.docker.com -o /get-docker.sh\n",
      "\n",
      "RUN sh /get-docker.sh\n",
      "\n",
      "# final comand to run\n",
      "CMD jupyter notebook /usr/project --ip=0.0.0.0 --allow-root --NotebookApp.token='' --NotebookApp.password=''\n",
      "\n",
      "\n"
     ]
    }
   ],
   "source": [
    "# as an example check this out\n",
    "cat ../badass-jupyter/Dockerfile"
   ]
  },
  {
   "cell_type": "code",
   "execution_count": 2,
   "metadata": {},
   "outputs": [
    {
     "name": "stdout",
     "output_type": "stream",
     "text": [
      "cat: ./Dockerfile: No such file or directory\n"
     ]
    },
    {
     "ename": "",
     "evalue": "1",
     "output_type": "error",
     "traceback": []
    }
   ],
   "source": [
    "# Do not alter\n",
    "cat ./Dockerfile"
   ]
  },
  {
   "cell_type": "code",
   "execution_count": 1,
   "metadata": {},
   "outputs": [
    {
     "name": "stdout",
     "output_type": "stream",
     "text": [
      "\u001b[1A\u001b[1B\u001b[0G\u001b[?25l[+] Building 0.0s (0/1)                                                         \n",
      "\u001b[?25h\u001b[1A\u001b[0G\u001b[?25l[+] Building 0.2s (2/3)                                                         \n",
      "\u001b[34m => [internal] load build definition from Dockerfile                       0.0s\n",
      "\u001b[0m\u001b[34m => => transferring dockerfile: 167B                                       0.0s\n",
      "\u001b[0m\u001b[34m => [internal] load .dockerignore                                          0.0s\n",
      "\u001b[0m\u001b[34m => => transferring context: 2B                                            0.0s\n",
      "\u001b[0m => [internal] load metadata for docker.io/library/node:latest             0.1s\n",
      "\u001b[?25h\u001b[1A\u001b[1A\u001b[1A\u001b[1A\u001b[1A\u001b[1A\u001b[0G\u001b[?25l[+] Building 0.3s (2/3)                                                         \n",
      "\u001b[34m => [internal] load build definition from Dockerfile                       0.0s\n",
      "\u001b[0m\u001b[34m => => transferring dockerfile: 167B                                       0.0s\n",
      "\u001b[0m\u001b[34m => [internal] load .dockerignore                                          0.0s\n",
      "\u001b[0m\u001b[34m => => transferring context: 2B                                            0.0s\n",
      "\u001b[0m => [internal] load metadata for docker.io/library/node:latest             0.2s\n",
      "\u001b[?25h\u001b[1A\u001b[1A\u001b[1A\u001b[1A\u001b[1A\u001b[1A\u001b[0G\u001b[?25l[+] Building 0.5s (2/3)                                                         \n",
      "\u001b[34m => [internal] load build definition from Dockerfile                       0.0s\n",
      "\u001b[0m\u001b[34m => => transferring dockerfile: 167B                                       0.0s\n",
      "\u001b[0m\u001b[34m => [internal] load .dockerignore                                          0.0s\n",
      "\u001b[0m\u001b[34m => => transferring context: 2B                                            0.0s\n",
      "\u001b[0m => [internal] load metadata for docker.io/library/node:latest             0.4s\n",
      "\u001b[?25h\u001b[1A\u001b[1A\u001b[1A\u001b[1A\u001b[1A\u001b[1A\u001b[0G\u001b[?25l[+] Building 0.6s (2/3)                                                         \n",
      "\u001b[34m => [internal] load build definition from Dockerfile                       0.0s\n",
      "\u001b[0m\u001b[34m => => transferring dockerfile: 167B                                       0.0s\n",
      "\u001b[0m\u001b[34m => [internal] load .dockerignore                                          0.0s\n",
      "\u001b[0m\u001b[34m => => transferring context: 2B                                            0.0s\n",
      "\u001b[0m => [internal] load metadata for docker.io/library/node:latest             0.5s\n",
      "\u001b[?25h\u001b[1A\u001b[1A\u001b[1A\u001b[1A\u001b[1A\u001b[1A\u001b[0G\u001b[?25l[+] Building 0.7s (3/3)                                                         \n",
      "\u001b[34m => [internal] load build definition from Dockerfile                       0.0s\n",
      "\u001b[0m\u001b[34m => => transferring dockerfile: 167B                                       0.0s\n",
      "\u001b[0m\u001b[34m => [internal] load .dockerignore                                          0.0s\n",
      "\u001b[0m\u001b[34m => => transferring context: 2B                                            0.0s\n",
      "\u001b[0m\u001b[34m => [internal] load metadata for docker.io/library/node:latest             0.7s\n",
      "\u001b[0m\u001b[?25h\u001b[1A\u001b[1A\u001b[1A\u001b[1A\u001b[1A\u001b[1A\u001b[0G\u001b[?25l[+] Building 0.8s (10/10) FINISHED                                              \n",
      "\u001b[34m => [internal] load build definition from Dockerfile                       0.0s\n",
      "\u001b[0m\u001b[34m => => transferring dockerfile: 167B                                       0.0s\n",
      "\u001b[0m\u001b[34m => [internal] load .dockerignore                                          0.0s\n",
      "\u001b[0m\u001b[34m => => transferring context: 2B                                            0.0s\n",
      "\u001b[0m\u001b[34m => [internal] load metadata for docker.io/library/node:latest             0.7s\n",
      "\u001b[0m\u001b[34m => [1/5] FROM docker.io/library/node:latest@sha256:025d33d7797aaad52c0e3  0.0s\n",
      "\u001b[0m\u001b[34m => [internal] load build context                                          0.1s\n",
      "\u001b[0m\u001b[34m => => transferring context: 121.70kB                                      0.1s\n",
      "\u001b[0m\u001b[34m => CACHED [2/5] WORKDIR /usr/src/app                                      0.0s\n",
      "\u001b[0m\u001b[34m => CACHED [3/5] COPY package*.json ./                                     0.0s\n",
      "\u001b[0m\u001b[34m => CACHED [4/5] RUN npm install                                           0.0s\n",
      "\u001b[0m\u001b[34m => CACHED [5/5] COPY . .                                                  0.0s\n",
      "\u001b[0m\u001b[34m => exporting to image                                                     0.0s\n",
      "\u001b[0m\u001b[34m => => exporting layers                                                    0.0s\n",
      "\u001b[0m\u001b[34m => => writing image sha256:d2d2c1c240912953812f6d2218ca534a1bc5838eb705e  0.0s\n",
      "\u001b[0m\u001b[34m => => naming to docker.io/robe/homework                                   0.0s\n",
      "\u001b[0m\u001b[?25hf1a62207a21dbc42f408d8c62619d2d05165506dd1b141f23244eeffd9118a1c\n"
     ]
    }
   ],
   "source": [
    "# Add the bash commands for task 1 here\n",
    "# pwd\n",
    "cd ../basic-server\n",
    "docker build . -t robe/homework\n",
    "\n",
    "docker run -itd --network=awesome-network -p 3000:3001 --name basic-server -d robe/homework"
   ]
  },
  {
   "cell_type": "markdown",
   "metadata": {},
   "source": [
    "## Task 2\n",
    "You must now run the server with the database and prove it works.\n",
    "\n",
    "Open the 2 containers(server+db) in the same network, and map the port of the server so we can access it from 3000.\n",
    "\n",
    "Remember that you must also setup the database with the [sql script](../basic-server/setup.sql). Check the [docker image documentation](https://hub.docker.com/_/mariadb) for the best way to do this.\n"
   ]
  },
  {
   "cell_type": "code",
   "execution_count": 2,
   "metadata": {},
   "outputs": [
    {
     "name": "stdout",
     "output_type": "stream",
     "text": [
      "\u001b[1A\u001b[1B\u001b[0G\u001b[?25l[+] Building 0.0s (0/1)                                                         \n",
      "\u001b[?25h\u001b[1A\u001b[0G\u001b[?25l[+] Building 0.1s (6/7)                                                         \n",
      "\u001b[34m => [internal] load build definition from Dockerfile                       0.0s\n",
      "\u001b[0m\u001b[34m => => transferring dockerfile: 107B                                       0.0s\n",
      "\u001b[0m\u001b[34m => [internal] load .dockerignore                                          0.0s\n",
      "\u001b[0m\u001b[34m => => transferring context: 2B                                            0.0s\n",
      "\u001b[0m\u001b[34m => [internal] load metadata for docker.io/library/mariadb:latest          0.0s\n",
      "\u001b[0m\u001b[34m => [internal] load build context                                          0.0s\n",
      "\u001b[0m\u001b[34m => => transferring context: 291B                                          0.0s\n",
      "\u001b[0m\u001b[34m => [1/2] FROM docker.io/library/mariadb:latest                            0.0s\n",
      "\u001b[0m\u001b[34m => CACHED [2/2] COPY setup.sql /docker-entrypoint-initdb.d/               0.0s\n",
      "\u001b[0m => exporting to image                                                     0.0s\n",
      "\u001b[34m => => exporting layers                                                    0.0s\n",
      "\u001b[0m => => writing image sha256:211b108171fcf88d951f1646f37da9f7ef6fb4bd15d87  0.0s\n",
      "\u001b[?25h\u001b[1A\u001b[1A\u001b[1A\u001b[1A\u001b[1A\u001b[1A\u001b[1A\u001b[1A\u001b[1A\u001b[1A\u001b[1A\u001b[1A\u001b[1A\u001b[0G\u001b[?25l[+] Building 0.1s (7/7) FINISHED                                                \n",
      "\u001b[34m => [internal] load build definition from Dockerfile                       0.0s\n",
      "\u001b[0m\u001b[34m => => transferring dockerfile: 107B                                       0.0s\n",
      "\u001b[0m\u001b[34m => [internal] load .dockerignore                                          0.0s\n",
      "\u001b[0m\u001b[34m => => transferring context: 2B                                            0.0s\n",
      "\u001b[0m\u001b[34m => [internal] load metadata for docker.io/library/mariadb:latest          0.0s\n",
      "\u001b[0m\u001b[34m => [internal] load build context                                          0.0s\n",
      "\u001b[0m\u001b[34m => => transferring context: 291B                                          0.0s\n",
      "\u001b[0m\u001b[34m => [1/2] FROM docker.io/library/mariadb:latest                            0.0s\n",
      "\u001b[0m\u001b[34m => CACHED [2/2] COPY setup.sql /docker-entrypoint-initdb.d/               0.0s\n",
      "\u001b[0m\u001b[34m => exporting to image                                                     0.0s\n",
      "\u001b[0m\u001b[34m => => exporting layers                                                    0.0s\n",
      "\u001b[0m\u001b[34m => => writing image sha256:211b108171fcf88d951f1646f37da9f7ef6fb4bd15d87  0.0s\n",
      "\u001b[0m\u001b[34m => => naming to docker.io/robe/mariadb                                    0.0s\n",
      "\u001b[0m\u001b[?25h01a9dea8190ceec3d6690eed4577b9e72b114a0af5f929f2fcc5bd8deb043daa\n"
     ]
    }
   ],
   "source": [
    "cd data/\n",
    "docker build . -t robe/mariadb\n",
    "docker run -p 127.0.0.1:3306:3306 --network=awesome-network  --rm --name mariadb -e MARIADB_ROOT_PASSWORD=pass -d robe/mariadb"
   ]
  },
  {
   "cell_type": "code",
   "execution_count": 3,
   "metadata": {},
   "outputs": [],
   "source": [
    "# Add the bash commands for task 2 here\n",
    "# docker-compose -f docker-compose.yml up -d"
   ]
  },
  {
   "cell_type": "code",
   "execution_count": 6,
   "metadata": {},
   "outputs": [
    {
     "name": "stdout",
     "output_type": "stream",
     "text": [
      "[{\"id\":1,\"name\":\"gogu\",\"type\":\"ADMIN\"}]"
     ]
    }
   ],
   "source": [
    "# Do not alter, should return our admin gogu\n",
    "curl basic-server:3001"
   ]
  },
  {
   "cell_type": "code",
   "execution_count": null,
   "metadata": {},
   "outputs": [],
   "source": []
  },
  {
   "cell_type": "code",
   "execution_count": null,
   "metadata": {},
   "outputs": [],
   "source": []
  }
 ],
 "metadata": {
  "kernelspec": {
   "display_name": "Bash",
   "language": "bash",
   "name": "bash"
  },
  "language_info": {
   "codemirror_mode": "shell",
   "file_extension": ".sh",
   "mimetype": "text/x-sh",
   "name": "bash"
  }
 },
 "nbformat": 4,
 "nbformat_minor": 2
}
