{
 "cells": [
  {
   "cell_type": "markdown",
   "metadata": {},
   "source": [
    "# JavaScript homework"
   ]
  },
  {
   "cell_type": "markdown",
   "metadata": {},
   "source": [
    "## Task 1\n",
    "\n",
    "Read\n",
    "\n",
    "https://nodejs.org/en/docs/guides/blocking-vs-non-blocking/\n",
    "\n",
    "https://nodejs.org/en/docs/guides/event-loop-timers-and-nexttick/\n",
    "\n",
    "https://nodejs.org/en/docs/guides/dont-block-the-event-loop/\n",
    "\n",
    "https://nodejs.org/en/docs/guides/timers-in-node/\n",
    "\n",
    "\n",
    "\n",
    "https://nodejs.dev/learn/the-nodejs-event-loop\n",
    "\n",
    "https://nodejs.dev/learn/understanding-process-nexttick\n",
    "\n",
    "https://nodejs.dev/learn/understanding-setimmediate\n",
    "\n",
    "https://nodejs.dev/learn/discover-javascript-timers\n",
    "\n",
    "https://nodejs.dev/learn/javascript-asynchronous-programming-and-callbacks\n",
    "\n",
    "https://nodejs.dev/learn/understanding-javascript-promises\n",
    "\n",
    "https://nodejs.dev/learn/modern-asynchronous-javascript-with-async-and-await\n",
    "\n",
    "https://nodejs.dev/learn/the-nodejs-event-emitter\n",
    "\n",
    "https://nodejs.dev/learn/error-handling-in-nodejs\n",
    "\n",
    "\n",
    "\n",
    "This will be very relevant to you no matter the team you are in.\n",
    "\n",
    "Answer the following open question: why is NodeJS so good for I/O intensive programs such as servers?\n",
    "\n",
    "Note: If you have time almost all the lectures in https://nodejs.dev/learn/ seem relevant and well made"
   ]
  },
  {
   "cell_type": "code",
   "execution_count": 1,
   "metadata": {},
   "outputs": [
    {
     "name": "stdout",
     "output_type": "stream",
     "text": [
      "Since almost no function in Node directly performs I/O, the process never blocks (I/O operations are offloaded and executed asynchronously in the system), making it a good choice to develop highly scalable systems. Due to its event-driven, single-threaded event loop and asynchronous non-blocking I/O model,\n"
     ]
    }
   ],
   "source": [
    "function answer() {\n",
    "    // print out the answer here, using the JavaScript command for printing stuff\n",
    "    console.log(\"Since almost no function in Node directly performs I/O, the process never blocks (I/O operations are offloaded and executed asynchronously in the system), making it a good choice to develop highly scalable systems. Due to its event-driven, single-threaded event loop and asynchronous non-blocking I/O model,\")\n",
    "}\n",
    "answer();"
   ]
  },
  {
   "cell_type": "markdown",
   "metadata": {},
   "source": [
    "## Task 2\n",
    "\n",
    "Create a class hierarchy related to a school catalog. The minimum classes should be:\n",
    "\n",
    "* Person\n",
    "  * Employee\n",
    "\t* Teacher\n",
    "\t\t* DepartmentHead\n",
    "\t* Administrator\n",
    "\t* ProDean\n",
    "  \t\t* Dean\n",
    "  * Student\n",
    "  \n",
    "Give them some miscellaneous properties and methods, such as (name, birthDate, grades etc and fire(),\n",
    "promote(), evaluateStudent() etc).\n",
    "\n",
    "Create one version with the \"class\" keyword and one in the explicit \"prototype\" + \"function\" way"
   ]
  },
  {
   "cell_type": "code",
   "execution_count": 2,
   "metadata": {},
   "outputs": [],
   "source": [
    "// add the code for the classes here\n",
    "\n",
    "//class version \n",
    "class Person {\n",
    "  constructor(first, last, age, gender, interests) {\n",
    "    this.name = {\n",
    "      first,\n",
    "      last\n",
    "    };\n",
    "    this.age = age;\n",
    "    this.gender = gender;\n",
    "    this.interests = interests;\n",
    "  }\n",
    "  greeting() {\n",
    "    console.log(`Hi! I'm ${this.name.first}`);\n",
    "  };\n",
    "\n",
    "  farewell() {\n",
    "    console.log(`${this.name.first} says goodbye!`);\n",
    "  };\n",
    "}\n",
    "class Employee extends Person{\n",
    "    constructor(first, last, age, gender, interests,wage){\n",
    "        super(first, last, age, gender, interests);\n",
    "        this.wage=wage;\n",
    "    }\n",
    "    tellWage(){\n",
    "        console.log(`${this.wage} is my wage `);\n",
    "    }\n",
    "}\n",
    "class Teacher extends Employee {\n",
    "    constructor(first, last, age, gender, interests,wage, subject, grade) {\n",
    "    super(first, last, age, gender, interests, wage);\n",
    "    this.subject = subject;\n",
    "    this.grade = grade;\n",
    "  }\n",
    "}\n",
    "class DepartmentHead extends Teacher{\n",
    "    constructor(first, last, age, gender, interests,wage, subject, grade, responsability){\n",
    "        super(first, last, age, gender, interests, wage,subject, grade);\n",
    "        this.responsability=responsability;\n",
    "    } \n",
    "}\n",
    "class Administrator extends Employee {\n",
    "    constructor(first, last, age, gender, interests,wage, subject, grade,administration) {\n",
    "    super(first, last, age, gender, interests, wage,subject, grade);\n",
    "    this.administration = administration;\n",
    "  }\n",
    "}\n",
    "class ProDean extends Employee {\n",
    "    constructor(first, last, age, gender, interests,wage, subject, grade, authority) {\n",
    "    super(first, last, age, gender, interests, wage,subject, grade);\n",
    "    this.authority=authority;\n",
    "  }\n",
    "}\n",
    "class Dean extends ProDean{\n",
    "     constructor(first, last, age, gender, interests,wage, subject, grade, authority) {\n",
    "    super(first, last, age, gender, interests, wage,subject, grade,authority);\n",
    "  }\n",
    "    greeting() {\n",
    "    console.log(`Hi! I'm ${this.name.first} and I'm a dean`);\n",
    "  };\n",
    "}\n",
    "class Student extends Person{\n",
    "    constructor(first, last, age, gender, interests,alive){\n",
    "        super(first, last, age, gender, interests);\n",
    "        this.alive=alive;\n",
    "    }\n",
    "}"
   ]
  },
  {
   "cell_type": "code",
   "execution_count": 9,
   "metadata": {},
   "outputs": [
    {
     "name": "stdout",
     "output_type": "stream",
     "text": [
      "Hi! I'm Han\n"
     ]
    }
   ],
   "source": [
    "let han = new Person('Han', 'Solo', 25, 'male', ['Smuggling']);\n",
    "han.greeting();"
   ]
  },
  {
   "cell_type": "code",
   "execution_count": 4,
   "metadata": {},
   "outputs": [
    {
     "name": "stdout",
     "output_type": "stream",
     "text": [
      "Hi! I'm Andrei and I'm a dean\n"
     ]
    }
   ],
   "source": [
    "let Andreei = new Dean('Andrei','Popescu',24,'male',['running'],5000,'math','idk','idk');\n",
    "Andreei.greeting();"
   ]
  },
  {
   "cell_type": "code",
   "execution_count": 8,
   "metadata": {},
   "outputs": [
    {
     "data": {
      "text/plain": [
       "[Function (anonymous)]"
      ]
     },
     "execution_count": 8,
     "metadata": {},
     "output_type": "execute_result"
    }
   ],
   "source": [
    "// \"prototype\" + \"function\" version\n",
    "function Person1(first, last, age, gender, interests) {\n",
    "  this.name = {\n",
    "    first,\n",
    "    last\n",
    "  };\n",
    "  this.age = age;\n",
    "  this.gender = gender;\n",
    "  this.interests = interests;\n",
    "};\n",
    "Person1.prototype.greeting = function() {\n",
    "  console.log('Hi! I\\'m ' + this.name.first + '.');\n",
    "};\n",
    "\n",
    "function Employee1(first, last, age, gender, interests, wage) {\n",
    "  Employee1.call(this, first, last, age, gender, interests);\n",
    "  this.wage = wage;\n",
    "}\n",
    "\n",
    "Employee1.prototype = Object.create(Person1.prototype);\n",
    "Object.defineProperty(Employee1.prototype, 'constructor', {\n",
    "    value: Employee1,\n",
    "    enumerable: false, // so that it does not appear in 'for in' loop\n",
    "    writable: true });\n",
    "\n",
    "Employee1.prototype.greeting = function() {\n",
    "  console.log('Hello. I am an employee , my name is '  + ' ' + this.name.last+' .');\n",
    "};\n",
    "\n",
    "function Teacher1(first, last, age, gender, interests, wage, subject) {\n",
    "  Employee1.call(this, first, last, age, gender, interests,wage);\n",
    "  this.subject = subject;\n",
    "}\n",
    "Teacher1.prototype = Object.create(Employee1.prototype);\n",
    "Object.defineProperty(Teacher1.prototype, 'constructor', {\n",
    "    value: Teacher1,\n",
    "    enumerable: false, // so that it does not appear in 'for in' loop\n",
    "    writable: true });\n",
    "Teacher1.prototype.greeting = function() {\n",
    "  console.log('Hello. My name is '  + ' ' + this.name.last + ', and I teach ' + this.subject + '.');\n",
    "};\n",
    "\n",
    "function DepartmentHead1(first, last, age, gender, interests, wage, departm) {\n",
    "  Teacher1.call(this, first, last, age, gender, interests,wage,subject);\n",
    "  this.departm = departm;\n",
    "}\n",
    "DepartmentHead1.prototype = Object.create(Teacher1.prototype);\n",
    "Object.defineProperty(DepartmentHead1.prototype, 'constructor', {\n",
    "    value: DepartmentHead1,\n",
    "    enumerable: false, // so that it does not appear in 'for in' loop\n",
    "    writable: true });\n",
    "\n",
    "function Administrator1(first, last, age, gender, interests, wage, admin) {\n",
    "  Employee1.call(this, first, last, age, gender, interests,wage);\n",
    "  this.admin = admin;\n",
    "}\n",
    "Administrator1.prototype = Object.create(Employee1.prototype);\n",
    "Object.defineProperty(Administrator1.prototype, 'constructor', {\n",
    "    value: Administrator1,\n",
    "    enumerable: false, // so that it does not appear in 'for in' loop\n",
    "    writable: true });\n",
    "\n",
    "function ProDean1(first, last, age, gender, interests, wage, admin) {\n",
    "  Employee1.call(this, first, last, age, gender, interests,wage);\n",
    "  this.admin = admin;\n",
    "}\n",
    "ProDean1.prototype = Object.create(Employee1.prototype);\n",
    "Object.defineProperty(ProDean1.prototype, 'constructor', {\n",
    "    value: ProDean1,\n",
    "    enumerable: false, // so that it does not appear in 'for in' loop\n",
    "    writable: true });\n",
    "\n",
    "function Dean1(first, last, age, gender, interests, wage, admin) {\n",
    " ProDean1.call(this, first, last, age, gender, interests,wage,admin);\n",
    "}\n",
    "Dean1.prototype = Object.create(ProDean1.prototype);\n",
    "Object.defineProperty(Dean1.prototype, 'constructor', {\n",
    "    value: Dean1,\n",
    "    enumerable: false, // so that it does not appear in 'for in' loop\n",
    "    writable: true });\n",
    "\n",
    "function Student1(first, last, age, gender, interests, alive) {\n",
    "  Employee1.call(this, first, last, age, gender, interests);\n",
    "  this.alive = alive;\n",
    "}\n",
    "Student1.prototype = Object.create(Person1.prototype);\n",
    "Object.defineProperty(Student1.prototype, 'constructor', {\n",
    "    value: Student1,\n",
    "    enumerable: false, // so that it does not appear in 'for in' loop\n",
    "    writable: true });\n",
    "Student1.prototype.greeting = function() {\n",
    "  console.log('Hello. I am a student, my name is '  + ' ' + this.name.last+' .');\n",
    "};\n"
   ]
  },
  {
   "cell_type": "code",
   "execution_count": 2,
   "metadata": {},
   "outputs": [
    {
     "data": {
      "text/plain": [
       "[Function (anonymous)]"
      ]
     },
     "execution_count": 2,
     "metadata": {},
     "output_type": "execute_result"
    }
   ],
   "source": [
    "// \"prototype\" + \"function\" version\n",
    "function Person2(first, last, age, gender, interests) {\n",
    "  this.name = {\n",
    "    first,\n",
    "    last\n",
    "  };\n",
    "  this.age = age;\n",
    "  this.gender = gender;\n",
    "  this.interests = interests;\n",
    "};\n",
    "Person2.prototype.greeting = function() {\n",
    "  console.log('Hi! I\\'m ' + this.name.first + '.');\n",
    "};\n",
    "\n",
    "function Teacher2(first, last, age, gender, interests, subject) {\n",
    "  Person2.call(this, first, last, age, gender, interests);\n",
    "\n",
    "  this.subject = subject;\n",
    "}\n",
    "Teacher2.prototype = Object.create(Person2.prototype);\n",
    "Object.defineProperty(Teacher2.prototype, 'constructor', {\n",
    "    value: Teacher2,\n",
    "    enumerable: false, // so that it does not appear in 'for in' loop\n",
    "    writable: true });\n",
    "\n",
    "Teacher2.prototype.greeting = function() {\n",
    "  console.log('Hello. My name is '  + ' ' + this.name.last + ', and I teach ' + this.subject + '.');\n",
    "};\n",
    "\n"
   ]
  },
  {
   "cell_type": "code",
   "execution_count": 3,
   "metadata": {},
   "outputs": [
    {
     "data": {
      "text/plain": [
       "[ 'constructor', 'greeting' ]"
      ]
     },
     "execution_count": 3,
     "metadata": {},
     "output_type": "execute_result"
    }
   ],
   "source": [
    "Object.getOwnPropertyNames(Teacher2.prototype);\n",
    "Object.getOwnPropertyNames(Person2.prototype)"
   ]
  },
  {
   "cell_type": "code",
   "execution_count": 4,
   "metadata": {},
   "outputs": [
    {
     "data": {
      "text/plain": [
       "[Function: Teacher2]"
      ]
     },
     "execution_count": 4,
     "metadata": {},
     "output_type": "execute_result"
    }
   ],
   "source": [
    "Person2.prototype.constructor;\n",
    "Teacher2.prototype.constructor;"
   ]
  },
  {
   "cell_type": "code",
   "execution_count": 6,
   "metadata": {},
   "outputs": [],
   "source": [
    "let teacher3 = new Teacher2('Dave', 'Griffiths', 31, 'male', ['football', 'cookery'], 'mathematics');"
   ]
  },
  {
   "cell_type": "code",
   "execution_count": 7,
   "metadata": {},
   "outputs": [
    {
     "name": "stdout",
     "output_type": "stream",
     "text": [
      "Hello. My name is  Griffiths, and I teach mathematics.\n"
     ]
    }
   ],
   "source": [
    "teacher3.name.first;\n",
    "teacher3.interests[0];\n",
    "// teacher2.bio();\n",
    "teacher3.subject;\n",
    "teacher3.greeting();\n",
    "// teacher3.farewell();"
   ]
  },
  {
   "cell_type": "code",
   "execution_count": null,
   "metadata": {},
   "outputs": [],
   "source": []
  }
 ],
 "metadata": {
  "kernelspec": {
   "display_name": "Javascript (Node.js)",
   "language": "javascript",
   "name": "javascript"
  },
  "language_info": {
   "file_extension": ".js",
   "mimetype": "application/javascript",
   "name": "javascript",
   "version": "16.2.0"
  }
 },
 "nbformat": 4,
 "nbformat_minor": 2
}
